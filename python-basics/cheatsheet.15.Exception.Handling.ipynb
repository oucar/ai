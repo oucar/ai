{
 "cells": [
  {
   "cell_type": "markdown",
   "id": "281db0e9",
   "metadata": {},
   "source": [
    "# Python Exception Handling\n",
    "\n",
    "[Exception handling](https://en.wikipedia.org/wiki/Exception_handling)\n",
    "\n",
    "In computing and computer programming, exception handling is the process of responding to the occurrence of exceptions – anomalous or exceptional conditions requiring special processing.\n",
    "\n",
    "Python has many [built-in exceptions](https://docs.python.org/3/library/exceptions.html) that are raised when a program encounters an error, and most external libraries, like the popular [Requests](https://requests.readthedocs.io/en/latest), include his own [custom exceptions](https://requests.readthedocs.io/en/latest/user/quickstart/#errors-and-exceptions) that we will need to deal to.\n",
    "\n",
    "## Basic exception handling\n",
    "\n",
    "You can’t divide by zero, that is a mathematical true, and if you try to do it in Python, the interpreter will raise the built-in exception [ZeroDivisionError](https://docs.python.org/3/library/exceptions.html#ZeroDivisionError):"
   ]
  },
  {
   "cell_type": "code",
   "execution_count": null,
   "id": "85486829-fd04-4acf-83af-6c06fab7f07f",
   "metadata": {},
   "outputs": [],
   "source": [
    "def divide(dividend , divisor):\n",
    "    print(dividend / divisor)"
   ]
  },
  {
   "cell_type": "code",
   "execution_count": null,
   "id": "9d91a18b-9d65-4b65-ac1e-63fb01e47a3a",
   "metadata": {},
   "outputs": [],
   "source": [
    "divide(dividend=10, divisor=5)\n",
    "# 5"
   ]
  },
  {
   "cell_type": "code",
   "execution_count": null,
   "id": "75f51f94-55f2-4d49-ab3a-626248c33005",
   "metadata": {},
   "outputs": [],
   "source": [
    "divide(dividend=10, divisor=0)\n",
    "# Traceback (most recent call last):\n",
    "#   File \"<stdin>\", line 1, in <module>\n",
    "# ZeroDivisionError: division by zero"
   ]
  },
  {
   "cell_type": "markdown",
   "id": "f6515506",
   "metadata": {},
   "source": [
    "Let’s say we don’t want our program to stop its execution or show the user an output he will not understand. Say we want to print a useful and clear message, then we need to ***handle\\*** the exception with the `try` and `except` keywords:"
   ]
  },
  {
   "cell_type": "code",
   "execution_count": null,
   "id": "94c945c4-f7a6-47a8-a825-d87218a5c4f4",
   "metadata": {},
   "outputs": [],
   "source": [
    "def divide(dividend , divisor):\n",
    "    try:\n",
    "        print(dividend / divisor)\n",
    "    except ZeroDivisionError:\n",
    "        print('You can not divide by 0')"
   ]
  },
  {
   "cell_type": "code",
   "execution_count": null,
   "id": "c73a6702-fcdf-413c-b756-3923f00ff264",
   "metadata": {},
   "outputs": [],
   "source": [
    "divide(dividend=10, divisor=5)\n",
    "# 5"
   ]
  },
  {
   "cell_type": "code",
   "execution_count": null,
   "id": "f6afccdf-8b10-4370-addc-52780d25fb9e",
   "metadata": {},
   "outputs": [],
   "source": [
    "divide(dividend=10, divisor=0)\n",
    "# You can not divide by 0"
   ]
  },
  {
   "cell_type": "markdown",
   "id": "1bca8b9b",
   "metadata": {},
   "source": [
    "## Handling Multiple exceptions using one exception block\n",
    "\n",
    "You can also handle multiple exceptions in one line like the following without the need to create multiple exception blocks."
   ]
  },
  {
   "cell_type": "code",
   "execution_count": null,
   "id": "754b1fda-cf9b-4927-b54d-a0f397f09f59",
   "metadata": {},
   "outputs": [],
   "source": [
    "def divide(dividend , divisor):\n",
    "    try:\n",
    "        var = 'str' + 1\n",
    "        print(dividend / divisor)\n",
    "    except (ZeroDivisionError, TypeError) as error:\n",
    "        print(error)"
   ]
  },
  {
   "cell_type": "code",
   "execution_count": null,
   "id": "27636006-c55b-4e99-8540-5142bd724d5a",
   "metadata": {},
   "outputs": [],
   "source": [
    "divide(dividend=10, divisor=5)\n",
    "# 5"
   ]
  },
  {
   "cell_type": "code",
   "execution_count": null,
   "id": "43524db4-ce88-4af5-9571-4bc3f6fd2e91",
   "metadata": {},
   "outputs": [],
   "source": [
    "divide(dividend=10, divisor=0)\n",
    "# `division by zero` Error message\n",
    "# `can only concatenate str (not \"int\") to str` Error message"
   ]
  },
  {
   "cell_type": "markdown",
   "id": "edcb4e53",
   "metadata": {},
   "source": [
    "## Finally code in exception handling\n",
    "\n",
    "The code inside the `finally` section is always executed, no matter if an exception has been raised or not:"
   ]
  },
  {
   "cell_type": "code",
   "execution_count": null,
   "id": "50eb69b1-fce9-4bb2-b6ce-c343358c811b",
   "metadata": {},
   "outputs": [],
   "source": [
    "def divide(dividend , divisor):\n",
    "    try:\n",
    "        print(dividend / divisor)\n",
    "    except ZeroDivisionError:\n",
    "        print('You can not divide by 0')\n",
    "    finally:\n",
    "        print('Execution finished')"
   ]
  },
  {
   "cell_type": "code",
   "execution_count": null,
   "id": "3f1dad34-1cb1-420b-9249-49955f59d4b0",
   "metadata": {},
   "outputs": [],
   "source": [
    "divide(dividend=10, divisor=5)\n",
    "# 5\n",
    "# Execution finished"
   ]
  },
  {
   "cell_type": "code",
   "execution_count": null,
   "id": "4dcdf1bb-c415-4e18-b7ba-64bc832de89e",
   "metadata": {},
   "outputs": [],
   "source": [
    "divide(dividend=10, divisor=0)\n",
    "# You can not divide by 0\n",
    "# Execution finished"
   ]
  },
  {
   "cell_type": "markdown",
   "id": "7f10a6ac",
   "metadata": {},
   "source": [
    "## Custom Exceptions\n",
    "\n",
    "Custom exceptions initialize by creating a `class` that inherits from the base `Exception` class of Python, and are raised using the `raise` keyword:"
   ]
  },
  {
   "cell_type": "code",
   "execution_count": null,
   "id": "80ba8617",
   "metadata": {},
   "outputs": [],
   "source": [
    "class MyCustomException(Exception):\n",
    "    pass\n",
    "\n",
    "    raise MyCustomException\n",
    "# Traceback (most recent call last):\n",
    "#   File \"<stdin>\", line 1, in <module>\n",
    "# __main__.MyCustomException"
   ]
  },
  {
   "cell_type": "markdown",
   "id": "dfcb4bc9",
   "metadata": {},
   "source": [
    "To declare a custom exception message, you can pass it as a parameter:"
   ]
  },
  {
   "cell_type": "code",
   "execution_count": null,
   "id": "10e27f0c",
   "metadata": {},
   "outputs": [],
   "source": [
    "class MyCustomException(Exception):\n",
    "    pass\n",
    "        \n",
    "    raise MyCustomException('A custom message for my custom exception')\n",
    "# Traceback (most recent call last):\n",
    "#   File \"<stdin>\", line 1, in <module>\n",
    "# __main__.MyCustomException: A custom message for my custom exception"
   ]
  },
  {
   "cell_type": "markdown",
   "id": "92288d8e",
   "metadata": {},
   "source": [
    "Handling a custom exception is the same as any other:"
   ]
  },
  {
   "cell_type": "code",
   "execution_count": null,
   "id": "920e7df8-6ee3-4dca-ac61-a7b85ff29044",
   "metadata": {},
   "outputs": [],
   "source": [
    "try:\n",
    "raise MyCustomException('A custom message for my custom exception')\n",
    "except MyCustomException:\n",
    "    print('My custom exception was raised')\n",
    "\n",
    "# My custom exception was raised"
   ]
  }
 ],
 "metadata": {
  "kernelspec": {
   "display_name": "Python 3 (ipykernel)",
   "language": "python",
   "name": "python3"
  },
  "language_info": {
   "codemirror_mode": {
    "name": "ipython",
    "version": 3
   },
   "file_extension": ".py",
   "mimetype": "text/x-python",
   "name": "python",
   "nbconvert_exporter": "python",
   "pygments_lexer": "ipython3",
   "version": "3.12.0"
  }
 },
 "nbformat": 4,
 "nbformat_minor": 5
}
