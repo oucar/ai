{
 "cells": [
  {
   "cell_type": "markdown",
   "id": "7cabcc95",
   "metadata": {},
   "source": [
    "# Python Random Module\n",
    "\n",
    "The [random](https://docs.python.org/3/library/random.html) module is a built-in module that allow us to generate random elements."
   ]
  },
  {
   "cell_type": "code",
   "execution_count": null,
   "id": "f06df511",
   "metadata": {},
   "outputs": [],
   "source": [
    "import random"
   ]
  },
  {
   "cell_type": "markdown",
   "id": "9c5a82ce",
   "metadata": {},
   "source": [
    "## seed()\n",
    "\n",
    "The `seed` method is used to initialize the random number generator."
   ]
  },
  {
   "cell_type": "code",
   "execution_count": null,
   "id": "f4a0c7c9",
   "metadata": {},
   "outputs": [],
   "source": [
    "random.seed(1)\n",
    "random.random()\n",
    "# 0.13436424411240122"
   ]
  },
  {
   "cell_type": "markdown",
   "id": "a09e6f6b",
   "metadata": {},
   "source": [
    "Setting the seed to a number will always return the same random number:"
   ]
  },
  {
   "cell_type": "code",
   "execution_count": null,
   "id": "3df0fdd7-977b-4f05-8b68-d6d0a2a5f056",
   "metadata": {},
   "outputs": [],
   "source": [
    "random.seed(1)\n",
    "random.random()\n",
    "# 0.13436424411240122"
   ]
  },
  {
   "cell_type": "code",
   "execution_count": null,
   "id": "b776c2cd-854e-48b7-99ba-5341b73fa12f",
   "metadata": {},
   "outputs": [],
   "source": [
    "random.seed(1)\n",
    "random.random()\n",
    "# 0.13436424411240122"
   ]
  },
  {
   "cell_type": "code",
   "execution_count": null,
   "id": "b13a9888-a785-4427-bebb-25bfe89e32d8",
   "metadata": {},
   "outputs": [],
   "source": [
    "random.seed(1)\n",
    "random.random()\n",
    "# 0.13436424411240122"
   ]
  },
  {
   "cell_type": "code",
   "execution_count": null,
   "id": "2d65f20e-bfdd-4487-9d03-dbe5d5298967",
   "metadata": {},
   "outputs": [],
   "source": [
    "random.seed(1)\n",
    "random.random()\n",
    "# 0.13436424411240122"
   ]
  },
  {
   "cell_type": "code",
   "execution_count": null,
   "id": "86240f28-bd2f-405d-b724-c54a77e8763c",
   "metadata": {},
   "outputs": [],
   "source": [
    "random.seed(1)\n",
    "random.random()\n",
    "# 0.13436424411240122"
   ]
  },
  {
   "cell_type": "markdown",
   "id": "e8f0b46a",
   "metadata": {},
   "source": [
    "The default value of the `seed` method is the *current system time*, that is why we always get a different number:"
   ]
  },
  {
   "cell_type": "code",
   "execution_count": null,
   "id": "b1a5d386-0596-4881-b7a0-a978e9772bb1",
   "metadata": {},
   "outputs": [],
   "source": [
    "random.random()\n",
    "# 0.8474337369372327"
   ]
  },
  {
   "cell_type": "code",
   "execution_count": null,
   "id": "c6201276-6949-4be5-8670-9005c8df00c6",
   "metadata": {},
   "outputs": [],
   "source": [
    "random.random()\n",
    "# 0.763774618976614"
   ]
  },
  {
   "cell_type": "code",
   "execution_count": null,
   "id": "6368213b-451f-429e-a5de-0d22d0ed344d",
   "metadata": {},
   "outputs": [],
   "source": [
    "random.random()\n",
    "# 0.2550690257394217"
   ]
  },
  {
   "cell_type": "markdown",
   "id": "591a336c",
   "metadata": {},
   "source": [
    "## randint()"
   ]
  },
  {
   "cell_type": "code",
   "execution_count": null,
   "id": "d17d0c1d",
   "metadata": {},
   "outputs": [],
   "source": [
    "random.randint(start: int, stop: int)"
   ]
  },
  {
   "cell_type": "markdown",
   "id": "d8580495",
   "metadata": {},
   "source": [
    "This method returns a random number between a given start and stop parameters:"
   ]
  },
  {
   "cell_type": "code",
   "execution_count": null,
   "id": "79237b56-e5e0-485e-b8e6-f46bfaa9205a",
   "metadata": {},
   "outputs": [],
   "source": [
    "random.randint(1, 5)\n",
    "# 3"
   ]
  },
  {
   "cell_type": "code",
   "execution_count": null,
   "id": "26bac9f3-674d-4eb2-b16e-0beae35a7772",
   "metadata": {},
   "outputs": [],
   "source": [
    "random.randint(1, 5)\n",
    "# 2"
   ]
  },
  {
   "cell_type": "code",
   "execution_count": null,
   "id": "43447299-ab04-4da5-9891-e66d3a09a86a",
   "metadata": {},
   "outputs": [],
   "source": [
    "random.randint(1, 5)\n",
    "# 5"
   ]
  },
  {
   "cell_type": "code",
   "execution_count": null,
   "id": "4b479af1-0601-4930-86a8-5ff51beb0ba0",
   "metadata": {},
   "outputs": [],
   "source": [
    "random.randint(1, 5)\n",
    "# 1"
   ]
  },
  {
   "cell_type": "code",
   "execution_count": null,
   "id": "489f6ef4-1841-46ad-a548-eeb6b4079671",
   "metadata": {},
   "outputs": [],
   "source": [
    "random.randint(1, 5)\n",
    "# 3"
   ]
  },
  {
   "cell_type": "code",
   "execution_count": null,
   "id": "d9deb907-d8e0-494b-94c0-8c5e414e8ec0",
   "metadata": {},
   "outputs": [],
   "source": [
    "random.randint(1, 5)\n",
    "# 1"
   ]
  },
  {
   "cell_type": "markdown",
   "id": "c29f6173",
   "metadata": {},
   "source": [
    "## choice()\n",
    "\n",
    "The `choice` method return a randomly selected element from an iterable, like a `list`, `set` or `str`:"
   ]
  },
  {
   "cell_type": "code",
   "execution_count": null,
   "id": "aa1eca20-4f3c-474d-86f4-991a314e9eb8",
   "metadata": {},
   "outputs": [],
   "source": [
    "random.choice([1, 2, 3, 4])\n",
    "# 1"
   ]
  },
  {
   "cell_type": "code",
   "execution_count": null,
   "id": "a60bad80-fe9e-4a40-b9f4-8b682e531267",
   "metadata": {},
   "outputs": [],
   "source": [
    "random.choice([1, 2, 3, 4])\n",
    "# 2"
   ]
  },
  {
   "cell_type": "code",
   "execution_count": null,
   "id": "2443f3b9-3a4f-4d2b-a319-763dbc0dd062",
   "metadata": {},
   "outputs": [],
   "source": [
    "random.choice([1, 2, 3, 4])\n",
    "# 4"
   ]
  },
  {
   "cell_type": "code",
   "execution_count": null,
   "id": "c90901a5-753a-407c-a277-8aa8f72582da",
   "metadata": {},
   "outputs": [],
   "source": [
    "random.choice([1, 2, 3, 4])\n",
    "# 4"
   ]
  },
  {
   "cell_type": "markdown",
   "id": "d312abfd",
   "metadata": {},
   "source": [
    "## shuffle()\n",
    "\n",
    "The `shuffle` method takes in an iterable and shuffle it:"
   ]
  },
  {
   "cell_type": "code",
   "execution_count": null,
   "id": "4e9bbbe8-2152-4b2c-a762-0d91edcdddd1",
   "metadata": {},
   "outputs": [],
   "source": [
    "my_list = [1, 2, 3, 4]"
   ]
  },
  {
   "cell_type": "code",
   "execution_count": null,
   "id": "f91ecdd8-1455-4eb0-81e5-95f176c4e0a0",
   "metadata": {},
   "outputs": [],
   "source": [
    "random.shuffle(my_list)\n",
    "my_list\n",
    "# [1, 4, 3, 2]"
   ]
  },
  {
   "cell_type": "code",
   "execution_count": null,
   "id": "19c804a1-54ea-4f54-bbdc-4e6def62055d",
   "metadata": {},
   "outputs": [],
   "source": [
    "random.shuffle(my_list)\n",
    "my_list\n",
    "# [2, 4, 3, 1]"
   ]
  },
  {
   "cell_type": "code",
   "execution_count": null,
   "id": "0cad5eaa-5c4d-42d1-ba26-71063fb7cfc7",
   "metadata": {},
   "outputs": [],
   "source": [
    "random.shuffle(my_list)\n",
    "my_list\n",
    "# [4, 2, 3, 1]"
   ]
  },
  {
   "cell_type": "markdown",
   "id": "4266592a",
   "metadata": {},
   "source": [
    "## sample()"
   ]
  },
  {
   "cell_type": "code",
   "execution_count": null,
   "id": "7b6363ae",
   "metadata": {},
   "outputs": [],
   "source": [
    "random.sample(iterable, k: int)"
   ]
  },
  {
   "cell_type": "markdown",
   "id": "a6d35158",
   "metadata": {},
   "source": [
    "`sample` returns a list with a random selection from an iterable. The number of elements returned is equal to the `k` parameter:"
   ]
  },
  {
   "cell_type": "code",
   "execution_count": null,
   "id": "993b143c-dc9d-4229-8795-42437f2b961f",
   "metadata": {},
   "outputs": [],
   "source": [
    "random.sample([1, 2, 3, 4], 1)\n",
    "# [3]"
   ]
  },
  {
   "cell_type": "code",
   "execution_count": null,
   "id": "f9320c40-7c47-49c5-a3b9-a370d4cf1276",
   "metadata": {},
   "outputs": [],
   "source": [
    "random.sample([1, 2, 3, 4], 2)\n",
    "# [3, 4]"
   ]
  },
  {
   "cell_type": "code",
   "execution_count": null,
   "id": "8d1ad05a-c53f-4b82-9834-59b6952e953f",
   "metadata": {},
   "outputs": [],
   "source": [
    "random.sample([1, 2, 3, 4], 3)\n",
    "# [4, 3, 2]"
   ]
  },
  {
   "cell_type": "code",
   "execution_count": null,
   "id": "3a38f4f7-6ded-4c7f-9c6a-a7309efbcdb5",
   "metadata": {},
   "outputs": [],
   "source": [
    "random.sample([1, 2, 3, 4], 4)\n",
    "# [1, 2, 4, 3]"
   ]
  },
  {
   "cell_type": "markdown",
   "id": "ea1c199f",
   "metadata": {},
   "source": [
    "## random()\n",
    "\n",
    "The `random` method returns a random floating point number between 0.0 and 1.0:"
   ]
  },
  {
   "cell_type": "code",
   "execution_count": null,
   "id": "7e9a5841-ef72-4271-a49d-8ebc75af8cf0",
   "metadata": {},
   "outputs": [],
   "source": [
    "random.random()\n",
    "# 0.4143139993007743"
   ]
  },
  {
   "cell_type": "code",
   "execution_count": null,
   "id": "9fde1001-a9e3-42f8-b541-cf98f35b0c64",
   "metadata": {},
   "outputs": [],
   "source": [
    "random.random()\n",
    "# 0.17300740157905092"
   ]
  },
  {
   "cell_type": "code",
   "execution_count": null,
   "id": "a2b0391e-7d1a-4bc1-a5e5-9299200c854d",
   "metadata": {},
   "outputs": [],
   "source": [
    "random.random()\n",
    "# 0.548798761388153"
   ]
  },
  {
   "cell_type": "code",
   "execution_count": null,
   "id": "c2963e05-59c6-43d3-b61f-81009f13631e",
   "metadata": {},
   "outputs": [],
   "source": [
    "random.random()\n",
    "# 0.7030407620656315"
   ]
  },
  {
   "cell_type": "markdown",
   "id": "08965f4e",
   "metadata": {},
   "source": [
    "## uniform()\n",
    "\n",
    "the `uniform` method is similar to `randint`, but return a floating point number:"
   ]
  },
  {
   "cell_type": "code",
   "execution_count": null,
   "id": "66a4a885-2778-4aa0-8e19-65fd33d524b1",
   "metadata": {},
   "outputs": [],
   "source": [
    "random.uniform(1, 5)\n",
    "# 3.697943322009309"
   ]
  },
  {
   "cell_type": "code",
   "execution_count": null,
   "id": "a78cf05e-3aaf-48e8-8200-4be4ecd6f65c",
   "metadata": {},
   "outputs": [],
   "source": [
    "random.uniform(1, 5)\n",
    "# 2.498812082006561"
   ]
  },
  {
   "cell_type": "code",
   "execution_count": null,
   "id": "ad0a4325-27f0-4154-940e-c2747adfc2dc",
   "metadata": {},
   "outputs": [],
   "source": [
    "random.uniform(1, 5)\n",
    "# 2.7558465201782525"
   ]
  },
  {
   "cell_type": "code",
   "execution_count": null,
   "id": "fba0b2ac-e5a4-4463-8e85-d3bf712d1757",
   "metadata": {},
   "outputs": [],
   "source": [
    "random.uniform(1, 5)\n",
    "# 3.0337059529999273"
   ]
  }
 ],
 "metadata": {
  "kernelspec": {
   "display_name": "Python 3 (ipykernel)",
   "language": "python",
   "name": "python3"
  },
  "language_info": {
   "codemirror_mode": {
    "name": "ipython",
    "version": 3
   },
   "file_extension": ".py",
   "mimetype": "text/x-python",
   "name": "python",
   "nbconvert_exporter": "python",
   "pygments_lexer": "ipython3",
   "version": "3.12.0"
  }
 },
 "nbformat": 4,
 "nbformat_minor": 5
}
