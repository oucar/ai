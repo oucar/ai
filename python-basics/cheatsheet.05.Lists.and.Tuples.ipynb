{
 "cells": [
  {
   "cell_type": "markdown",
   "id": "7c2c4063",
   "metadata": {},
   "source": [
    "# Python Lists\n",
    "\n",
    "Lists are one of the 4 data types in Python used to store collections of data."
   ]
  },
  {
   "cell_type": "code",
   "execution_count": 1,
   "id": "21bea8d1",
   "metadata": {},
   "outputs": [
    {
     "data": {
      "text/plain": [
       "['John', 'Peter', 'Debora', 'Charles']"
      ]
     },
     "execution_count": 1,
     "metadata": {},
     "output_type": "execute_result"
    }
   ],
   "source": [
    "['John', 'Peter', 'Debora', 'Charles']"
   ]
  },
  {
   "cell_type": "markdown",
   "id": "357c94f0",
   "metadata": {},
   "source": [
    "## Getting values with indexes"
   ]
  },
  {
   "cell_type": "code",
   "execution_count": 2,
   "id": "ee5fa2e2-6624-4360-a98e-0a5582c31f2b",
   "metadata": {},
   "outputs": [],
   "source": [
    "furniture = ['table', 'chair', 'rack', 'shelf']"
   ]
  },
  {
   "cell_type": "code",
   "execution_count": 3,
   "id": "3266635f-f6ee-491b-82ce-38e0eae1e974",
   "metadata": {},
   "outputs": [
    {
     "data": {
      "text/plain": [
       "'table'"
      ]
     },
     "execution_count": 3,
     "metadata": {},
     "output_type": "execute_result"
    }
   ],
   "source": [
    "furniture[0]\n",
    "# 'table'"
   ]
  },
  {
   "cell_type": "code",
   "execution_count": 4,
   "id": "382dbebd-35e3-4dbe-8f5f-10f8c32fb5a4",
   "metadata": {},
   "outputs": [
    {
     "data": {
      "text/plain": [
       "'chair'"
      ]
     },
     "execution_count": 4,
     "metadata": {},
     "output_type": "execute_result"
    }
   ],
   "source": [
    "furniture[1]\n",
    "# 'chair'"
   ]
  },
  {
   "cell_type": "code",
   "execution_count": 5,
   "id": "e70d7f50-c711-4ed9-a778-5e5555dc2478",
   "metadata": {},
   "outputs": [
    {
     "data": {
      "text/plain": [
       "'rack'"
      ]
     },
     "execution_count": 5,
     "metadata": {},
     "output_type": "execute_result"
    }
   ],
   "source": [
    "furniture[2]\n",
    "# 'rack'"
   ]
  },
  {
   "cell_type": "code",
   "execution_count": 6,
   "id": "9add2146-9101-4aa8-8307-7109826c1fb6",
   "metadata": {},
   "outputs": [
    {
     "data": {
      "text/plain": [
       "'shelf'"
      ]
     },
     "execution_count": 6,
     "metadata": {},
     "output_type": "execute_result"
    }
   ],
   "source": [
    "furniture[3]\n",
    "# 'shelf'"
   ]
  },
  {
   "cell_type": "markdown",
   "id": "111d89ea",
   "metadata": {},
   "source": [
    "## Negative indexes"
   ]
  },
  {
   "cell_type": "code",
   "execution_count": 7,
   "id": "4fbb423d-e7c9-4b18-94b7-9a23e3568957",
   "metadata": {},
   "outputs": [],
   "source": [
    "furniture = ['table', 'chair', 'rack', 'shelf']"
   ]
  },
  {
   "cell_type": "code",
   "execution_count": 8,
   "id": "3dfe08a4-a0d2-4868-bfcb-499b5f5aed40",
   "metadata": {},
   "outputs": [
    {
     "data": {
      "text/plain": [
       "'shelf'"
      ]
     },
     "execution_count": 8,
     "metadata": {},
     "output_type": "execute_result"
    }
   ],
   "source": [
    "furniture[-1]\n",
    "# 'shelf'"
   ]
  },
  {
   "cell_type": "code",
   "execution_count": 9,
   "id": "51b5459d-7926-4af7-882c-380a85f71a9f",
   "metadata": {},
   "outputs": [
    {
     "data": {
      "text/plain": [
       "'chair'"
      ]
     },
     "execution_count": 9,
     "metadata": {},
     "output_type": "execute_result"
    }
   ],
   "source": [
    "furniture[-3]\n",
    "# 'chair'"
   ]
  },
  {
   "cell_type": "code",
   "execution_count": 10,
   "id": "ccc7915d-9cbf-45a4-b18a-c8420c4c1fc7",
   "metadata": {},
   "outputs": [
    {
     "data": {
      "text/plain": [
       "'The shelf is bigger than the chair'"
      ]
     },
     "execution_count": 10,
     "metadata": {},
     "output_type": "execute_result"
    }
   ],
   "source": [
    "f'The {furniture[-1]} is bigger than the {furniture[-3]}'\n",
    "# 'The shelf is bigger than the chair'"
   ]
  },
  {
   "cell_type": "markdown",
   "id": "1b8c74d9",
   "metadata": {},
   "source": [
    "## Getting sublists with Slices"
   ]
  },
  {
   "cell_type": "code",
   "execution_count": 11,
   "id": "f11cc576-ae33-4de3-b3e7-1ab116d55f4d",
   "metadata": {},
   "outputs": [],
   "source": [
    "furniture = ['table', 'chair', 'rack', 'shelf']"
   ]
  },
  {
   "cell_type": "code",
   "execution_count": 12,
   "id": "1e7ec13f-b497-4cfc-9b71-a425d3fa391a",
   "metadata": {},
   "outputs": [
    {
     "data": {
      "text/plain": [
       "['table', 'chair', 'rack', 'shelf']"
      ]
     },
     "execution_count": 12,
     "metadata": {},
     "output_type": "execute_result"
    }
   ],
   "source": [
    "furniture[0:4]\n",
    "# ['table', 'chair', 'rack', 'shelf']"
   ]
  },
  {
   "cell_type": "code",
   "execution_count": 13,
   "id": "6ef49e3e-5066-416d-b1f7-37bdcb8e43da",
   "metadata": {},
   "outputs": [
    {
     "data": {
      "text/plain": [
       "['chair', 'rack']"
      ]
     },
     "execution_count": 13,
     "metadata": {},
     "output_type": "execute_result"
    }
   ],
   "source": [
    "furniture[1:3]\n",
    "# ['chair', 'rack']"
   ]
  },
  {
   "cell_type": "code",
   "execution_count": 14,
   "id": "6872d4f8-49c7-4de9-b3cc-37f8787ba7a7",
   "metadata": {},
   "outputs": [
    {
     "data": {
      "text/plain": [
       "['table', 'chair', 'rack']"
      ]
     },
     "execution_count": 14,
     "metadata": {},
     "output_type": "execute_result"
    }
   ],
   "source": [
    "furniture[0:-1]\n",
    "# ['table', 'chair', 'rack']"
   ]
  },
  {
   "cell_type": "code",
   "execution_count": 15,
   "id": "7d408e00-47b2-4e0f-b13d-97af6fc238ce",
   "metadata": {},
   "outputs": [
    {
     "data": {
      "text/plain": [
       "['table', 'chair']"
      ]
     },
     "execution_count": 15,
     "metadata": {},
     "output_type": "execute_result"
    }
   ],
   "source": [
    "furniture[:2]\n",
    "# ['table', 'chair']"
   ]
  },
  {
   "cell_type": "code",
   "execution_count": 16,
   "id": "0747662d-890e-4b65-b3ed-0a9c70996022",
   "metadata": {},
   "outputs": [
    {
     "data": {
      "text/plain": [
       "['chair', 'rack', 'shelf']"
      ]
     },
     "execution_count": 16,
     "metadata": {},
     "output_type": "execute_result"
    }
   ],
   "source": [
    "furniture[1:]\n",
    "# ['chair', 'rack', 'shelf']"
   ]
  },
  {
   "cell_type": "code",
   "execution_count": 17,
   "id": "6ffc8365-bb54-4bb0-8386-bf589fc050a5",
   "metadata": {},
   "outputs": [
    {
     "data": {
      "text/plain": [
       "['table', 'chair', 'rack', 'shelf']"
      ]
     },
     "execution_count": 17,
     "metadata": {},
     "output_type": "execute_result"
    }
   ],
   "source": [
    "furniture[:]\n",
    "# ['table', 'chair', 'rack', 'shelf']"
   ]
  },
  {
   "cell_type": "markdown",
   "id": "d4626692",
   "metadata": {},
   "source": [
    "Slicing the complete list will perform a copy:"
   ]
  },
  {
   "cell_type": "code",
   "execution_count": 18,
   "id": "d81eb306-f161-4b18-b410-230982d1b7c7",
   "metadata": {},
   "outputs": [
    {
     "ename": "NameError",
     "evalue": "name 'spam' is not defined",
     "output_type": "error",
     "traceback": [
      "\u001b[0;31m---------------------------------------------------------------------------\u001b[0m",
      "\u001b[0;31mNameError\u001b[0m                                 Traceback (most recent call last)",
      "Cell \u001b[0;32mIn[18], line 1\u001b[0m\n\u001b[0;32m----> 1\u001b[0m spam2 \u001b[38;5;241m=\u001b[39m \u001b[43mspam\u001b[49m[:]\n\u001b[1;32m      2\u001b[0m \u001b[38;5;66;03m# ['cat', 'bat', 'rat', 'elephant']\u001b[39;00m\n",
      "\u001b[0;31mNameError\u001b[0m: name 'spam' is not defined"
     ]
    }
   ],
   "source": [
    "spam2 = spam[:]\n",
    "# ['cat', 'bat', 'rat', 'elephant']"
   ]
  },
  {
   "cell_type": "code",
   "execution_count": null,
   "id": "7bcede28-cec3-4df3-8623-8373d7609eaa",
   "metadata": {},
   "outputs": [],
   "source": [
    "spam.append('dog')\n",
    "spam\n",
    "# ['cat', 'bat', 'rat', 'elephant', 'dog']"
   ]
  },
  {
   "cell_type": "code",
   "execution_count": null,
   "id": "3d585fde-9785-492d-8422-f3f89b63ba01",
   "metadata": {},
   "outputs": [],
   "source": [
    "spam2\n",
    "# ['cat', 'bat', 'rat', 'elephant']"
   ]
  },
  {
   "cell_type": "markdown",
   "id": "57f8dea6",
   "metadata": {},
   "source": [
    "## Getting a list length with len()"
   ]
  },
  {
   "cell_type": "code",
   "execution_count": null,
   "id": "9efc9047",
   "metadata": {},
   "outputs": [],
   "source": [
    "furniture = ['table', 'chair', 'rack', 'shelf']\n",
    "len(furniture)\n",
    "# 4"
   ]
  },
  {
   "cell_type": "markdown",
   "id": "b7b513a6",
   "metadata": {},
   "source": [
    "## Changing values with indexes"
   ]
  },
  {
   "cell_type": "code",
   "execution_count": null,
   "id": "8f4654b4-f655-4901-98ad-9190e2555bde",
   "metadata": {},
   "outputs": [],
   "source": [
    "furniture = ['table', 'chair', 'rack', 'shelf']"
   ]
  },
  {
   "cell_type": "code",
   "execution_count": null,
   "id": "0c53e643-87f4-4080-adb9-c313294cfee6",
   "metadata": {},
   "outputs": [],
   "source": [
    "furniture[0] = 'desk'\n",
    "furniture\n",
    "# ['desk', 'chair', 'rack', 'shelf']"
   ]
  },
  {
   "cell_type": "code",
   "execution_count": null,
   "id": "288e6a7a-2001-49fb-a75c-fa821485357e",
   "metadata": {},
   "outputs": [],
   "source": [
    "furniture[2] = furniture[1]\n",
    "furniture\n",
    "# ['desk', 'chair', 'chair', 'shelf']"
   ]
  },
  {
   "cell_type": "code",
   "execution_count": null,
   "id": "899b5f07-a349-4a2c-9e1f-8b3cd44fa844",
   "metadata": {},
   "outputs": [],
   "source": [
    "furniture[-1] = 'bed'\n",
    "furniture\n",
    "# ['desk', 'chair', 'chair', 'bed']"
   ]
  },
  {
   "cell_type": "markdown",
   "id": "bd061f67",
   "metadata": {},
   "source": [
    "## Concatenation and Replication"
   ]
  },
  {
   "cell_type": "code",
   "execution_count": null,
   "id": "adee41bc-57e9-4969-917f-0d58df6b1248",
   "metadata": {},
   "outputs": [],
   "source": [
    "[1, 2, 3] + ['A', 'B', 'C']\n",
    "# [1, 2, 3, 'A', 'B', 'C']"
   ]
  },
  {
   "cell_type": "code",
   "execution_count": null,
   "id": "9c91e417-2546-4655-9f96-a3c4c5722b46",
   "metadata": {},
   "outputs": [],
   "source": [
    "['X', 'Y', 'Z'] * 3\n",
    "# ['X', 'Y', 'Z', 'X', 'Y', 'Z', 'X', 'Y', 'Z']"
   ]
  },
  {
   "cell_type": "code",
   "execution_count": null,
   "id": "21c141f1-9e1b-4bd7-881f-19b32401cd8e",
   "metadata": {},
   "outputs": [],
   "source": [
    "my_list = [1, 2, 3]\n",
    "my_list = my_list + ['A', 'B', 'C']\n",
    "my_list\n",
    "# [1, 2, 3, 'A', 'B', 'C']"
   ]
  },
  {
   "cell_type": "markdown",
   "id": "1e0378c1",
   "metadata": {},
   "source": [
    "## Using for loops with Lists"
   ]
  },
  {
   "cell_type": "code",
   "execution_count": null,
   "id": "9b899f7e-07a9-4418-9b9b-06777a70a19f",
   "metadata": {},
   "outputs": [],
   "source": [
    "furniture = ['table', 'chair', 'rack', 'shelf']\n",
    "for item in furniture:\n",
    "    print(item)\n",
    "# table\n",
    "# chair\n",
    "# rack\n",
    "# shelf"
   ]
  },
  {
   "cell_type": "markdown",
   "id": "23856648",
   "metadata": {},
   "source": [
    "## Getting the index in a loop with enumerate()"
   ]
  },
  {
   "cell_type": "code",
   "execution_count": null,
   "id": "e543f436-42d1-4969-85c2-1db54609ea48",
   "metadata": {},
   "outputs": [],
   "source": [
    "furniture = ['table', 'chair', 'rack', 'shelf']\n",
    "for index, item in enumerate(furniture):\n",
    "    print(f'index: {index} - item: {item}')\n",
    "# index: 0 - item: table\n",
    "# index: 1 - item: chair\n",
    "# index: 2 - item: rack\n",
    "# index: 3 - item: shelf"
   ]
  },
  {
   "cell_type": "markdown",
   "id": "cc817756",
   "metadata": {},
   "source": [
    "## Loop in Multiple Lists with zip()"
   ]
  },
  {
   "cell_type": "code",
   "execution_count": null,
   "id": "7ea632ff",
   "metadata": {},
   "outputs": [],
   "source": [
    "furniture = ['table', 'chair', 'rack', 'shelf']\n",
    "price = [100, 50, 80, 40]\n",
    "\n",
    "for item, amount in zip(furniture, price):\n",
    "    print(f'The {item} costs ${amount}')\n",
    "# The table costs $100\n",
    "# The chair costs $50\n",
    "# The rack costs $80\n",
    "# The shelf costs $40"
   ]
  },
  {
   "cell_type": "markdown",
   "id": "9183a1a7",
   "metadata": {},
   "source": [
    "## The in and not in operators"
   ]
  },
  {
   "cell_type": "code",
   "execution_count": null,
   "id": "6399b45c-9c1c-41d6-beb7-e2c82149a902",
   "metadata": {},
   "outputs": [],
   "source": [
    "'rack' in ['table', 'chair', 'rack', 'shelf']\n",
    "# True"
   ]
  },
  {
   "cell_type": "code",
   "execution_count": null,
   "id": "0fb3425b-f3c8-4206-ad12-95756f344b12",
   "metadata": {},
   "outputs": [],
   "source": [
    "'bed' in ['table', 'chair', 'rack', 'shelf']\n",
    "# False"
   ]
  },
  {
   "cell_type": "code",
   "execution_count": null,
   "id": "5a07f67a-2ba5-4a44-8aeb-0278210aded9",
   "metadata": {},
   "outputs": [],
   "source": [
    "'bed' not in furniture\n",
    "# True"
   ]
  },
  {
   "cell_type": "code",
   "execution_count": null,
   "id": "4afc1d42-f65f-44bf-ace2-925afdcb2cf4",
   "metadata": {},
   "outputs": [],
   "source": [
    "'rack' not in furniture\n",
    "# False"
   ]
  },
  {
   "cell_type": "markdown",
   "id": "8be456f7",
   "metadata": {},
   "source": [
    "## The Multiple Assignment Trick\n",
    "\n",
    "The multiple assignment trick is a shortcut that lets you assign multiple variables with the values in a list in one line of code. So instead of doing this:"
   ]
  },
  {
   "cell_type": "code",
   "execution_count": null,
   "id": "6b646ab6",
   "metadata": {},
   "outputs": [],
   "source": [
    "furniture = ['table', 'chair', 'rack', 'shelf']\n",
    "table = furniture[0]\n",
    "chair = furniture[1]\n",
    "rack = furniture[2]\n",
    "shelf = furniture[3]"
   ]
  },
  {
   "cell_type": "markdown",
   "id": "b9a7309a",
   "metadata": {},
   "source": [
    "You could type this line of code:"
   ]
  },
  {
   "cell_type": "code",
   "execution_count": null,
   "id": "5dd72311-800e-4aea-bd96-8aee59d120b5",
   "metadata": {},
   "outputs": [],
   "source": [
    "furniture = ['table', 'chair', 'rack', 'shelf']\n",
    "table, chair, rack, shelf = furniture"
   ]
  },
  {
   "cell_type": "code",
   "execution_count": null,
   "id": "26584655-5af9-44a2-8d32-f4bd7ae58473",
   "metadata": {},
   "outputs": [],
   "source": [
    "table\n",
    "# 'table'"
   ]
  },
  {
   "cell_type": "code",
   "execution_count": null,
   "id": "cd353a15-b4df-4068-abd7-5cd5a2ecb546",
   "metadata": {},
   "outputs": [],
   "source": [
    "chair\n",
    "# 'chair'"
   ]
  },
  {
   "cell_type": "code",
   "execution_count": null,
   "id": "04ff86af-8970-4483-8b58-7ebae8055636",
   "metadata": {},
   "outputs": [],
   "source": [
    "rack\n",
    "# 'rack'"
   ]
  },
  {
   "cell_type": "code",
   "execution_count": null,
   "id": "fe0889ce-946a-4234-960b-2dbaf23e840a",
   "metadata": {},
   "outputs": [],
   "source": [
    "shelf\n",
    "# 'shelf'"
   ]
  },
  {
   "cell_type": "markdown",
   "id": "3ef37d9e",
   "metadata": {},
   "source": [
    "The multiple assignment trick can also be used to swap the values in two variables:"
   ]
  },
  {
   "cell_type": "code",
   "execution_count": null,
   "id": "a5eca6e7-a89d-4777-ae82-5458b366fb76",
   "metadata": {},
   "outputs": [],
   "source": [
    "a, b = 'table', 'chair'\n",
    "a, b = b, a"
   ]
  },
  {
   "cell_type": "code",
   "execution_count": null,
   "id": "18c00321-3856-449a-9d1c-00dbd4e64cac",
   "metadata": {},
   "outputs": [],
   "source": [
    "print(a)\n",
    "# chair"
   ]
  },
  {
   "cell_type": "code",
   "execution_count": null,
   "id": "ef1d50d5-79b8-4ece-96c0-ed5a0a89be00",
   "metadata": {},
   "outputs": [],
   "source": [
    "print(b)\n",
    "# table"
   ]
  },
  {
   "cell_type": "markdown",
   "id": "52381426",
   "metadata": {},
   "source": [
    "## The index Method\n",
    "\n",
    "The `index` method allows you to find the index of a value by passing its name:"
   ]
  },
  {
   "cell_type": "code",
   "execution_count": null,
   "id": "50a7b33d",
   "metadata": {},
   "outputs": [],
   "source": [
    "furniture = ['table', 'chair', 'rack', 'shelf']\n",
    "furniture.index('chair')\n",
    "# 1"
   ]
  },
  {
   "cell_type": "markdown",
   "id": "3ac06bb9",
   "metadata": {},
   "source": [
    "## Adding Values\n",
    "\n",
    "### append()\n",
    "\n",
    "`append` adds an element to the end of a `list`:"
   ]
  },
  {
   "cell_type": "code",
   "execution_count": null,
   "id": "7a6ac047",
   "metadata": {},
   "outputs": [],
   "source": [
    "furniture = ['table', 'chair', 'rack', 'shelf']\n",
    "furniture.append('bed')\n",
    "furniture\n",
    "# ['table', 'chair', 'rack', 'shelf', 'bed']"
   ]
  },
  {
   "cell_type": "markdown",
   "id": "bc13fa19",
   "metadata": {},
   "source": [
    "### insert()\n",
    "\n",
    "`insert` adds an element to a `list` at a given position:"
   ]
  },
  {
   "cell_type": "code",
   "execution_count": null,
   "id": "5c72afa1",
   "metadata": {},
   "outputs": [],
   "source": [
    "furniture = ['table', 'chair', 'rack', 'shelf']\n",
    "furniture.insert(1, 'bed')\n",
    "furniture\n",
    "# ['table', 'bed', 'chair', 'rack', 'shelf']"
   ]
  },
  {
   "cell_type": "markdown",
   "id": "53d5be39",
   "metadata": {},
   "source": [
    "## Removing Values\n",
    "\n",
    "### del()\n",
    "\n",
    "`del` removes an item using the index:"
   ]
  },
  {
   "cell_type": "code",
   "execution_count": null,
   "id": "315efeaa-53aa-4e0c-a28c-73ff455b96fd",
   "metadata": {},
   "outputs": [],
   "source": [
    "furniture = ['table', 'chair', 'rack', 'shelf']"
   ]
  },
  {
   "cell_type": "code",
   "execution_count": null,
   "id": "5f201f9c-8063-4b63-9769-d61026fc1b7a",
   "metadata": {},
   "outputs": [],
   "source": [
    "del furniture[2]\n",
    "furniture\n",
    "# ['table', 'chair', 'shelf']"
   ]
  },
  {
   "cell_type": "code",
   "execution_count": null,
   "id": "8949b196-0fa3-4787-86f0-ba71d39d0613",
   "metadata": {},
   "outputs": [],
   "source": [
    "del furniture[2]\n",
    "furniture\n",
    "# ['table', 'chair']"
   ]
  },
  {
   "cell_type": "markdown",
   "id": "1cde3f15",
   "metadata": {},
   "source": [
    "### remove()\n",
    "\n",
    "`remove` removes an item with using actual value of it:"
   ]
  },
  {
   "cell_type": "code",
   "execution_count": null,
   "id": "0378681b",
   "metadata": {},
   "outputs": [],
   "source": [
    "furniture = ['table', 'chair', 'rack', 'shelf']\n",
    "furniture.remove('chair')\n",
    "furniture\n",
    "# ['table', 'rack', 'shelf']"
   ]
  },
  {
   "cell_type": "markdown",
   "id": "e0172679",
   "metadata": {},
   "source": [
    "Removing repeated items\n",
    "\n",
    "If the value appears multiple times in the list, only the first instance of the value will be removed.\n",
    "\n",
    "### pop()\n",
    "\n",
    "By default, `pop` will remove and return the last item of the list. You can also pass the index of the element as an optional parameter:"
   ]
  },
  {
   "cell_type": "code",
   "execution_count": null,
   "id": "61e720e4-755b-49da-aa8b-5863466d87a3",
   "metadata": {},
   "outputs": [],
   "source": [
    "animals = ['cat', 'bat', 'rat', 'elephant']"
   ]
  },
  {
   "cell_type": "code",
   "execution_count": null,
   "id": "f10e9fd1-c035-464f-ad99-f55c12419798",
   "metadata": {},
   "outputs": [],
   "source": [
    "animals.pop()\n",
    "'elephant'"
   ]
  },
  {
   "cell_type": "code",
   "execution_count": null,
   "id": "2892d59f-88d4-4e05-9320-ce3adff27f1a",
   "metadata": {},
   "outputs": [],
   "source": [
    "animals\n",
    "['cat', 'bat', 'rat']"
   ]
  },
  {
   "cell_type": "code",
   "execution_count": null,
   "id": "0fb95030-e450-4f1d-b326-de0285b92c40",
   "metadata": {},
   "outputs": [],
   "source": [
    "animals.pop(0)\n",
    "'cat'"
   ]
  },
  {
   "cell_type": "code",
   "execution_count": null,
   "id": "8000c8a2-5b3c-4cbc-886a-22b527fd9ece",
   "metadata": {},
   "outputs": [],
   "source": [
    "animals\n",
    "['bat', 'rat']"
   ]
  },
  {
   "cell_type": "markdown",
   "id": "51e8c5f3",
   "metadata": {},
   "source": [
    "## Sorting values with sort()"
   ]
  },
  {
   "cell_type": "code",
   "execution_count": null,
   "id": "0c7b175c-cea1-4769-96f5-a4e8cb66cf98",
   "metadata": {},
   "outputs": [],
   "source": [
    "numbers = [2, 5, 3.14, 1, -7]\n",
    "numbers.sort()\n",
    "numbers\n",
    "# [-7, 1, 2, 3.14, 5]"
   ]
  },
  {
   "cell_type": "code",
   "execution_count": null,
   "id": "8fe2df7f-fe62-4d08-86e8-25a83a466fd0",
   "metadata": {},
   "outputs": [],
   "source": [
    "furniture = ['table', 'chair', 'rack', 'shelf']\n",
    "furniture.sort()\n",
    "furniture\n",
    "# ['chair', 'rack', 'shelf', 'table']"
   ]
  },
  {
   "cell_type": "markdown",
   "id": "0155a4f7",
   "metadata": {},
   "source": [
    "You can also pass `True` for the `reverse` keyword argument to have `sort()` sort the values in reverse order:"
   ]
  },
  {
   "cell_type": "code",
   "execution_count": null,
   "id": "ca29fd6b",
   "metadata": {},
   "outputs": [],
   "source": [
    "furniture.sort(reverse=True)\n",
    "furniture\n",
    "# ['table', 'shelf', 'rack', 'chair']"
   ]
  },
  {
   "cell_type": "markdown",
   "id": "994bd3a2",
   "metadata": {},
   "source": [
    "If you need to sort the values in regular alphabetical order, pass `str.lower` for the key keyword argument in the sort() method call:"
   ]
  },
  {
   "cell_type": "code",
   "execution_count": null,
   "id": "02a4b5a7",
   "metadata": {},
   "outputs": [],
   "source": [
    "letters = ['a', 'z', 'A', 'Z']\n",
    "letters.sort(key=str.lower)\n",
    "letters\n",
    "# ['a', 'A', 'z', 'Z']"
   ]
  },
  {
   "cell_type": "markdown",
   "id": "5cdda3dd",
   "metadata": {},
   "source": [
    "You can use the built-in function `sorted` to return a new list:"
   ]
  },
  {
   "cell_type": "code",
   "execution_count": null,
   "id": "30fabae1",
   "metadata": {},
   "outputs": [],
   "source": [
    "furniture = ['table', 'chair', 'rack', 'shelf']\n",
    "sorted(furniture)\n",
    "# ['chair', 'rack', 'shelf', 'table']"
   ]
  },
  {
   "cell_type": "markdown",
   "id": "e0d38b3a",
   "metadata": {},
   "source": [
    "## The Tuple data type\n",
    "\n",
    "\n",
    "\n",
    "[Tuples vs Lists](https://stackoverflow.com/questions/1708510/list-vs-tuple-when-to-use-each)\n",
    "\n",
    "The key difference between tuples and lists is that, while `tuples` are *immutable* objects, `lists` are *mutable*. This means that tuples cannot be changed while the lists can be modified. Tuples are more memory efficient than the lists."
   ]
  },
  {
   "cell_type": "code",
   "execution_count": null,
   "id": "82ec08fb-e115-408e-8ca3-2732b98106a1",
   "metadata": {},
   "outputs": [],
   "source": [
    "furniture = ('table', 'chair', 'rack', 'shelf')"
   ]
  },
  {
   "cell_type": "code",
   "execution_count": null,
   "id": "a7b9f92a-6ed4-42e3-9ab3-865b8b4f5403",
   "metadata": {},
   "outputs": [],
   "source": [
    "furniture[0]\n",
    "# 'table'"
   ]
  },
  {
   "cell_type": "code",
   "execution_count": null,
   "id": "41c38c3d-a459-4bca-beb6-e1257bc2c156",
   "metadata": {},
   "outputs": [],
   "source": [
    "furniture[1:3]\n",
    "# ('chair', 'rack')"
   ]
  },
  {
   "cell_type": "code",
   "execution_count": null,
   "id": "f6bb73c3-0b0d-4c3f-bbf5-536dbbac11a7",
   "metadata": {},
   "outputs": [],
   "source": [
    "len(furniture)\n",
    "# 4"
   ]
  },
  {
   "cell_type": "markdown",
   "id": "300c9921",
   "metadata": {},
   "source": [
    "The main way that tuples are different from lists is that tuples, like strings, are immutable.\n",
    "\n",
    "## Converting between list() and tuple()"
   ]
  },
  {
   "cell_type": "code",
   "execution_count": null,
   "id": "00b70d30-f384-4af6-961b-cce887ca1d3c",
   "metadata": {},
   "outputs": [
    {
     "data": {
      "text/plain": [
       "('cat', 'dog', 5)"
      ]
     },
     "execution_count": 1,
     "metadata": {},
     "output_type": "execute_result"
    }
   ],
   "source": [
    "tuple(['cat', 'dog', 5])\n",
    "# ('cat', 'dog', 5)"
   ]
  },
  {
   "cell_type": "code",
   "execution_count": null,
   "id": "13f02948-08a6-4c8c-9afc-f6782ef0c00e",
   "metadata": {},
   "outputs": [
    {
     "data": {
      "text/plain": [
       "['cat', 'dog', 5]"
      ]
     },
     "execution_count": 2,
     "metadata": {},
     "output_type": "execute_result"
    }
   ],
   "source": [
    "list(('cat', 'dog', 5))\n",
    "# ['cat', 'dog', 5]"
   ]
  },
  {
   "cell_type": "code",
   "execution_count": null,
   "id": "0b5003d6-46c9-4e5d-9fb4-ee56198d600c",
   "metadata": {},
   "outputs": [
    {
     "data": {
      "text/plain": [
       "['h', 'e', 'l', 'l', 'o']"
      ]
     },
     "execution_count": 3,
     "metadata": {},
     "output_type": "execute_result"
    }
   ],
   "source": [
    "list('hello')\n",
    "# ['h', 'e', 'l', 'l', 'o']"
   ]
  },
  {
   "cell_type": "code",
   "execution_count": null,
   "id": "e447e30e-776a-4659-91e4-7bd4a6f06196",
   "metadata": {},
   "outputs": [],
   "source": []
  }
 ],
 "metadata": {
  "kernelspec": {
   "display_name": "Python 3 (ipykernel)",
   "language": "python",
   "name": "python3"
  },
  "language_info": {
   "codemirror_mode": {
    "name": "ipython",
    "version": 3
   },
   "file_extension": ".py",
   "mimetype": "text/x-python",
   "name": "python",
   "nbconvert_exporter": "python",
   "pygments_lexer": "ipython3",
   "version": "3.12.0"
  }
 },
 "nbformat": 4,
 "nbformat_minor": 5
}
