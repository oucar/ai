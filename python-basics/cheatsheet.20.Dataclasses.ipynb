{
 "cells": [
  {
   "cell_type": "markdown",
   "id": "677bc4b3",
   "metadata": {},
   "source": [
    "# Python Dataclasses\n",
    "\n",
    "`Dataclasses` are python classes, but are suited for storing data objects. This module provides a decorator and functions for automatically adding generated special methods such as `__init__()` and `__repr__()` to user-defined classes.\n",
    "\n",
    "## Features\n",
    "\n",
    "1. They store data and represent a certain data type. Ex: A number. For people familiar with ORMs, a model instance is a data object. It represents a specific kind of entity. It holds attributes that define or represent the entity.\n",
    "2. They can be compared to other objects of the same type. Ex: A number can be greater than, less than, or equal to another number.\n",
    "\n",
    "Python 3.7 provides a decorator dataclass that is used to convert a class into a dataclass."
   ]
  },
  {
   "cell_type": "code",
   "execution_count": null,
   "id": "db33b156",
   "metadata": {},
   "outputs": [],
   "source": [
    "class Number:\n",
    "    def __init__(self, val):\n",
    "        self.val = val\n",
    "\n",
    "obj = Number(2)\n",
    "obj.val\n",
    "# 2"
   ]
  },
  {
   "cell_type": "markdown",
   "id": "b2fcac23",
   "metadata": {},
   "source": [
    "with dataclass"
   ]
  },
  {
   "cell_type": "code",
   "execution_count": null,
   "id": "014bc3cd",
   "metadata": {},
   "outputs": [],
   "source": [
    "from dataclasses import dataclass\n",
    "\n",
    "@dataclass\n",
    "class Number:\n",
    "    val: int\n",
    "\n",
    "obj = Number(2)\n",
    "obj.val\n",
    "# 2"
   ]
  },
  {
   "cell_type": "markdown",
   "id": "dd21faa2",
   "metadata": {},
   "source": [
    "## Default values\n",
    "\n",
    "It is easy to add default values to the fields of your data class."
   ]
  },
  {
   "cell_type": "code",
   "execution_count": null,
   "id": "589370dd-5ca1-46ad-a561-b7dc74dae748",
   "metadata": {},
   "outputs": [],
   "source": [
    "from dataclasses import dataclass\n",
    "\n",
    "@dataclass\n",
    "class Product:\n",
    "    name: str\n",
    "    count: int = 0\n",
    "    price: float = 0.0\n",
    "\n",
    "obj = Product(\"Python\")"
   ]
  },
  {
   "cell_type": "code",
   "execution_count": null,
   "id": "28d26f97-28a1-4441-a1c2-f0aacb077943",
   "metadata": {},
   "outputs": [],
   "source": [
    "obj.name\n",
    "# Python"
   ]
  },
  {
   "cell_type": "code",
   "execution_count": null,
   "id": "6e4d1ecc-c441-4e07-99ee-770f291a4543",
   "metadata": {},
   "outputs": [],
   "source": [
    "obj.count\n",
    "# 0"
   ]
  },
  {
   "cell_type": "code",
   "execution_count": null,
   "id": "3c5b788d-08d6-4efd-91e3-fe1fab765a40",
   "metadata": {},
   "outputs": [],
   "source": [
    "obj.price\n",
    "# 0.0"
   ]
  },
  {
   "cell_type": "markdown",
   "id": "feb8322b",
   "metadata": {},
   "source": [
    "## Type hints\n",
    "\n",
    "It is mandatory to define the data type in dataclass. However, If you would rather not specify the datatype then, use `typing.Any`."
   ]
  },
  {
   "cell_type": "code",
   "execution_count": null,
   "id": "c987ec3d-bbca-467e-923f-3cfb38ed861e",
   "metadata": {},
   "outputs": [],
   "source": [
    "from dataclasses import dataclass\n",
    "from typing import Any\n",
    "\n",
    "@dataclass\n",
    "class WithoutExplicitTypes:\n",
    "    name: Any\n",
    "    value: Any = 42"
   ]
  }
 ],
 "metadata": {
  "kernelspec": {
   "display_name": "Python 3 (ipykernel)",
   "language": "python",
   "name": "python3"
  },
  "language_info": {
   "codemirror_mode": {
    "name": "ipython",
    "version": 3
   },
   "file_extension": ".py",
   "mimetype": "text/x-python",
   "name": "python",
   "nbconvert_exporter": "python",
   "pygments_lexer": "ipython3",
   "version": "3.12.0"
  }
 },
 "nbformat": 4,
 "nbformat_minor": 5
}
