{
 "cells": [
  {
   "cell_type": "markdown",
   "id": "14398258",
   "metadata": {},
   "source": [
    "# Python Functions\n",
    "\n",
    "wikiversity link: [Programming Functions](https://en.wikiversity.org/wiki/Programming_Fundamentals/Functions)\n",
    "\n",
    "A function is a block of organized code that is used to perform a single task. They provide better modularity for your application and reuse-ability.\n",
    "\n",
    "## Function Arguments\n",
    "\n",
    "A function can take `arguments` and `return values`:\n",
    "\n",
    "In the following example, the function **say_hello** receives the argument “name” and prints a greeting:"
   ]
  },
  {
   "cell_type": "code",
   "execution_count": null,
   "id": "bfe4b94c-f5f4-47f7-a586-fd2a37e9384f",
   "metadata": {},
   "outputs": [],
   "source": [
    "def say_hello(name):\n",
    "    print(f'Hello {name}')"
   ]
  },
  {
   "cell_type": "code",
   "execution_count": null,
   "id": "33809b23-f57d-491f-aaa0-26ad6e83e11c",
   "metadata": {},
   "outputs": [],
   "source": [
    "say_hello('Carlos')\n",
    "# Hello Carlos"
   ]
  },
  {
   "cell_type": "code",
   "execution_count": null,
   "id": "2930f855-5989-4e7d-915a-ab355fdfc628",
   "metadata": {},
   "outputs": [],
   "source": [
    "say_hello('Wanda')\n",
    "# Hello Wanda"
   ]
  },
  {
   "cell_type": "code",
   "execution_count": null,
   "id": "9cf2f727-7d0b-4a10-ab6c-887d8c551bc0",
   "metadata": {},
   "outputs": [],
   "source": [
    "say_hello('Rose')\n",
    "# Hello Rose"
   ]
  },
  {
   "cell_type": "markdown",
   "id": "fff0cabd",
   "metadata": {},
   "source": [
    "## Keyword Arguments\n",
    "\n",
    "To improve code readability, we should be as explicit as possible. We can achieve this in our functions by using `Keyword Arguments`:"
   ]
  },
  {
   "cell_type": "code",
   "execution_count": null,
   "id": "1086ecdd-ba8c-4bb6-af44-a50abc684ce0",
   "metadata": {},
   "outputs": [],
   "source": [
    "def say_hi(name, greeting):\n",
    "    print(f\"{greeting} {name}\")"
   ]
  },
  {
   "cell_type": "code",
   "execution_count": null,
   "id": "04f25d36-32df-44c7-836e-90ba1e2bf3d8",
   "metadata": {},
   "outputs": [],
   "source": [
    "# without keyword arguments\n",
    "say_hi('John', 'Hello')\n",
    "# Hello John"
   ]
  },
  {
   "cell_type": "code",
   "execution_count": null,
   "id": "68faa3b9-845d-4493-bb31-b3da8fb5ccde",
   "metadata": {},
   "outputs": [],
   "source": [
    "# with keyword arguments\n",
    "say_hi(name='Anna', greeting='Hi')\n",
    "# Hi Anna"
   ]
  },
  {
   "cell_type": "markdown",
   "id": "e750866d",
   "metadata": {},
   "source": [
    "## Return Values\n",
    "\n",
    "When creating a function using the `def` statement, you can specify what the return value should be with a `return` statement. A return statement consists of the following:\n",
    "\n",
    "- The `return` keyword.\n",
    "- The value or expression that the function should return."
   ]
  },
  {
   "cell_type": "code",
   "execution_count": null,
   "id": "0a6d3640",
   "metadata": {},
   "outputs": [],
   "source": [
    "def sum_two_numbers(number_1, number_2):\n",
    "    return number_1 + number_2\n",
    "\n",
    "result = sum_two_numbers(7, 8)\n",
    "print(result)\n",
    "# 15"
   ]
  },
  {
   "cell_type": "markdown",
   "id": "9919a8ed",
   "metadata": {},
   "source": [
    "## Local and Global Scope\n",
    "\n",
    "- Code in the global scope cannot use any local variables.\n",
    "- However, a local scope can access global variables.\n",
    "- Code in a function’s local scope cannot use variables in any other local scope.\n",
    "- You can use the same name for different variables if they are in different scopes. That is, there can be a local variable named spam and a global variable also named spam."
   ]
  },
  {
   "cell_type": "code",
   "execution_count": null,
   "id": "7dd7e955",
   "metadata": {},
   "outputs": [],
   "source": [
    "global_variable = 'I am available everywhere'\n",
    "\n",
    "def some_function():\n",
    "    print(global_variable)  # because is global\n",
    "    local_variable = \"only available within this function\"\n",
    "\n",
    "print(local_variable)\n",
    "\n",
    "# the following code will throw error because\n",
    "# 'local_variable' only exists inside 'some_function'\n",
    "print(local_variable)\n",
    "# Traceback (most recent call last):\n",
    "#   File \"<stdin>\", line 10, in <module>\n",
    "# NameError: name 'local_variable' is not defined"
   ]
  },
  {
   "cell_type": "markdown",
   "id": "0129e985",
   "metadata": {},
   "source": [
    "## The global Statement\n",
    "\n",
    "If you need to modify a global variable from within a function, use the global statement:"
   ]
  },
  {
   "cell_type": "code",
   "execution_count": null,
   "id": "3cc34f15",
   "metadata": {},
   "outputs": [],
   "source": [
    "def spam():\n",
    "    global eggs\n",
    "    eggs = 'spam'\n",
    "\n",
    "eggs = 'global'\n",
    "spam()\n",
    "print(eggs)"
   ]
  },
  {
   "cell_type": "markdown",
   "id": "497bb40a",
   "metadata": {},
   "source": [
    "There are four rules to tell whether a variable is in a local scope or global scope:\n",
    "\n",
    "1. If a variable is being used in the global scope (that is, outside all functions), then it is always a global variable.\n",
    "2. If there is a global statement for that variable in a function, it is a global variable.\n",
    "3. Otherwise, if the variable is used in an assignment statement in the function, it is a local variable.\n",
    "4. But if the variable is not used in an assignment statement, it is a global variable.\n",
    "\n",
    "## Lambda Functions\n",
    "\n",
    "In Python, a lambda function is a single-line, anonymous function, which can have any number of arguments, but it can only have one expression.\n",
    "\n",
    "\n",
    "\n",
    "From the [Python 3 Tutorial](https://docs.python.org/3/library/ast.html?highlight=lambda#function-and-class-definitions)\n",
    "\n",
    "lambda is a minimal function definition that can be used inside an expression. Unlike FunctionDef, body holds a single node.\n",
    "\n",
    "\n",
    "\n",
    "Single line expression\n",
    "\n",
    "Lambda functions can only evaluate an expression, like a single line of code.\n",
    "\n",
    "This function:"
   ]
  },
  {
   "cell_type": "code",
   "execution_count": null,
   "id": "9f7ad0ee",
   "metadata": {},
   "outputs": [],
   "source": [
    "def add(x, y):\n",
    "return x + y\n",
    "...\n",
    "add(5, 3)\n",
    "# 8"
   ]
  },
  {
   "cell_type": "markdown",
   "id": "c8efd681",
   "metadata": {},
   "source": [
    "Is equivalent to the *lambda* function:"
   ]
  },
  {
   "cell_type": "code",
   "execution_count": null,
   "id": "33d5b515",
   "metadata": {},
   "outputs": [],
   "source": [
    "add = lambda x, y: x + y\n",
    "add(5, 3)\n",
    "# 8"
   ]
  },
  {
   "cell_type": "markdown",
   "id": "acfe5713",
   "metadata": {},
   "source": [
    "Like regular nested functions, lambdas also work as lexical closures:"
   ]
  },
  {
   "cell_type": "code",
   "execution_count": null,
   "id": "5fc73c7b-8d15-4da3-b53b-fcb604ef79fb",
   "metadata": {},
   "outputs": [],
   "source": [
    "def make_adder(n):\n",
    "    return lambda x: x + n"
   ]
  },
  {
   "cell_type": "code",
   "execution_count": null,
   "id": "6668cf16-2604-4426-a100-1ca67bef21f0",
   "metadata": {},
   "outputs": [],
   "source": [
    "plus_3 = make_adder(3)\n",
    "plus_5 = make_adder(5)"
   ]
  },
  {
   "cell_type": "code",
   "execution_count": null,
   "id": "72b7a6a2-6e18-4a97-9962-1bc116ff92a5",
   "metadata": {},
   "outputs": [],
   "source": [
    "plus_3(4)\n",
    "# 7"
   ]
  },
  {
   "cell_type": "code",
   "execution_count": null,
   "id": "469f1403-c891-4ec7-8e7d-48c45c2ba9aa",
   "metadata": {},
   "outputs": [],
   "source": [
    "plus_5(4)\n",
    "# 9"
   ]
  }
 ],
 "metadata": {
  "kernelspec": {
   "display_name": "Python 3 (ipykernel)",
   "language": "python",
   "name": "python3"
  },
  "language_info": {
   "codemirror_mode": {
    "name": "ipython",
    "version": 3
   },
   "file_extension": ".py",
   "mimetype": "text/x-python",
   "name": "python",
   "nbconvert_exporter": "python",
   "pygments_lexer": "ipython3",
   "version": "3.12.0"
  }
 },
 "nbformat": 4,
 "nbformat_minor": 5
}
