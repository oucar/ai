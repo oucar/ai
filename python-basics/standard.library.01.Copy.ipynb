{
 "cells": [
  {
   "cell_type": "markdown",
   "id": "e0ef2781",
   "metadata": {},
   "source": [
    "# Python Copy Module\n",
    "\n",
    "Copy Module is a set of functions that are related to copying different elements of a list, objects, arrays, etc. It can be used to create shallow copies as well as deep copies.\n",
    "\n",
    "From the Python 3 [documentation](https://docs.python.org/3/library/copy.html)\n",
    "\n",
    "Assignment statements in Python do not copy objects, they create bindings between a target and an object. For collections that are mutable or contain mutable items, a copy is sometimes needed so one can change one copy without changing the other. This module provides generic **shallow** and **deep** copy operations.\n",
    "\n",
    "## Shallow copy operations\n",
    "\n",
    "Shallow copy constructs a new compound object and then (to the extent possible) inserts references into it to the objects found in the original.\n",
    "\n",
    "copy.copy(x) Return a shallow copy of x."
   ]
  },
  {
   "cell_type": "code",
   "execution_count": null,
   "id": "5e30dd96-6ce9-497c-a080-ba29f988f0b2",
   "metadata": {},
   "outputs": [],
   "source": [
    "import copy\n",
    "a = [[1],[2],[3]]\n",
    "b = copy.copy(a) ## this will copy the list a to list b"
   ]
  },
  {
   "cell_type": "code",
   "execution_count": null,
   "id": "9ca4cce2-f213-4541-a136-d0e1e6830467",
   "metadata": {},
   "outputs": [],
   "source": [
    "a\n",
    "#[[1], [2], [3]]"
   ]
  },
  {
   "cell_type": "code",
   "execution_count": null,
   "id": "3a740bd4-d999-43c4-b279-b58a50790ba6",
   "metadata": {},
   "outputs": [],
   "source": [
    "b\n",
    "#[[1], [2], [3]]"
   ]
  },
  {
   "cell_type": "markdown",
   "id": "6068bf5e",
   "metadata": {},
   "source": [
    "### Without importing copy module you can’t use it"
   ]
  },
  {
   "cell_type": "code",
   "execution_count": null,
   "id": "0609394e",
   "metadata": {},
   "outputs": [],
   "source": [
    "# Traceback (most recent call last):\n",
    "# File \"<stdin>\", line 1, in <module>\n",
    "# NameError: name 'copy' is not defined"
   ]
  },
  {
   "cell_type": "markdown",
   "id": "3be7765e",
   "metadata": {},
   "source": [
    "## Deep copy operations\n",
    "\n",
    "A deep copy constructs a new compound object and then, recursively, inserts copies into it of the objects found in the original.\n",
    "\n",
    "copy.deepcopy(x[, memo]) Return a deep copy of x."
   ]
  },
  {
   "cell_type": "code",
   "execution_count": null,
   "id": "1c13b5b8-a1ec-4425-b7b2-6a1bed5385e2",
   "metadata": {},
   "outputs": [],
   "source": [
    "import copy\n",
    "a = [[1],[2],[3]]\n",
    "b = copy.deepcopy(a) ## this will copy the list a to list b"
   ]
  },
  {
   "cell_type": "code",
   "execution_count": null,
   "id": "05cc173d-26c5-4d12-8aa6-667676dcf346",
   "metadata": {},
   "outputs": [],
   "source": [
    "a[0][0] = 0\n",
    "a[1] = None"
   ]
  },
  {
   "cell_type": "code",
   "execution_count": null,
   "id": "021d640d-ed52-4d92-a140-288a137c9722",
   "metadata": {},
   "outputs": [],
   "source": [
    "a\n",
    "#[[0], None, [3]]"
   ]
  },
  {
   "cell_type": "code",
   "execution_count": null,
   "id": "058d5457-ff8c-4f0c-8a89-ae3ef81b9f34",
   "metadata": {},
   "outputs": [],
   "source": [
    "b\n",
    "#[[1], [2], [3]]"
   ]
  }
 ],
 "metadata": {
  "kernelspec": {
   "display_name": "Python 3 (ipykernel)",
   "language": "python",
   "name": "python3"
  },
  "language_info": {
   "codemirror_mode": {
    "name": "ipython",
    "version": 3
   },
   "file_extension": ".py",
   "mimetype": "text/x-python",
   "name": "python",
   "nbconvert_exporter": "python",
   "pygments_lexer": "ipython3",
   "version": "3.12.0"
  }
 },
 "nbformat": 4,
 "nbformat_minor": 5
}
