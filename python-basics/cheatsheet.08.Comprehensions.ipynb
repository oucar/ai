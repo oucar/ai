{
 "cells": [
  {
   "cell_type": "markdown",
   "id": "fcc5aafa",
   "metadata": {},
   "source": [
    "# Python Comprehensions\n",
    "\n",
    "List Comprehensions are a special kind of syntax that let us create lists out of other lists, and are incredibly useful when dealing with numbers and with one or two levels of nested for loops.\n",
    "\n",
    "From the Python 3 [tutorial](https://docs.python.org/3/tutorial/datastructures.html#list-comprehensions)\n",
    "\n",
    "List comprehensions provide a concise way to create lists. [...] or to create a subsequence of those elements that satisfy a certain condition.\n",
    "\n",
    "Read [Python Comprehensions: A step by step Introduction](https://www.pythoncheatsheet.org/blog/python-comprehensions-step-by-step) for a more in-deep or introduction.\n",
    "\n",
    "## List comprehension\n",
    "\n",
    "This is how we create a new list from an existing collection with a For Loop:"
   ]
  },
  {
   "cell_type": "code",
   "execution_count": null,
   "id": "367d32f0",
   "metadata": {},
   "outputs": [],
   "source": [
    "names = ['Charles', 'Susan', 'Patrick', 'George']\n",
    "\n",
    "new_list = []\n",
    "for n in names:\n",
    "    new_list.append(n)\n",
    "\n",
    "new_list\n",
    "# ['Charles', 'Susan', 'Patrick', 'George']"
   ]
  },
  {
   "cell_type": "markdown",
   "id": "7e81411d",
   "metadata": {},
   "source": [
    "And this is how we do the same with a List Comprehension:"
   ]
  },
  {
   "cell_type": "code",
   "execution_count": null,
   "id": "0b0d9a4c",
   "metadata": {},
   "outputs": [],
   "source": [
    "names = ['Charles', 'Susan', 'Patrick', 'George']\n",
    "\n",
    "new_list = [n for n in names]\n",
    "new_list\n",
    "# ['Charles', 'Susan', 'Patrick', 'George']"
   ]
  },
  {
   "cell_type": "markdown",
   "id": "831bec11",
   "metadata": {},
   "source": [
    "We can do the same with numbers:"
   ]
  },
  {
   "cell_type": "code",
   "execution_count": null,
   "id": "8e696605",
   "metadata": {},
   "outputs": [],
   "source": [
    "n = [(a, b) for a in range(1, 3) for b in range(1, 3)]\n",
    "n\n",
    "# [(1, 1), (1, 2), (2, 1), (2, 2)]"
   ]
  },
  {
   "cell_type": "markdown",
   "id": "82983f3d",
   "metadata": {},
   "source": [
    "## Adding conditionals\n",
    "\n",
    "If we want `new_list` to have only the names that start with C, with a for loop, we would do it like this:"
   ]
  },
  {
   "cell_type": "code",
   "execution_count": null,
   "id": "126e4a4e",
   "metadata": {},
   "outputs": [],
   "source": [
    "names = ['Charles', 'Susan', 'Patrick', 'George', 'Carol']\n",
    "\n",
    "new_list = []\n",
    "for n in names:\n",
    "    if n.startswith('C'):\n",
    "        new_list.append(n)\n",
    "\n",
    "print(new_list)\n",
    "# ['Charles', 'Carol']"
   ]
  },
  {
   "cell_type": "markdown",
   "id": "be072daf",
   "metadata": {},
   "source": [
    "In a List Comprehension, we add the `if` statement at the end:"
   ]
  },
  {
   "cell_type": "code",
   "execution_count": null,
   "id": "c599c9c4",
   "metadata": {},
   "outputs": [],
   "source": [
    "new_list = [n for n in names if n.startswith('C')]\n",
    "print(new_list)\n",
    "# ['Charles', 'Carol']"
   ]
  },
  {
   "cell_type": "markdown",
   "id": "de5cc8b1",
   "metadata": {},
   "source": [
    "To use an `if-else` statement in a List Comprehension:"
   ]
  },
  {
   "cell_type": "code",
   "execution_count": null,
   "id": "82f2fa7c",
   "metadata": {},
   "outputs": [],
   "source": [
    "nums = [1, 2, 3, 4, 5, 6]\n",
    "new_list = [num*2 if num % 2 == 0 else num for num in nums]\n",
    "print(new_list)\n",
    "# [1, 4, 3, 8, 5, 12]"
   ]
  },
  {
   "cell_type": "markdown",
   "id": "4dcd901d",
   "metadata": {},
   "source": [
    "Set and Dict comprehensions\n",
    "\n",
    "The basics of `list` comprehensions also apply to **sets** and **dictionaries**.\n",
    "\n",
    "## Set comprehension"
   ]
  },
  {
   "cell_type": "code",
   "execution_count": null,
   "id": "1c908dc1",
   "metadata": {},
   "outputs": [],
   "source": [
    "b = {\"abc\", \"def\"}\n",
    "{s.upper() for s in b}\n",
    "{\"ABC\", \"DEF\"}"
   ]
  },
  {
   "cell_type": "markdown",
   "id": "91af3362",
   "metadata": {},
   "source": [
    "## Dict comprehension"
   ]
  },
  {
   "cell_type": "code",
   "execution_count": null,
   "id": "d4267d94",
   "metadata": {},
   "outputs": [],
   "source": [
    "c = {'name': 'Pooka', 'age': 5}\n",
    "{v: k for k, v in c.items()}\n",
    "{'Pooka': 'name', 5: 'age'}"
   ]
  },
  {
   "cell_type": "markdown",
   "id": "47247ccb",
   "metadata": {},
   "source": [
    "A List comprehension can be generated from a dictionary:"
   ]
  },
  {
   "cell_type": "code",
   "execution_count": null,
   "id": "d10ee8af-51d3-4edf-b1ce-b084f4f0d267",
   "metadata": {},
   "outputs": [],
   "source": [
    "c = {'name': 'Pooka', 'age': 5}\n",
    "[\"{}:{}\".format(k.upper(), v) for k, v in c.items()]\n",
    "['NAME:Pooka', 'AGE:5']"
   ]
  }
 ],
 "metadata": {
  "kernelspec": {
   "display_name": "Python 3 (ipykernel)",
   "language": "python",
   "name": "python3"
  },
  "language_info": {
   "codemirror_mode": {
    "name": "ipython",
    "version": 3
   },
   "file_extension": ".py",
   "mimetype": "text/x-python",
   "name": "python",
   "nbconvert_exporter": "python",
   "pygments_lexer": "ipython3",
   "version": "3.12.0"
  }
 },
 "nbformat": 4,
 "nbformat_minor": 5
}
