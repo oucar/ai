{
 "cells": [
  {
   "cell_type": "markdown",
   "id": "a1c49ab7",
   "metadata": {},
   "source": [
    "# Python Itertools Module\n",
    "\n",
    "The *itertools* module is a collection of tools intended to be fast and use memory efficiently when handling iterators (like [lists](https://www.pythoncheatsheet.org/modules/itertools-module#lists) or [dictionaries](https://www.pythoncheatsheet.org/modules/itertools-module#dictionaries-and-structuring-data)).\n",
    "\n",
    "\n",
    "\n",
    "From the [Python 3 documentation](https://docs.python.org/3/library/itertools.html)\n",
    "\n",
    "The module standardizes a core set of fast, memory efficient tools that are useful by themselves or in combination. Together, they form an “iterator algebra” making it possible to construct specialized tools succinctly and efficiently in pure Python.\n",
    "\n",
    "The *itertools* module comes in the standard library and must be imported.\n",
    "\n",
    "The [operator](https://docs.python.org/3/library/operator.html) module will also be used. This module is not necessary when using itertools, but needed for some of the examples below."
   ]
  },
  {
   "cell_type": "code",
   "execution_count": null,
   "id": "2ebd1d9a",
   "metadata": {},
   "outputs": [],
   "source": [
    "import itertools\n",
    "import operator"
   ]
  },
  {
   "cell_type": "markdown",
   "id": "e04b2680",
   "metadata": {},
   "source": [
    "## accumulate()\n",
    "\n",
    "Makes an iterator that returns the results of a function."
   ]
  },
  {
   "cell_type": "code",
   "execution_count": null,
   "id": "1d44b7d8",
   "metadata": {},
   "outputs": [],
   "source": [
    "itertools.accumulate(iterable[, func])"
   ]
  },
  {
   "cell_type": "markdown",
   "id": "49ad3e68",
   "metadata": {},
   "source": [
    "Example:"
   ]
  },
  {
   "cell_type": "code",
   "execution_count": null,
   "id": "c6466827",
   "metadata": {},
   "outputs": [],
   "source": [
    "data = [1, 2, 3, 4, 5]\n",
    "result = itertools.accumulate(data, operator.mul)\n",
    "for each in result:\n",
    "print(each)\n",
    "...\n",
    "# 1\n",
    "# 2\n",
    "# 6\n",
    "# 24\n",
    "# 120"
   ]
  },
  {
   "cell_type": "markdown",
   "id": "98e97abe",
   "metadata": {},
   "source": [
    "The operator.mul takes two numbers and multiplies them:"
   ]
  },
  {
   "cell_type": "code",
   "execution_count": null,
   "id": "ebb3c827",
   "metadata": {},
   "outputs": [],
   "source": [
    "operator.mul(1, 2)\n",
    "# 2\n",
    "\n",
    "operator.mul(2, 3)\n",
    "# 6\n",
    "\n",
    "operator.mul(6, 4)\n",
    "# 24\n",
    "\n",
    "operator.mul(24, 5)\n",
    "# 120"
   ]
  },
  {
   "cell_type": "markdown",
   "id": "cadfd7f2",
   "metadata": {},
   "source": [
    "Passing a function is optional:"
   ]
  },
  {
   "cell_type": "code",
   "execution_count": null,
   "id": "ae18e2ea",
   "metadata": {},
   "outputs": [],
   "source": [
    "data = [5, 2, 6, 4, 5, 9, 1]\n",
    "result = itertools.accumulate(data)\n",
    "for each in result:\n",
    "print(each)\n",
    "...\n",
    "# 5\n",
    "# 7\n",
    "# 13\n",
    "# 17\n",
    "# 22\n",
    "# 31\n",
    "# 32"
   ]
  },
  {
   "cell_type": "markdown",
   "id": "31e68ce2",
   "metadata": {},
   "source": [
    "If no function is designated the items will be summed:"
   ]
  },
  {
   "cell_type": "code",
   "execution_count": null,
   "id": "153edbe4",
   "metadata": {},
   "outputs": [],
   "source": [
    "5\n",
    "5 + 2 = 7\n",
    "7 + 6 = 13\n",
    "13 + 4 = 17\n",
    "17 + 5 = 22\n",
    "22 + 9 = 31\n",
    "31 + 1 = 32"
   ]
  },
  {
   "cell_type": "markdown",
   "id": "c0f4dda5",
   "metadata": {},
   "source": [
    "## combinations()\n",
    "\n",
    "Takes an iterable and a integer. This will create all the unique combination that have r members."
   ]
  },
  {
   "cell_type": "code",
   "execution_count": null,
   "id": "180d267b",
   "metadata": {},
   "outputs": [],
   "source": [
    "itertools.combinations(iterable, r)"
   ]
  },
  {
   "cell_type": "markdown",
   "id": "2aa69979",
   "metadata": {},
   "source": [
    "Example:"
   ]
  },
  {
   "cell_type": "code",
   "execution_count": null,
   "id": "1669168e",
   "metadata": {},
   "outputs": [],
   "source": [
    "shapes = ['circle', 'triangle', 'square',]\n",
    "result = itertools.combinations(shapes, 2)\n",
    "for each in result:\n",
    "print(each)\n",
    "...\n",
    "# ('circle', 'triangle')\n",
    "# ('circle', 'square')\n",
    "# ('triangle', 'square')"
   ]
  },
  {
   "cell_type": "markdown",
   "id": "df72cf9a",
   "metadata": {},
   "source": [
    "## combinations_with_replacement()\n",
    "\n",
    "Just like combinations(), but allows individual elements to be repeated more than once."
   ]
  },
  {
   "cell_type": "code",
   "execution_count": null,
   "id": "039328d1",
   "metadata": {},
   "outputs": [],
   "source": [
    "itertools.combinations_with_replacement(iterable, r)"
   ]
  },
  {
   "cell_type": "markdown",
   "id": "abe1dfb0",
   "metadata": {},
   "source": [
    "Example:"
   ]
  },
  {
   "cell_type": "code",
   "execution_count": null,
   "id": "d160bccd",
   "metadata": {},
   "outputs": [],
   "source": [
    "shapes = ['circle', 'triangle', 'square']\n",
    "result = itertools.combinations_with_replacement(shapes, 2)\n",
    "for each in result:\n",
    "print(each)\n",
    "...\n",
    "# ('circle', 'circle')\n",
    "# ('circle', 'triangle')\n",
    "# ('circle', 'square')\n",
    "# ('triangle', 'triangle')\n",
    "# ('triangle', 'square')\n",
    "# ('square', 'square')"
   ]
  },
  {
   "cell_type": "markdown",
   "id": "827864e5",
   "metadata": {},
   "source": [
    "## count()\n",
    "\n",
    "Makes an iterator that returns evenly spaced values starting with number start."
   ]
  },
  {
   "cell_type": "code",
   "execution_count": null,
   "id": "7a21eb5b",
   "metadata": {},
   "outputs": [],
   "source": [
    "itertools.count(start=0, step=1)"
   ]
  },
  {
   "cell_type": "markdown",
   "id": "4b575924",
   "metadata": {},
   "source": [
    "Example:"
   ]
  },
  {
   "cell_type": "code",
   "execution_count": null,
   "id": "025bae51",
   "metadata": {},
   "outputs": [],
   "source": [
    "for i in itertools.count(10,3):\n",
    "print(i)\n",
    "if i > 20:\n",
    "    break\n",
    "...\n",
    "# 10\n",
    "# 13\n",
    "# 16\n",
    "# 19\n",
    "# 22"
   ]
  },
  {
   "cell_type": "markdown",
   "id": "2ea8ece4",
   "metadata": {},
   "source": [
    "## cycle()\n",
    "\n",
    "This function cycles through an iterator endlessly."
   ]
  },
  {
   "cell_type": "code",
   "execution_count": null,
   "id": "ffa1de6f",
   "metadata": {},
   "outputs": [],
   "source": [
    "itertools.cycle(iterable)"
   ]
  },
  {
   "cell_type": "markdown",
   "id": "67039aae",
   "metadata": {},
   "source": [
    "Example:"
   ]
  },
  {
   "cell_type": "code",
   "execution_count": null,
   "id": "eac1a5e5",
   "metadata": {},
   "outputs": [],
   "source": [
    "colors = ['red', 'orange', 'yellow', 'green', 'blue', 'violet']\n",
    "for color in itertools.cycle(colors):\n",
    "print(color)\n",
    "...\n",
    "# red\n",
    "# orange\n",
    "# yellow\n",
    "# green\n",
    "# blue\n",
    "# violet\n",
    "# red\n",
    "# orange"
   ]
  },
  {
   "cell_type": "markdown",
   "id": "67723b77",
   "metadata": {},
   "source": [
    "When reached the end of the iterable it start over again from the beginning.\n",
    "\n",
    "## chain()\n",
    "\n",
    "Take a series of iterables and return them as one long iterable."
   ]
  },
  {
   "cell_type": "code",
   "execution_count": null,
   "id": "bd11ab83",
   "metadata": {},
   "outputs": [],
   "source": [
    "itertools.chain(*iterables)"
   ]
  },
  {
   "cell_type": "markdown",
   "id": "f01ef097",
   "metadata": {},
   "source": [
    "Example:"
   ]
  },
  {
   "cell_type": "code",
   "execution_count": null,
   "id": "c2150eba",
   "metadata": {},
   "outputs": [],
   "source": [
    "colors = ['red', 'orange', 'yellow', 'green', 'blue']\n",
    "shapes = ['circle', 'triangle', 'square', 'pentagon']\n",
    "result = itertools.chain(colors, shapes)\n",
    "for each in result:\n",
    "print(each)\n",
    "...\n",
    "# red\n",
    "# orange\n",
    "# yellow\n",
    "# green\n",
    "# blue\n",
    "# circle\n",
    "# triangle\n",
    "# square\n",
    "# pentagon"
   ]
  },
  {
   "cell_type": "markdown",
   "id": "3317b1cd",
   "metadata": {},
   "source": [
    "## compress()\n",
    "\n",
    "Filters one iterable with another."
   ]
  },
  {
   "cell_type": "code",
   "execution_count": null,
   "id": "06d0cc4d",
   "metadata": {},
   "outputs": [],
   "source": [
    "itertools.compress(data, selectors)"
   ]
  },
  {
   "cell_type": "markdown",
   "id": "99a17640",
   "metadata": {},
   "source": [
    "Example:"
   ]
  },
  {
   "cell_type": "code",
   "execution_count": null,
   "id": "c0d03bcf",
   "metadata": {},
   "outputs": [],
   "source": [
    "shapes = ['circle', 'triangle', 'square', 'pentagon']\n",
    "selections = [True, False, True, False]\n",
    "result = itertools.compress(shapes, selections)\n",
    "for each in result:\n",
    "print(each)\n",
    "...\n",
    "# circle\n",
    "# square"
   ]
  },
  {
   "cell_type": "markdown",
   "id": "e3cbb121",
   "metadata": {},
   "source": [
    "## dropwhile()\n",
    "\n",
    "Make an iterator that drops elements from the iterable as long as the predicate is true; afterwards, returns every element."
   ]
  },
  {
   "cell_type": "code",
   "execution_count": null,
   "id": "5ece2530",
   "metadata": {},
   "outputs": [],
   "source": [
    "itertools.dropwhile(predicate, iterable)"
   ]
  },
  {
   "cell_type": "markdown",
   "id": "d60642d8",
   "metadata": {},
   "source": [
    "Example:"
   ]
  },
  {
   "cell_type": "code",
   "execution_count": null,
   "id": "2f689106",
   "metadata": {},
   "outputs": [],
   "source": [
    "data = [1, 2, 3, 4, 5, 6, 7, 8, 9, 10, 1]\n",
    "result = itertools.dropwhile(lambda x: x<5, data)\n",
    "for each in result:\n",
    "print(each)\n",
    "...\n",
    "# 5\n",
    "# 6\n",
    "# 7\n",
    "# 8\n",
    "# 9\n",
    "# 10\n",
    "# 1"
   ]
  },
  {
   "cell_type": "markdown",
   "id": "eeaa9a73",
   "metadata": {},
   "source": [
    "## filterfalse()\n",
    "\n",
    "Makes an iterator that filters elements from iterable returning only those for which the predicate is False."
   ]
  },
  {
   "cell_type": "code",
   "execution_count": null,
   "id": "15540cb9",
   "metadata": {},
   "outputs": [],
   "source": [
    "itertools.filterfalse(predicate, iterable)"
   ]
  },
  {
   "cell_type": "markdown",
   "id": "49490c10",
   "metadata": {},
   "source": [
    "Example:"
   ]
  },
  {
   "cell_type": "code",
   "execution_count": null,
   "id": "c4c5e265",
   "metadata": {},
   "outputs": [],
   "source": [
    "data = [1, 2, 3, 4, 5, 6, 7, 8, 9, 10, 1]\n",
    "result = itertools.filterfalse(lambda x: x<5, data)\n",
    "for each in result:\n",
    "print(each)\n",
    "...\n",
    "# 5\n",
    "# 6\n",
    "# 7\n",
    "# 8\n",
    "# 9\n",
    "# 10"
   ]
  },
  {
   "cell_type": "markdown",
   "id": "c9b09c03",
   "metadata": {},
   "source": [
    "## groupby()\n",
    "\n",
    "Simply put, this function groups things together."
   ]
  },
  {
   "cell_type": "code",
   "execution_count": null,
   "id": "03e223b9",
   "metadata": {},
   "outputs": [],
   "source": [
    "itertools.groupby(iterable, key=None)"
   ]
  },
  {
   "cell_type": "markdown",
   "id": "248d95c9",
   "metadata": {},
   "source": [
    "Example:"
   ]
  },
  {
   "cell_type": "code",
   "execution_count": null,
   "id": "ce7d1d61",
   "metadata": {},
   "outputs": [],
   "source": [
    "robots = [\n",
    "    {\"name\": \"blaster\", \"faction\": \"autobot\"},\n",
    "    {\"name\": \"galvatron\", \"faction\": \"decepticon\"},\n",
    "    {\"name\": \"jazz\", \"faction\": \"autobot\"},\n",
    "    {\"name\": \"metroplex\", \"faction\": \"autobot\"},\n",
    "    {\"name\": \"megatron\", \"faction\": \"decepticon\"},\n",
    "    {\"name\": \"starcream\", \"faction\": \"decepticon\"},\n",
    "]\n",
    "for key, group in itertools.groupby(robots, key=lambda x: x['faction']):\n",
    "print(key)\n",
    "print(list(group))\n",
    "...\n",
    "# autobot\n",
    "# [{'name': 'blaster', 'faction': 'autobot'}]\n",
    "# decepticon\n",
    "# [{'name': 'galvatron', 'faction': 'decepticon'}]\n",
    "# autobot\n",
    "# [{'name': 'jazz', 'faction': 'autobot'}, {'name': 'metroplex', 'faction': 'autobot'}]\n",
    "# decepticon\n",
    "# [{'name': 'megatron', 'faction': 'decepticon'}, {'name': 'starcream', 'faction': 'decepticon'}]"
   ]
  },
  {
   "cell_type": "markdown",
   "id": "cdfa18e5",
   "metadata": {},
   "source": [
    "## islice()\n",
    "\n",
    "This function is very much like slices. This allows you to cut out a piece of an iterable."
   ]
  },
  {
   "cell_type": "code",
   "execution_count": null,
   "id": "ad2b12eb",
   "metadata": {},
   "outputs": [],
   "source": [
    "itertools.islice(iterable, start, stop[, step])"
   ]
  },
  {
   "cell_type": "markdown",
   "id": "64612420",
   "metadata": {},
   "source": [
    "Example:"
   ]
  },
  {
   "cell_type": "code",
   "execution_count": null,
   "id": "2a73bc0c",
   "metadata": {},
   "outputs": [],
   "source": [
    "colors = ['red', 'orange', 'yellow', 'green', 'blue',]\n",
    "few_colors = itertools.islice(colors, 2)\n",
    "for each in few_colors:\n",
    "print(each)\n",
    "...\n",
    "# red\n",
    "# orange"
   ]
  },
  {
   "cell_type": "markdown",
   "id": "b8af8803",
   "metadata": {},
   "source": [
    "## permutations()"
   ]
  },
  {
   "cell_type": "code",
   "execution_count": null,
   "id": "4eb85df5",
   "metadata": {},
   "outputs": [],
   "source": [
    "itertools.permutations(iterable, r=None)"
   ]
  },
  {
   "cell_type": "markdown",
   "id": "f486cbc0",
   "metadata": {},
   "source": [
    "Example:"
   ]
  },
  {
   "cell_type": "code",
   "execution_count": null,
   "id": "fb1d2654",
   "metadata": {},
   "outputs": [],
   "source": [
    "alpha_data = ['a', 'b', 'c']\n",
    "result = itertools.permutations(alpha_data)\n",
    "for each in result:\n",
    "print(each)\n",
    "...\n",
    "# ('a', 'b', 'c')\n",
    "# ('a', 'c', 'b')\n",
    "# ('b', 'a', 'c')\n",
    "# ('b', 'c', 'a')\n",
    "# ('c', 'a', 'b')\n",
    "# ('c', 'b', 'a')"
   ]
  },
  {
   "cell_type": "markdown",
   "id": "b7da149b",
   "metadata": {},
   "source": [
    "## product()\n",
    "\n",
    "Creates the cartesian products from a series of iterables."
   ]
  },
  {
   "cell_type": "code",
   "execution_count": null,
   "id": "7a2edd44",
   "metadata": {},
   "outputs": [],
   "source": [
    "num_data = [1, 2, 3]\n",
    "alpha_data = ['a', 'b', 'c']\n",
    "result = itertools.product(num_data, alpha_data)\n",
    "for each in result:\n",
    "print(each)\n",
    "...\n",
    "# (1, 'a')\n",
    "# (1, 'b')\n",
    "# (1, 'c')\n",
    "# (2, 'a')\n",
    "# (2, 'b')\n",
    "# (2, 'c')\n",
    "# (3, 'a')\n",
    "# (3, 'b')\n",
    "# (3, 'c')"
   ]
  },
  {
   "cell_type": "markdown",
   "id": "25df8a07",
   "metadata": {},
   "source": [
    "## repeat()\n",
    "\n",
    "This function will repeat an object over and over again. Unless, there is a times argument."
   ]
  },
  {
   "cell_type": "code",
   "execution_count": null,
   "id": "6409cb01",
   "metadata": {},
   "outputs": [],
   "source": [
    "itertools.repeat(object[, times])"
   ]
  },
  {
   "cell_type": "markdown",
   "id": "1c1513b3",
   "metadata": {},
   "source": [
    "Example:"
   ]
  },
  {
   "cell_type": "code",
   "execution_count": null,
   "id": "de15e042",
   "metadata": {},
   "outputs": [],
   "source": [
    "for i in itertools.repeat(\"spam\", 3):\n",
    "print(i)\n",
    "...\n",
    "# spam\n",
    "# spam\n",
    "# spam"
   ]
  },
  {
   "cell_type": "markdown",
   "id": "a6f104d7",
   "metadata": {},
   "source": [
    "## starmap()\n",
    "\n",
    "Makes an iterator that computes the function using arguments obtained from the iterable."
   ]
  },
  {
   "cell_type": "code",
   "execution_count": null,
   "id": "5fa9d40f",
   "metadata": {},
   "outputs": [],
   "source": [
    "itertools.starmap(function, iterable)"
   ]
  },
  {
   "cell_type": "markdown",
   "id": "e9524722",
   "metadata": {},
   "source": [
    "Example:"
   ]
  },
  {
   "cell_type": "code",
   "execution_count": null,
   "id": "7217c584",
   "metadata": {},
   "outputs": [],
   "source": [
    "data = [(2, 6), (8, 4), (7, 3)]\n",
    "result = itertools.starmap(operator.mul, data)\n",
    "for each in result:\n",
    "print(each)\n",
    "...\n",
    "# 12\n",
    "# 32\n",
    "# 21"
   ]
  },
  {
   "cell_type": "markdown",
   "id": "89a04b43",
   "metadata": {},
   "source": [
    "## takewhile()\n",
    "\n",
    "The opposite of dropwhile(). Makes an iterator and returns elements from the iterable as long as the predicate is true."
   ]
  },
  {
   "cell_type": "code",
   "execution_count": null,
   "id": "ab61db4f",
   "metadata": {},
   "outputs": [],
   "source": [
    "itertools.takewhile(predicate, iterable)"
   ]
  },
  {
   "cell_type": "markdown",
   "id": "0c99aff8",
   "metadata": {},
   "source": [
    "Example:"
   ]
  },
  {
   "cell_type": "code",
   "execution_count": null,
   "id": "071ca1cd",
   "metadata": {},
   "outputs": [],
   "source": [
    "data = [1, 2, 3, 4, 5, 6, 7, 8, 9, 10, 1]\n",
    "result = itertools.takewhile(lambda x: x<5, data)\n",
    "for each in result:\n",
    "print(each)\n",
    "...\n",
    "# 1\n",
    "# 2\n",
    "# 3\n",
    "# 4"
   ]
  },
  {
   "cell_type": "markdown",
   "id": "f6d0d280",
   "metadata": {},
   "source": [
    "## tee()\n",
    "\n",
    "Return n independent iterators from a single iterable."
   ]
  },
  {
   "cell_type": "code",
   "execution_count": null,
   "id": "1148e838",
   "metadata": {},
   "outputs": [],
   "source": [
    "itertools.tee(iterable, n=2)"
   ]
  },
  {
   "cell_type": "markdown",
   "id": "55862c33",
   "metadata": {},
   "source": [
    "Example:"
   ]
  },
  {
   "cell_type": "code",
   "execution_count": null,
   "id": "900090c8",
   "metadata": {},
   "outputs": [],
   "source": [
    "colors = ['red', 'orange', 'yellow', 'green', 'blue']\n",
    "alpha_colors, beta_colors = itertools.tee(colors)\n",
    "for each in alpha_colors:\n",
    "print(each)\n",
    "...\n",
    "# red\n",
    "# orange\n",
    "# yellow\n",
    "# green\n",
    "# blue\n",
    "colors = ['red', 'orange', 'yellow', 'green', 'blue']\n",
    "alpha_colors, beta_colors = itertools.tee(colors)\n",
    "for each in beta_colors:\n",
    "print(each)\n",
    "...\n",
    "# red\n",
    "# orange\n",
    "# yellow\n",
    "# green\n",
    "# blue"
   ]
  },
  {
   "cell_type": "markdown",
   "id": "54105e31",
   "metadata": {},
   "source": [
    "## zip_longest()\n",
    "\n",
    "Makes an iterator that aggregates elements from each of the iterables. If the iterables are of uneven length, missing values are filled-in with `fillvalue`. Iteration continues until the longest iterable is exhausted."
   ]
  },
  {
   "cell_type": "code",
   "execution_count": null,
   "id": "4617de3d",
   "metadata": {},
   "outputs": [],
   "source": [
    "itertools.zip_longest(*iterables, fillvalue=None)"
   ]
  },
  {
   "cell_type": "markdown",
   "id": "2aa27c25-bebf-484c-a0ef-e4ac51e3fe76",
   "metadata": {},
   "source": [
    "Example:"
   ]
  },
  {
   "cell_type": "code",
   "execution_count": null,
   "id": "50a695ff-e64a-49e0-b950-915e7b125766",
   "metadata": {},
   "outputs": [],
   "source": [
    "colors = ['red', 'orange', 'yellow', 'green', 'blue',]\n",
    "data = [1, 2, 3, 4, 5, 6, 7, 8, 9, 10,]\n",
    "for each in itertools.zip_longest(colors, data, fillvalue=None):\n",
    "    print(each)\n",
    "\n",
    "# ('red', 1)\n",
    "# ('orange', 2)\n",
    "# ('yellow', 3)\n",
    "# ('green', 4)\n",
    "# ('blue', 5)\n",
    "# (None, 6)\n",
    "# (None, 7)\n",
    "# (None, 8)\n",
    "# (None, 9)\n",
    "# (None, 10)"
   ]
  }
 ],
 "metadata": {
  "kernelspec": {
   "display_name": "Python 3 (ipykernel)",
   "language": "python",
   "name": "python3"
  },
  "language_info": {
   "codemirror_mode": {
    "name": "ipython",
    "version": 3
   },
   "file_extension": ".py",
   "mimetype": "text/x-python",
   "name": "python",
   "nbconvert_exporter": "python",
   "pygments_lexer": "ipython3",
   "version": "3.12.0"
  }
 },
 "nbformat": 4,
 "nbformat_minor": 5
}
