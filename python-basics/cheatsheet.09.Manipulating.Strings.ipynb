{
 "cells": [
  {
   "cell_type": "markdown",
   "id": "8f39d96b",
   "metadata": {},
   "source": [
    "# Manipulating Strings\n",
    "\n",
    "## Escape characters\n",
    "\n",
    "An escape character is created by typing a backslash `\\` followed by the character you want to insert.\n",
    "\n",
    "| Escape character | Prints as            |\n",
    "| ---------------- | -------------------- |\n",
    "| `\\'`             | Single quote         |\n",
    "| `\\\"`             | Double quote         |\n",
    "| `\\t`             | Tab                  |\n",
    "| `\\n`             | Newline (line break) |\n",
    "| `\\\\`             | Backslash            |\n",
    "| `\\b`             | Backspace            |\n",
    "| `\\ooo`           | Octal value          |\n",
    "| `\\r`             | Carriage Return      |"
   ]
  },
  {
   "cell_type": "code",
   "execution_count": null,
   "id": "aed9ee3a",
   "metadata": {},
   "outputs": [],
   "source": [
    "print(\"Hello there!\\nHow are you?\\nI\\'m doing fine.\")\n",
    "# Hello there!\n",
    "# How are you?\n",
    "# I'm doing fine."
   ]
  },
  {
   "cell_type": "markdown",
   "id": "41769125",
   "metadata": {},
   "source": [
    "## Raw strings\n",
    "\n",
    "A raw string entirely ignores all escape characters and prints any backslash that appears in the string."
   ]
  },
  {
   "cell_type": "code",
   "execution_count": null,
   "id": "a4190baa",
   "metadata": {},
   "outputs": [],
   "source": [
    "print(r\"Hello there!\\nHow are you?\\nI\\'m doing fine.\")\n",
    "# Hello there!\\nHow are you?\\nI\\'m doing fine."
   ]
  },
  {
   "cell_type": "markdown",
   "id": "a21e42f4",
   "metadata": {},
   "source": [
    "Raw strings are mostly used for [regular expression](https://www.pythoncheatsheet.org/cheatsheet/regular-expressions) definition.\n",
    "\n",
    "## Multiline Strings"
   ]
  },
  {
   "cell_type": "code",
   "execution_count": null,
   "id": "581b5ad9",
   "metadata": {},
   "outputs": [],
   "source": [
    "print(\n",
    "\"\"\"Dear Alice,\n",
    "\n",
    "Eve's cat has been arrested for catnapping,\n",
    "cat burglary, and extortion.\n",
    "\n",
    "Sincerely,\n",
    "Bob\"\"\"\n",
    ")\n",
    "\n",
    "# Dear Alice,\n",
    "\n",
    "# Eve's cat has been arrested for catnapping,\n",
    "# cat burglary, and extortion.\n",
    "\n",
    "# Sincerely,\n",
    "# Bob"
   ]
  },
  {
   "cell_type": "markdown",
   "id": "3b8ffa21",
   "metadata": {},
   "source": [
    "## Indexing and Slicing strings\n",
    "\n",
    "```\n",
    "H   e   l   l   o       w   o   r   l   d    !\n",
    "0   1   2   3   4   5   6   7   8   9   10   11\n",
    "```"
   ]
  },
  {
   "cell_type": "markdown",
   "id": "c2761156",
   "metadata": {},
   "source": [
    "### Indexing"
   ]
  },
  {
   "cell_type": "code",
   "execution_count": null,
   "id": "c76a89e0-80c9-4163-a8f5-ecf6c7de3249",
   "metadata": {},
   "outputs": [],
   "source": [
    "spam = 'Hello world!'"
   ]
  },
  {
   "cell_type": "code",
   "execution_count": null,
   "id": "53ec5eec-37c4-48d5-b2e3-327ba45d59c9",
   "metadata": {},
   "outputs": [],
   "source": [
    "spam[0]\n",
    "# 'H'"
   ]
  },
  {
   "cell_type": "code",
   "execution_count": null,
   "id": "10ee3b9e-ff00-4726-ba6c-f2f4841f64ed",
   "metadata": {},
   "outputs": [],
   "source": [
    "spam[4]\n",
    "# 'o'"
   ]
  },
  {
   "cell_type": "code",
   "execution_count": null,
   "id": "fe216f33-ac22-4ff0-8c0c-c02e6dd31e0e",
   "metadata": {},
   "outputs": [],
   "source": [
    "spam[-1]\n",
    "# '!'"
   ]
  },
  {
   "cell_type": "markdown",
   "id": "7960c83f",
   "metadata": {},
   "source": [
    "### Slicing"
   ]
  },
  {
   "cell_type": "code",
   "execution_count": null,
   "id": "fcdc70dc-5a8e-4998-9265-e4b48952f9b1",
   "metadata": {},
   "outputs": [],
   "source": [
    "spam = 'Hello world!'"
   ]
  },
  {
   "cell_type": "code",
   "execution_count": null,
   "id": "1e3c22cd-cab6-47b1-89d0-da30bb14ec5e",
   "metadata": {},
   "outputs": [],
   "source": [
    "spam[0:5]\n",
    "# 'Hello'"
   ]
  },
  {
   "cell_type": "code",
   "execution_count": null,
   "id": "18d0b9b1-97a5-40eb-ab28-2ea44f4dca32",
   "metadata": {},
   "outputs": [],
   "source": [
    "spam[:5]\n",
    "# 'Hello'"
   ]
  },
  {
   "cell_type": "code",
   "execution_count": null,
   "id": "156d3afc-ff0d-44b2-bb47-0b6543968d04",
   "metadata": {},
   "outputs": [],
   "source": [
    "spam[6:]\n",
    "# 'world!'"
   ]
  },
  {
   "cell_type": "code",
   "execution_count": null,
   "id": "a8a94c6d-1229-4e74-be33-5f6905c8d6d4",
   "metadata": {},
   "outputs": [],
   "source": [
    "spam[6:-1]\n",
    "# 'world'"
   ]
  },
  {
   "cell_type": "code",
   "execution_count": null,
   "id": "f6c3d494-c41b-4eaf-bb3f-08ca4e1570b5",
   "metadata": {},
   "outputs": [],
   "source": [
    "spam[:-1]\n",
    "# 'Hello world'"
   ]
  },
  {
   "cell_type": "code",
   "execution_count": null,
   "id": "b851faf9-237b-4870-ac0c-cc9b9ba6ea44",
   "metadata": {},
   "outputs": [],
   "source": [
    "spam[::-1]\n",
    "# '!dlrow olleH'"
   ]
  },
  {
   "cell_type": "code",
   "execution_count": null,
   "id": "a98191f3-4896-4768-ada4-f8df1f334f26",
   "metadata": {},
   "outputs": [],
   "source": [
    "fizz = spam[0:5]\n",
    "fizz\n",
    "# 'Hello'"
   ]
  },
  {
   "cell_type": "markdown",
   "id": "feba52dc",
   "metadata": {},
   "source": [
    "## The in and not in operators"
   ]
  },
  {
   "cell_type": "code",
   "execution_count": null,
   "id": "ac1350db-4bda-41e8-884c-1221bb985324",
   "metadata": {},
   "outputs": [],
   "source": [
    "'Hello' in 'Hello World'\n",
    "# True"
   ]
  },
  {
   "cell_type": "code",
   "execution_count": null,
   "id": "3c14288f-2032-46f7-8296-5355af2f2903",
   "metadata": {},
   "outputs": [],
   "source": [
    "'Hello' in 'Hello'\n",
    "# True"
   ]
  },
  {
   "cell_type": "code",
   "execution_count": null,
   "id": "f0d9ceaa-22a0-41e0-ab2f-812b5de5fbf0",
   "metadata": {},
   "outputs": [],
   "source": [
    "'HELLO' in 'Hello World'\n",
    "# False"
   ]
  },
  {
   "cell_type": "code",
   "execution_count": null,
   "id": "fda3f6a5-9731-4bcc-bf0b-677d188b6bcc",
   "metadata": {},
   "outputs": [],
   "source": [
    "'' in 'spam'\n",
    "# True"
   ]
  },
  {
   "cell_type": "code",
   "execution_count": null,
   "id": "9621cec5-9c41-4f26-98a9-fb50de135978",
   "metadata": {},
   "outputs": [],
   "source": [
    "'cats' not in 'cats and dogs'\n",
    "# False"
   ]
  },
  {
   "cell_type": "markdown",
   "id": "20e3a5fc",
   "metadata": {},
   "source": [
    "## upper(), lower() and title()\n",
    "\n",
    "Transforms a string to upper, lower and title case:"
   ]
  },
  {
   "cell_type": "code",
   "execution_count": null,
   "id": "bb55919c-4ca0-40d0-bc98-6d23bb5e00e0",
   "metadata": {},
   "outputs": [],
   "source": [
    "greet = 'Hello world!'"
   ]
  },
  {
   "cell_type": "code",
   "execution_count": null,
   "id": "8f7cd11f-6752-4e8e-b331-ca2490e38878",
   "metadata": {},
   "outputs": [],
   "source": [
    "greet.upper()\n",
    "# 'HELLO WORLD!'"
   ]
  },
  {
   "cell_type": "code",
   "execution_count": null,
   "id": "cb8c91c9-1c5e-4695-a7d0-c44a7980c49b",
   "metadata": {},
   "outputs": [],
   "source": [
    "greet.lower()\n",
    "# 'hello world!'"
   ]
  },
  {
   "cell_type": "code",
   "execution_count": null,
   "id": "2d0ba71b-111a-442f-8474-125e71065184",
   "metadata": {},
   "outputs": [],
   "source": [
    "greet.title()\n",
    "# 'Hello World!'"
   ]
  },
  {
   "cell_type": "markdown",
   "id": "e04e47e5",
   "metadata": {},
   "source": [
    "## isupper() and islower() methods\n",
    "\n",
    "Returns `True` or `False` after evaluating if a string is in upper or lower case:"
   ]
  },
  {
   "cell_type": "code",
   "execution_count": null,
   "id": "5909f5a4-2bf9-4946-bb9b-15c1d054fcef",
   "metadata": {},
   "outputs": [],
   "source": [
    "spam = 'Hello world!'"
   ]
  },
  {
   "cell_type": "code",
   "execution_count": null,
   "id": "ae898ccf-efab-42f1-b92d-f723bd4a7a85",
   "metadata": {},
   "outputs": [],
   "source": [
    "spam.islower()\n",
    "# False"
   ]
  },
  {
   "cell_type": "code",
   "execution_count": null,
   "id": "31600638-978a-4fd3-97f5-a129ee179f1a",
   "metadata": {},
   "outputs": [],
   "source": [
    "spam.isupper()\n",
    "# False"
   ]
  },
  {
   "cell_type": "code",
   "execution_count": null,
   "id": "96019e55-6853-4e75-a956-9aeb3a6f79a1",
   "metadata": {},
   "outputs": [],
   "source": [
    "'HELLO'.isupper()\n",
    "# True"
   ]
  },
  {
   "cell_type": "code",
   "execution_count": null,
   "id": "3b82ee38-7462-420b-bcdd-ab3dde054520",
   "metadata": {},
   "outputs": [],
   "source": [
    "'abc12345'.islower()\n",
    "# True"
   ]
  },
  {
   "cell_type": "code",
   "execution_count": null,
   "id": "eb74dd68-82c5-4907-a18d-ba5cb7d6e055",
   "metadata": {},
   "outputs": [],
   "source": [
    "'12345'.islower()\n",
    "# False"
   ]
  },
  {
   "cell_type": "code",
   "execution_count": null,
   "id": "e4d853cc-68b4-421e-8351-6af76852eb51",
   "metadata": {},
   "outputs": [],
   "source": [
    "'12345'.isupper()\n",
    "# False"
   ]
  },
  {
   "cell_type": "markdown",
   "id": "e1b485d1",
   "metadata": {},
   "source": [
    "## The isX string methods\n",
    "\n",
    "| Method      | Description                                                  |\n",
    "| ----------- | ------------------------------------------------------------ |\n",
    "| isalpha()   | returns `True` if the string consists only of letters.       |\n",
    "| isalnum()   | returns `True` if the string consists only of letters and numbers. |\n",
    "| isdecimal() | returns `True` if the string consists only of numbers.       |\n",
    "| isspace()   | returns `True` if the string consists only of spaces, tabs, and new-lines. |\n",
    "| istitle()   | returns `True` if the string consists only of words that begin with an uppercase letter followed by only lowercase characters. |\n",
    "\n",
    "## startswith() and endswith()"
   ]
  },
  {
   "cell_type": "code",
   "execution_count": null,
   "id": "17af6cfd-1b57-4b4c-853f-941f178f6376",
   "metadata": {},
   "outputs": [],
   "source": [
    "'Hello world!'.startswith('Hello')\n",
    "# True"
   ]
  },
  {
   "cell_type": "code",
   "execution_count": null,
   "id": "a396898b-4f2c-4e61-9fec-6174df2b601b",
   "metadata": {},
   "outputs": [],
   "source": [
    "'Hello world!'.endswith('world!')\n",
    "# True"
   ]
  },
  {
   "cell_type": "code",
   "execution_count": null,
   "id": "61dd88ed-c6c7-4f34-bed7-d2a76e0971f7",
   "metadata": {},
   "outputs": [],
   "source": [
    "'abc123'.startswith('abcdef')\n",
    "# False"
   ]
  },
  {
   "cell_type": "code",
   "execution_count": null,
   "id": "7a38e85d-71c0-4e33-8cef-e8f95fef4592",
   "metadata": {},
   "outputs": [],
   "source": [
    "'abc123'.endswith('12')\n",
    "# False"
   ]
  },
  {
   "cell_type": "code",
   "execution_count": null,
   "id": "8b3b219f-501e-463a-a4e0-48ec0ebf8200",
   "metadata": {},
   "outputs": [],
   "source": [
    "'Hello world!'.startswith('Hello world!')\n",
    "# True"
   ]
  },
  {
   "cell_type": "code",
   "execution_count": null,
   "id": "f1043a82-a89b-48db-b660-7a06301053ed",
   "metadata": {},
   "outputs": [],
   "source": [
    "'Hello world!'.endswith('Hello world!')\n",
    "# True"
   ]
  },
  {
   "cell_type": "markdown",
   "id": "377dc3b6",
   "metadata": {},
   "source": [
    "## join() and split()\n",
    "\n",
    "### join()\n",
    "\n",
    "The `join()` method takes all the items in an iterable, like a [list](https://www.pythoncheatsheet.org/cheatsheet/lists-and-tuples), [dictionary](https://www.pythoncheatsheet.org/cheatsheet/dictionaries), [tuple](https://www.pythoncheatsheet.org/cheatsheet/lists-and-tuples#the-tuple-data-type) or [set](https://www.pythoncheatsheet.org/cheatsheet/sets), and joins them into a string. You can also specify a separator."
   ]
  },
  {
   "cell_type": "code",
   "execution_count": null,
   "id": "171007d9-9108-42fc-8e5e-25b83aca244a",
   "metadata": {},
   "outputs": [],
   "source": [
    "''.join(['My', 'name', 'is', 'Simon'])\n",
    "# 'MynameisSimon'"
   ]
  },
  {
   "cell_type": "code",
   "execution_count": null,
   "id": "5cd79721-6aad-44c8-b238-462603302cf0",
   "metadata": {},
   "outputs": [],
   "source": [
    "', '.join(['cats', 'rats', 'bats'])\n",
    "# 'cats, rats, bats'"
   ]
  },
  {
   "cell_type": "code",
   "execution_count": null,
   "id": "6f31a94a-128f-420b-a715-6e5e30d56ed8",
   "metadata": {},
   "outputs": [],
   "source": [
    "' '.join(['My', 'name', 'is', 'Simon'])\n",
    "# 'My name is Simon'"
   ]
  },
  {
   "cell_type": "code",
   "execution_count": null,
   "id": "dcbf6a70-9b15-44e8-b363-e09a182b886e",
   "metadata": {},
   "outputs": [],
   "source": [
    "'ABC'.join(['My', 'name', 'is', 'Simon'])\n",
    "# 'MyABCnameABCisABCSimon'"
   ]
  },
  {
   "cell_type": "markdown",
   "id": "b79f20df",
   "metadata": {},
   "source": [
    "### split()\n",
    "\n",
    "The `split()` method splits a `string` into a `list`. By default, it will use whitespace to separate the items, but you can also set another character of choice:"
   ]
  },
  {
   "cell_type": "code",
   "execution_count": null,
   "id": "8067272f-b9cf-4236-8aca-799b64347062",
   "metadata": {},
   "outputs": [],
   "source": [
    "'My name is Simon'.split()\n",
    "# ['My', 'name', 'is', 'Simon']"
   ]
  },
  {
   "cell_type": "code",
   "execution_count": null,
   "id": "c50c762d-ac08-4069-8eb4-f90a56ce131a",
   "metadata": {},
   "outputs": [],
   "source": [
    "'MyABCnameABCisABCSimon'.split('ABC')\n",
    "# ['My', 'name', 'is', 'Simon']"
   ]
  },
  {
   "cell_type": "code",
   "execution_count": null,
   "id": "d8f5014e-0a6c-4765-99ff-64551dc591ad",
   "metadata": {},
   "outputs": [],
   "source": [
    "'My name is Simon'.split('m')\n",
    "# ['My na', 'e is Si', 'on']"
   ]
  },
  {
   "cell_type": "code",
   "execution_count": null,
   "id": "efea0c2f-ebee-49af-9312-a20b3f152aac",
   "metadata": {},
   "outputs": [],
   "source": [
    "' My  name is  Simon'.split()\n",
    "# ['My', 'name', 'is', 'Simon']"
   ]
  },
  {
   "cell_type": "code",
   "execution_count": null,
   "id": "5fdb1a41-fd1d-40c1-bc07-a8d155e6bc67",
   "metadata": {},
   "outputs": [],
   "source": [
    "' My  name is  Simon'.split(' ')\n",
    "# ['', 'My', '', 'name', 'is', '', 'Simon']"
   ]
  },
  {
   "cell_type": "markdown",
   "id": "fc11de45",
   "metadata": {},
   "source": [
    "## Justifying text with rjust(), ljust() and center()"
   ]
  },
  {
   "cell_type": "code",
   "execution_count": null,
   "id": "a9aedfd1-5c68-49bc-881b-b7cba7144cab",
   "metadata": {},
   "outputs": [],
   "source": [
    "'Hello'.rjust(10)\n",
    "# '     Hello'"
   ]
  },
  {
   "cell_type": "code",
   "execution_count": null,
   "id": "f7e424f9-8402-450e-a88f-15e6d498f83b",
   "metadata": {},
   "outputs": [],
   "source": [
    "'Hello'.rjust(20)\n",
    "# '               Hello'"
   ]
  },
  {
   "cell_type": "code",
   "execution_count": null,
   "id": "16910add-3801-40f5-a6f3-130934b83843",
   "metadata": {},
   "outputs": [],
   "source": [
    "'Hello World'.rjust(20)\n",
    "# '         Hello World'"
   ]
  },
  {
   "cell_type": "code",
   "execution_count": null,
   "id": "7ae6b69f-ab57-4aa1-a62f-53cb994d7a6f",
   "metadata": {},
   "outputs": [],
   "source": [
    "'Hello'.ljust(10)\n",
    "# 'Hello     '"
   ]
  },
  {
   "cell_type": "code",
   "execution_count": null,
   "id": "df926d3b-7471-4760-865d-fa7dcd2f3adf",
   "metadata": {},
   "outputs": [],
   "source": [
    "'Hello'.center(20)\n",
    "# '       Hello       '"
   ]
  },
  {
   "cell_type": "markdown",
   "id": "673b34dd",
   "metadata": {},
   "source": [
    "An optional second argument to `rjust()` and `ljust()` will specify a fill character apart from a space character:"
   ]
  },
  {
   "cell_type": "code",
   "execution_count": null,
   "id": "0dd4b819-b306-43ea-a183-0e4111b10563",
   "metadata": {},
   "outputs": [],
   "source": [
    "'Hello'.rjust(20, '*')\n",
    "# '***************Hello'"
   ]
  },
  {
   "cell_type": "code",
   "execution_count": null,
   "id": "c5d36ede-914c-47a3-ac1c-3b87056dac9f",
   "metadata": {},
   "outputs": [],
   "source": [
    "'Hello'.ljust(20, '-')\n",
    "# 'Hello---------------'"
   ]
  },
  {
   "cell_type": "code",
   "execution_count": null,
   "id": "51eda1a3-481e-4252-a05b-c8f352be4674",
   "metadata": {},
   "outputs": [],
   "source": [
    "'Hello'.center(20, '=')\n",
    "# '=======Hello========'"
   ]
  },
  {
   "cell_type": "markdown",
   "id": "876a71c1",
   "metadata": {},
   "source": [
    "## Removing whitespace with strip(), rstrip(), and lstrip()"
   ]
  },
  {
   "cell_type": "code",
   "execution_count": null,
   "id": "bb71fba0-0327-448f-a438-0e7a9f7fbd0a",
   "metadata": {},
   "outputs": [],
   "source": [
    "spam = '    Hello World     '"
   ]
  },
  {
   "cell_type": "code",
   "execution_count": null,
   "id": "0a317e27-cf70-45f7-b3f5-e8dd207e2cb5",
   "metadata": {},
   "outputs": [],
   "source": [
    "spam.strip()\n",
    "# 'Hello World'"
   ]
  },
  {
   "cell_type": "code",
   "execution_count": null,
   "id": "345e81d7-addd-4c53-8014-b95fa506fcd8",
   "metadata": {},
   "outputs": [],
   "source": [
    "spam.lstrip()\n",
    "# 'Hello World     '"
   ]
  },
  {
   "cell_type": "code",
   "execution_count": null,
   "id": "653600ba-243f-4d25-a119-7f554db66224",
   "metadata": {},
   "outputs": [],
   "source": [
    "spam.rstrip()\n",
    "# '    Hello World'"
   ]
  },
  {
   "cell_type": "code",
   "execution_count": null,
   "id": "7162a17c-3b69-41b5-bde2-942500cbcf64",
   "metadata": {},
   "outputs": [],
   "source": [
    "spam = 'SpamSpamBaconSpamEggsSpamSpam'\n",
    "spam.strip('ampS')\n",
    "# 'BaconSpamEggs'"
   ]
  },
  {
   "cell_type": "markdown",
   "id": "307b35a2",
   "metadata": {},
   "source": [
    "## The Count Method\n",
    "\n",
    "Counts the number of occurences of a given character or substring in the string it is applied to. Can be optionally provided start and end index.\n"
   ]
  },
  {
   "cell_type": "code",
   "execution_count": null,
   "id": "55ec8da2-5d38-4188-a0c1-8d7bda9011f1",
   "metadata": {},
   "outputs": [],
   "source": [
    "sentence = 'one sheep two sheep three sheep four'"
   ]
  },
  {
   "cell_type": "code",
   "execution_count": null,
   "id": "5ca7f0fa-caad-4c25-ad99-ee282d3afac6",
   "metadata": {},
   "outputs": [],
   "source": [
    "sentence.count('sheep')\n",
    "# 3"
   ]
  },
  {
   "cell_type": "code",
   "execution_count": null,
   "id": "8e0f7aff-e4b7-41d1-9c7f-940a321e95bc",
   "metadata": {},
   "outputs": [],
   "source": [
    "sentence.count('e')\n",
    "# 9"
   ]
  },
  {
   "cell_type": "code",
   "execution_count": null,
   "id": "2bd1d2be-1486-4ec6-83d9-afc39f606711",
   "metadata": {},
   "outputs": [],
   "source": [
    "sentence.count('e', 6)\n",
    "# 8\n",
    "# returns count of e after 'one sh' i.e 6 chars since beginning of string"
   ]
  },
  {
   "cell_type": "code",
   "execution_count": null,
   "id": "407df3b5-011d-4b3d-8cea-8612f975c34a",
   "metadata": {},
   "outputs": [],
   "source": [
    "sentence.count('e', 7)\n",
    "# 7"
   ]
  }
 ],
 "metadata": {
  "kernelspec": {
   "display_name": "Python 3 (ipykernel)",
   "language": "python",
   "name": "python3"
  },
  "language_info": {
   "codemirror_mode": {
    "name": "ipython",
    "version": 3
   },
   "file_extension": ".py",
   "mimetype": "text/x-python",
   "name": "python",
   "nbconvert_exporter": "python",
   "pygments_lexer": "ipython3",
   "version": "3.12.0"
  }
 },
 "nbformat": 4,
 "nbformat_minor": 5
}
