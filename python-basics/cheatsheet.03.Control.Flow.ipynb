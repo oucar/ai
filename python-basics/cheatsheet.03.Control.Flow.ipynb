{
 "cells": [
  {
   "cell_type": "markdown",
   "id": "491d68be",
   "metadata": {},
   "source": [
    "# Python Control Flow\n",
    "\n",
    "Control flow is the order in which individual statements, instructions, or function calls are executed or evaluated. The control flow of a Python program is regulated by conditional statements, loops, and function calls.\n",
    "\n",
    "## Comparison Operators\n",
    "\n",
    "| Operator | Meaning                  |\n",
    "| -------- | ------------------------ |\n",
    "| `==`     | Equal to                 |\n",
    "| `!=`     | Not equal to             |\n",
    "| `<`      | Less than                |\n",
    "| `>`      | Greater Than             |\n",
    "| `<=`     | Less than or Equal to    |\n",
    "| `>=`     | Greater than or Equal to |\n",
    "\n",
    "These operators evaluate to True or False depending on the values you give them.\n",
    "\n",
    "Examples:"
   ]
  },
  {
   "cell_type": "code",
   "execution_count": null,
   "id": "3a4acb43-9f4e-4fe9-be0d-6aefc27fc0c6",
   "metadata": {},
   "outputs": [],
   "source": [
    "42 == 42"
   ]
  },
  {
   "cell_type": "code",
   "execution_count": null,
   "id": "5b443362-7702-492a-82b8-dd9b69ebfb93",
   "metadata": {},
   "outputs": [],
   "source": [
    "40 == 42"
   ]
  },
  {
   "cell_type": "code",
   "execution_count": null,
   "id": "ca7e41f2-6913-4a64-bdea-39500d2ae701",
   "metadata": {},
   "outputs": [],
   "source": [
    "'hello' == 'hello'"
   ]
  },
  {
   "cell_type": "code",
   "execution_count": null,
   "id": "9f4c980b-a01f-4fd7-9ef9-d3250a586257",
   "metadata": {},
   "outputs": [],
   "source": [
    "'hello' == 'Hello'"
   ]
  },
  {
   "cell_type": "code",
   "execution_count": null,
   "id": "5b9ff137-0bf6-40a6-8680-fa7dd0e38d61",
   "metadata": {},
   "outputs": [],
   "source": [
    "'dog' != 'cat'"
   ]
  },
  {
   "cell_type": "code",
   "execution_count": null,
   "id": "8c98f059-2dd5-449e-a8aa-94ee99c8522c",
   "metadata": {},
   "outputs": [],
   "source": [
    "42 == 42.0"
   ]
  },
  {
   "cell_type": "code",
   "execution_count": null,
   "id": "f973b2c5-221e-4e8d-8f00-0e0e3339546a",
   "metadata": {},
   "outputs": [],
   "source": [
    "42 == '42'"
   ]
  },
  {
   "cell_type": "markdown",
   "id": "1d25344b",
   "metadata": {},
   "source": [
    "## Boolean Operators\n",
    "\n",
    "There are three Boolean operators: `and`, `or`, and `not`. In the order of precedence, highest to lowest they are `not`, `and` and `or`.\n",
    "\n",
    "The `and` Operator’s *Truth* Table:\n",
    "\n",
    "| Expression        | Evaluates to |\n",
    "| ----------------- | ------------ |\n",
    "| `True and True`   | `True`       |\n",
    "| `True and False`  | `False`      |\n",
    "| `False and True`  | `False`      |\n",
    "| `False and False` | `False`      |\n",
    "\n",
    "The `or` Operator’s *Truth* Table:\n",
    "\n",
    "| Expression       | Evaluates to |\n",
    "| ---------------- | ------------ |\n",
    "| `True or True`   | `True`       |\n",
    "| `True or False`  | `True`       |\n",
    "| `False or True`  | `True`       |\n",
    "| `False or False` | `False`      |\n",
    "\n",
    "The `not` Operator’s *Truth* Table:\n",
    "\n",
    "| Expression  | Evaluates to |\n",
    "| ----------- | ------------ |\n",
    "| `not True`  | `False`      |\n",
    "| `not False` | `True`       |\n",
    "\n",
    "## Mixing Operators\n",
    "\n",
    "You can mix boolean and comparison operators:"
   ]
  },
  {
   "cell_type": "code",
   "execution_count": null,
   "id": "83ff68f7-ecb0-4b06-aba3-ef05b6a9eaff",
   "metadata": {},
   "outputs": [],
   "source": [
    "(4 < 5) and (5 < 6)"
   ]
  },
  {
   "cell_type": "code",
   "execution_count": null,
   "id": "18eed8a2-259a-4c51-9048-b23456f1fedd",
   "metadata": {},
   "outputs": [],
   "source": [
    "(4 < 5) and (9 < 6)"
   ]
  },
  {
   "cell_type": "code",
   "execution_count": null,
   "id": "c7bc26c6-460e-44e6-ac49-cb232c95b871",
   "metadata": {},
   "outputs": [],
   "source": [
    "(1 == 2) or (2 == 2)"
   ]
  },
  {
   "cell_type": "markdown",
   "id": "e9185fec",
   "metadata": {},
   "source": [
    "Also, you can mix use multiple Boolean operators in an expression, along with the comparison operators:"
   ]
  },
  {
   "cell_type": "code",
   "execution_count": null,
   "id": "de112c82-2726-49f3-b9d8-a515d9b2a60d",
   "metadata": {},
   "outputs": [],
   "source": [
    "2 + 2 == 4 and not 2 + 2 == 5 and 2 * 2 == 2 + 2"
   ]
  },
  {
   "cell_type": "code",
   "execution_count": null,
   "id": "333e385b-1ce0-496c-ab3a-ac57e3f8a49c",
   "metadata": {},
   "outputs": [],
   "source": [
    "# In the statement below 3 < 4 and 5 > 5 gets executed first evaluating to False\n",
    "# Then 5 > 4 returns True so the results after True or False is True\n",
    "5 > 4 or 3 < 4 and 5 > 5"
   ]
  },
  {
   "cell_type": "code",
   "execution_count": null,
   "id": "bdc2f49f-b88f-404d-a7bf-f5ac5e6b4c3a",
   "metadata": {},
   "outputs": [],
   "source": [
    "# Now the statement within parentheses gets executed first so True and False returns False.\n",
    "(5 > 4 or 3 < 4) and 5 > 5"
   ]
  },
  {
   "cell_type": "markdown",
   "id": "07947b75",
   "metadata": {},
   "source": [
    "## if Statements\n",
    "\n",
    "The `if` statement evaluates an expression, and if that expression is `True`, it then executes the following indented code:"
   ]
  },
  {
   "cell_type": "code",
   "execution_count": null,
   "id": "50ae5979",
   "metadata": {},
   "outputs": [],
   "source": [
    "name = 'Debora'\n",
    "\n",
    "if name == 'Debora':\n",
    "    print('Hi, Debora')\n",
    "\n",
    "if name != 'George':\n",
    "    print('You are not George')"
   ]
  },
  {
   "cell_type": "markdown",
   "id": "29ce8453",
   "metadata": {},
   "source": [
    "The `else` statement executes only if the evaluation of the `if` and all the `elif` expressions are `False`:"
   ]
  },
  {
   "cell_type": "code",
   "execution_count": null,
   "id": "2de848be",
   "metadata": {},
   "outputs": [],
   "source": [
    "name = 'Debora'\n",
    "\n",
    "if name == 'George':\n",
    "    print('Hi, George.')\n",
    "else:\n",
    "    print('You are not George')"
   ]
  },
  {
   "cell_type": "markdown",
   "id": "098cfe40",
   "metadata": {},
   "source": [
    "Only after the `if` statement expression is `False`, the `elif` statement is evaluated and executed:"
   ]
  },
  {
   "cell_type": "code",
   "execution_count": null,
   "id": "264e3976",
   "metadata": {},
   "outputs": [],
   "source": [
    "name = 'George'\n",
    "\n",
    "if name == 'Debora':\n",
    "    print('Hi Debora!')\n",
    "elif name == 'George':\n",
    "    print('Hi George!')"
   ]
  },
  {
   "cell_type": "markdown",
   "id": "acdac8dc",
   "metadata": {},
   "source": [
    "the `elif` and `else` parts are optional."
   ]
  },
  {
   "cell_type": "code",
   "execution_count": null,
   "id": "a0903308",
   "metadata": {},
   "outputs": [],
   "source": [
    "name = 'Antony'\n",
    "\n",
    "if name == 'Debora':\n",
    "    print('Hi Debora!')\n",
    "elif name == 'George':\n",
    "    print('Hi George!')\n",
    "else:\n",
    "    print('Who are you?')"
   ]
  },
  {
   "cell_type": "markdown",
   "id": "9cf33ecc",
   "metadata": {},
   "source": [
    "## Ternary Conditional Operator\n",
    "\n",
    "Many programming languages have a ternary operator, which define a conditional expression. The most common usage is to make a terse, simple conditional assignment statement. In other words, it offers one-line code to evaluate the first expression if the condition is true, and otherwise it evaluates the second expression.\n",
    "\n",
    "```python\n",
    "<expression1> if <condition> else <expression2>\n",
    "```\n",
    "\n",
    "Example:"
   ]
  },
  {
   "cell_type": "code",
   "execution_count": null,
   "id": "c62e7ef4-5572-4db1-868d-656b3b883d7f",
   "metadata": {},
   "outputs": [],
   "source": [
    "age = 15\n",
    "\n",
    "# this if statement:\n",
    "if age < 18:\n",
    "    print('kid')\n",
    "else:\n",
    "    print('adult')"
   ]
  },
  {
   "cell_type": "code",
   "execution_count": null,
   "id": "4dcf5a97-8033-46ed-8524-1360667b0462",
   "metadata": {},
   "outputs": [],
   "source": [
    "# the above is equivalent to this ternary operator:\n",
    "print('kid' if age < 18 else 'adult')"
   ]
  },
  {
   "cell_type": "markdown",
   "id": "baeb0a71",
   "metadata": {},
   "source": [
    "Ternary operators can be chained:"
   ]
  },
  {
   "cell_type": "code",
   "execution_count": null,
   "id": "d75ab7bb-087d-460b-b3ee-c6dba2e98c25",
   "metadata": {},
   "outputs": [],
   "source": [
    "age = 15\n",
    "\n",
    "# this ternary operator:\n",
    "print('kid' if age < 13 else 'teen' if age < 18 else 'adult')"
   ]
  },
  {
   "cell_type": "code",
   "execution_count": null,
   "id": "f886822c-72c1-44fa-bd5d-407c0022041d",
   "metadata": {},
   "outputs": [],
   "source": [
    "# the above is equivalent to this if statement:\n",
    "if age < 18:\n",
    "    if age < 13:\n",
    "        print('kid')\n",
    "    else:\n",
    "        print('teen')\n",
    "else:\n",
    "    print('adult')"
   ]
  },
  {
   "cell_type": "markdown",
   "id": "d6134b69",
   "metadata": {},
   "source": [
    "## Switch-Case Statement\n",
    "\n",
    "\n",
    "\n",
    "Switch-Case statements\n",
    "\n",
    "In computer programming languages, a switch statement is a type of selection control mechanism used to allow the value of a variable or expression to change the control flow of program execution via search and map.\n",
    "\n",
    "The *Switch-Case statements*, or **Structural Pattern Matching**, was firstly introduced in 2020 via [PEP 622](https://peps.python.org/pep-0622/), and then officially released with **Python 3.10** in September 2022.\n",
    "\n",
    "\n",
    "\n",
    "Official Tutorial\n",
    "\n",
    "The [PEP 636](https://peps.python.org/pep-0636/) provides an official tutorial for the Python Pattern matching or Switch-Case statements.\n",
    "\n",
    "### Matching single values"
   ]
  },
  {
   "cell_type": "code",
   "execution_count": null,
   "id": "b758defe",
   "metadata": {},
   "outputs": [],
   "source": [
    "response_code = 201\n",
    "\n",
    "match response_code:\n",
    "    case 200:\n",
    "        print(\"OK\")\n",
    "    case 201:\n",
    "        print(\"Created\")\n",
    "    case 300:\n",
    "        print(\"Multiple Choices\")\n",
    "    case 307:\n",
    "        print(\"Temporary Redirect\")\n",
    "    case 404:\n",
    "        print(\"404 Not Found\")\n",
    "    case 500:\n",
    "        print(\"Internal Server Error\")\n",
    "    case 502:\n",
    "        print(\"502 Bad Gateway\")"
   ]
  },
  {
   "cell_type": "markdown",
   "id": "cc8d85ee",
   "metadata": {},
   "source": [
    "### Matching with the or Pattern\n",
    "\n",
    "In this example, the pipe character (`|` or `or`) allows python to return the same response for two or more cases."
   ]
  },
  {
   "cell_type": "code",
   "execution_count": null,
   "id": "07e3b814",
   "metadata": {},
   "outputs": [],
   "source": [
    "response_code = 502\n",
    "match response_code:\n",
    "    case 200 | 201:\n",
    "        print(\"OK\")\n",
    "    case 300 | 307:\n",
    "        print(\"Redirect\")\n",
    "    case 400 | 401:\n",
    "        print(\"Bad Request\")\n",
    "    case 500 | 502:\n",
    "        print(\"Internal Server Error\")\n",
    "\n",
    "# Internal Server Error"
   ]
  },
  {
   "cell_type": "markdown",
   "id": "30559039",
   "metadata": {},
   "source": [
    "### Matching by the length of an Iterable"
   ]
  },
  {
   "cell_type": "code",
   "execution_count": null,
   "id": "2595c5ee",
   "metadata": {},
   "outputs": [],
   "source": [
    "today_responses = [200, 300, 404, 500]\n",
    "match today_responses:\n",
    "    case [a]:\n",
    "        print(f\"One response today: {a}\")\n",
    "    case [a, b]:\n",
    "        print(f\"Two responses today: {a} and {b}\")\n",
    "    case [a, b, *rest]:\n",
    "        print(f\"All responses: {a}, {b}, {rest}\")\n",
    "\n",
    "# All responses: 200, 300, [404, 500]"
   ]
  },
  {
   "cell_type": "markdown",
   "id": "301f6c0f",
   "metadata": {},
   "source": [
    "### Default value\n",
    "\n",
    "The underscore symbol (`_`) is used to define a default case:"
   ]
  },
  {
   "cell_type": "code",
   "execution_count": null,
   "id": "9c5be448",
   "metadata": {},
   "outputs": [],
   "source": [
    "response_code = 800\n",
    "match response_code:\n",
    "    case 200 | 201:\n",
    "        print(\"OK\")\n",
    "    case 300 | 307:\n",
    "        print(\"Redirect\")\n",
    "    case 400 | 401:\n",
    "        print(\"Bad Request\")\n",
    "    case 500 | 502:\n",
    "        print(\"Internal Server Error\")\n",
    "    case _:\n",
    "        print(\"Invalid Code\")\n",
    "\n",
    "# Invalid Code"
   ]
  },
  {
   "cell_type": "markdown",
   "id": "7ed8f92c",
   "metadata": {},
   "source": [
    "### Matching Builtin Classes"
   ]
  },
  {
   "cell_type": "code",
   "execution_count": null,
   "id": "2b89d129",
   "metadata": {},
   "outputs": [],
   "source": [
    "response_code = \"300\"\n",
    "match response_code:\n",
    "    case int():\n",
    "        print('Code is a number')\n",
    "    case str():\n",
    "        print('Code is a string')\n",
    "    case _:\n",
    "        print('Code is neither a string nor a number')\n",
    "\n",
    "# Code is a string"
   ]
  },
  {
   "cell_type": "markdown",
   "id": "85f23840",
   "metadata": {},
   "source": [
    "### Guarding Match-Case Statements"
   ]
  },
  {
   "cell_type": "code",
   "execution_count": null,
   "id": "faaf6592",
   "metadata": {},
   "outputs": [],
   "source": [
    "response_code = 300\n",
    "match response_code:\n",
    "    case int():\n",
    "        if response_code > 99 and response_code < 500:\n",
    "            print('Code is a valid number')\n",
    "    case _:\n",
    "        print('Code is an invalid number')\n",
    "\n",
    "# Code is a valid number"
   ]
  },
  {
   "cell_type": "markdown",
   "id": "69924381",
   "metadata": {},
   "source": [
    "## while Loop Statements\n",
    "\n",
    "The while statement is used for repeated execution as long as an expression is `True`:"
   ]
  },
  {
   "cell_type": "code",
   "execution_count": null,
   "id": "cf5a1147",
   "metadata": {},
   "outputs": [],
   "source": [
    "spam = 0\n",
    "while spam < 5:\n",
    "    print('Hello, world.')\n",
    "    spam = spam + 1\n",
    "\n",
    "# Hello, world.\n",
    "# Hello, world.\n",
    "# Hello, world.\n",
    "# Hello, world.\n",
    "# Hello, world."
   ]
  },
  {
   "cell_type": "markdown",
   "id": "158feeb6",
   "metadata": {},
   "source": [
    "## break Statements\n",
    "\n",
    "If the execution reaches a `break` statement, it immediately exits the `while` loop’s clause:"
   ]
  },
  {
   "cell_type": "code",
   "execution_count": null,
   "id": "10b1ddfd",
   "metadata": {},
   "outputs": [],
   "source": [
    "while True:\n",
    "    name = input('Please type your name: ')\n",
    "    if name == 'your name':\n",
    "        break\n",
    "\n",
    "print('Thank you!')\n",
    "# Please type your name: your name\n",
    "# Thank you!"
   ]
  },
  {
   "cell_type": "markdown",
   "id": "e387960c",
   "metadata": {},
   "source": [
    "## continue Statements\n",
    "\n",
    "When the program execution reaches a `continue` statement, the program execution immediately jumps back to the start of the loop."
   ]
  },
  {
   "cell_type": "code",
   "execution_count": null,
   "id": "6bf9c589",
   "metadata": {},
   "outputs": [],
   "source": [
    "while True:\n",
    "    name = input('Who are you? ')\n",
    "    if name != 'Joe':\n",
    "        continue\n",
    "    password = input('Password? (It is a fish.): ')\n",
    "    if password == 'swordfish':\n",
    "        break\n",
    "\n",
    "print('Access granted.')\n",
    "# Who are you? Charles\n",
    "# Who are you? Debora\n",
    "# Who are you? Joe\n",
    "# Password? (It is a fish.): swordfish\n",
    "# Access granted."
   ]
  },
  {
   "cell_type": "markdown",
   "id": "afe736eb",
   "metadata": {},
   "source": [
    "## For loop\n",
    "\n",
    "The `for` loop iterates over a `list`, `tuple`, `dictionary`, `set` or `string`:"
   ]
  },
  {
   "cell_type": "code",
   "execution_count": null,
   "id": "ff7b398e",
   "metadata": {},
   "outputs": [],
   "source": [
    "pets = ['Bella', 'Milo', 'Loki']\n",
    "for pet in pets:\n",
    "    print(pet)\n",
    "\n",
    "# Bella\n",
    "# Milo\n",
    "# Loki"
   ]
  },
  {
   "cell_type": "markdown",
   "id": "e805a4a6",
   "metadata": {},
   "source": [
    "## The range() function\n",
    "\n",
    "The `range()` function returns a sequence of numbers. It starts from 0, increments by 1, and stops before a specified number:"
   ]
  },
  {
   "cell_type": "code",
   "execution_count": null,
   "id": "d443a549",
   "metadata": {},
   "outputs": [],
   "source": [
    "for i in range(5):\n",
    "    print(f'Will stop at 5! or 4? ({i})')\n",
    "\n",
    "# Will stop at 5! or 4? (0)\n",
    "# Will stop at 5! or 4? (1)\n",
    "# Will stop at 5! or 4? (2)\n",
    "# Will stop at 5! or 4? (3)\n",
    "# Will stop at 5! or 4? (4)"
   ]
  },
  {
   "cell_type": "markdown",
   "id": "2a410c88",
   "metadata": {},
   "source": [
    "The `range()` function can also modify its 3 defaults arguments. The first two will be the `start` and `stop` values, and the third will be the `step` argument. The step is the amount that the variable is increased by after each iteration."
   ]
  },
  {
   "cell_type": "code",
   "execution_count": null,
   "id": "d5dd48b5",
   "metadata": {},
   "outputs": [],
   "source": [
    "# range(start, stop, step)\n",
    "for i in range(0, 10, 2):\n",
    "    print(i)\n",
    "\n",
    "# 0\n",
    "# 2\n",
    "# 4\n",
    "# 6\n",
    "# 8"
   ]
  },
  {
   "cell_type": "markdown",
   "id": "c7b149d5",
   "metadata": {},
   "source": [
    "You can even use a negative number for the step argument to make the for loop count down instead of up."
   ]
  },
  {
   "cell_type": "code",
   "execution_count": null,
   "id": "8a3bfc6c",
   "metadata": {},
   "outputs": [],
   "source": [
    "for i in range(5, -1, -1):\n",
    "    print(i)\n",
    "\n",
    "# 5\n",
    "# 4\n",
    "# 3\n",
    "# 2\n",
    "# 1\n",
    "# 0"
   ]
  },
  {
   "cell_type": "markdown",
   "id": "21481a93",
   "metadata": {},
   "source": [
    "## For else statement\n",
    "\n",
    "This allows to specify a statement to execute in case of the full loop has been executed. Only useful when a `break` condition can occur in the loop:"
   ]
  },
  {
   "cell_type": "code",
   "execution_count": null,
   "id": "8a10bc83",
   "metadata": {},
   "outputs": [],
   "source": [
    "for i in [1, 2, 3, 4, 5]:\n",
    "    if i == 3:\n",
    "        break\n",
    "    else:\n",
    "        print(\"only executed when no item is equal to 3\")"
   ]
  },
  {
   "cell_type": "markdown",
   "id": "596ee8a5",
   "metadata": {},
   "source": [
    "## Ending a Program with sys.exit()\n",
    "\n",
    "`exit()` function allows exiting Python."
   ]
  },
  {
   "cell_type": "code",
   "execution_count": null,
   "id": "37714cba",
   "metadata": {},
   "outputs": [],
   "source": [
    "import sys\n",
    "\n",
    "while True:\n",
    "    feedback = input('Type exit to exit: ')\n",
    "    if feedback == 'exit':\n",
    "        print(f'You typed {feedback}.')\n",
    "        sys.exit()\n",
    "\n",
    "# Type exit to exit: open\n",
    "# Type exit to exit: close\n",
    "# Type exit to exit: exit\n",
    "# You typed exit"
   ]
  },
  {
   "cell_type": "code",
   "execution_count": null,
   "id": "76101e78-2a37-4d99-a412-1c02aa7e17d3",
   "metadata": {},
   "outputs": [],
   "source": []
  }
 ],
 "metadata": {
  "kernelspec": {
   "display_name": "Python 3 (ipykernel)",
   "language": "python",
   "name": "python3"
  },
  "language_info": {
   "codemirror_mode": {
    "name": "ipython",
    "version": 3
   },
   "file_extension": ".py",
   "mimetype": "text/x-python",
   "name": "python",
   "nbconvert_exporter": "python",
   "pygments_lexer": "ipython3",
   "version": "3.12.0"
  }
 },
 "nbformat": 4,
 "nbformat_minor": 5
}
