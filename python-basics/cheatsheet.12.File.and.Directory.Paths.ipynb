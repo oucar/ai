{
 "cells": [
  {
   "cell_type": "markdown",
   "id": "528515e4",
   "metadata": {},
   "source": [
    "# Handling file and directory Paths\n",
    "\n",
    "There are two main modules in Python that deal with path manipulation. One is the `os.path` module and the other is the `pathlib` module.\n",
    "\n",
    "os.path VS pathlib\n",
    "\n",
    "The `pathlib` module was added in Python 3.4, offering an object-oriented way to handle file system paths.\n",
    "\n",
    "## Linux and Windows Paths\n",
    "\n",
    "On Windows, paths are written using backslashes (`\\`) as the separator between folder names. On Unix based operating system such as macOS, Linux, and BSDs, the forward slash (`/`) is used as the path separator. Joining paths can be a headache if your code needs to work on different platforms.\n",
    "\n",
    "Fortunately, Python provides easy ways to handle this. We will showcase how to deal with both, `os.path.join` and `pathlib.Path.joinpath`\n",
    "\n",
    "Using `os.path.join` on Windows:"
   ]
  },
  {
   "cell_type": "code",
   "execution_count": null,
   "id": "bfec0fa0",
   "metadata": {},
   "outputs": [],
   "source": [
    "import os\n",
    "\n",
    "os.path.join('usr', 'bin', 'spam')\n",
    "# 'usr\\\\bin\\\\spam'"
   ]
  },
  {
   "cell_type": "markdown",
   "id": "1f7b0ba7",
   "metadata": {},
   "source": [
    "And using `pathlib` on *nix:"
   ]
  },
  {
   "cell_type": "code",
   "execution_count": null,
   "id": "6996a792",
   "metadata": {},
   "outputs": [],
   "source": [
    "from pathlib import Path\n",
    "\n",
    "print(Path('usr').joinpath('bin').joinpath('spam'))\n",
    "# usr/bin/spam"
   ]
  },
  {
   "cell_type": "markdown",
   "id": "4bbe58ac",
   "metadata": {},
   "source": [
    "`pathlib` also provides a shortcut to joinpath using the `/` operator:"
   ]
  },
  {
   "cell_type": "code",
   "execution_count": null,
   "id": "b39f2b76",
   "metadata": {},
   "outputs": [],
   "source": [
    "from pathlib import Path\n",
    "\n",
    "print(Path('usr') / 'bin' / 'spam')\n",
    "# usr/bin/spam"
   ]
  },
  {
   "cell_type": "markdown",
   "id": "cb7d349b",
   "metadata": {},
   "source": [
    "Notice the path separator is different between Windows and Unix based operating system, that’s why you want to use one of the above methods instead of adding strings together to join paths together.\n",
    "\n",
    "Joining paths is helpful if you need to create different file paths under the same directory.\n",
    "\n",
    "Using `os.path.join` on Windows:"
   ]
  },
  {
   "cell_type": "code",
   "execution_count": null,
   "id": "f993908a",
   "metadata": {},
   "outputs": [],
   "source": [
    "my_files = ['accounts.txt', 'details.csv', 'invite.docx']\n",
    "\n",
    "for filename in my_files:\n",
    "    print(os.path.join('C:\\\\Users\\\\asweigart', filename))\n",
    "\n",
    "# C:\\Users\\asweigart\\accounts.txt\n",
    "# C:\\Users\\asweigart\\details.csv\n",
    "# C:\\Users\\asweigart\\invite.docx"
   ]
  },
  {
   "cell_type": "markdown",
   "id": "e40401c5",
   "metadata": {},
   "source": [
    "Using `pathlib` on *nix:"
   ]
  },
  {
   "cell_type": "code",
   "execution_count": null,
   "id": "3cb8248d",
   "metadata": {},
   "outputs": [],
   "source": [
    "my_files = ['accounts.txt', 'details.csv', 'invite.docx']\n",
    "home = Path.home()\n",
    "for filename in my_files:\n",
    "    print(home / filename)\n",
    "\n",
    "# /home/asweigart/accounts.txt\n",
    "# /home/asweigart/details.csv\n",
    "# /home/asweigart/invite.docx"
   ]
  },
  {
   "cell_type": "markdown",
   "id": "c75c83bf",
   "metadata": {},
   "source": [
    "## The current working directory\n",
    "\n",
    "Using `os` on Windows:"
   ]
  },
  {
   "cell_type": "code",
   "execution_count": null,
   "id": "5cfd8a66-37d3-4070-aed8-791b13b4cdb7",
   "metadata": {},
   "outputs": [],
   "source": [
    "import os"
   ]
  },
  {
   "cell_type": "code",
   "execution_count": null,
   "id": "aac19a71-ee13-4cc2-920c-c9266ad59416",
   "metadata": {},
   "outputs": [],
   "source": [
    "os.getcwd()\n",
    "# 'C:\\\\Python34'\n",
    "os.chdir('C:\\\\Windows\\\\System32') # if you're on other OS, this line would call for error."
   ]
  },
  {
   "cell_type": "code",
   "execution_count": null,
   "id": "a16d27cd-d3b8-427c-aa07-d5834bae7c1b",
   "metadata": {},
   "outputs": [],
   "source": [
    "os.getcwd()\n",
    "# 'C:\\\\Windows\\\\System32'"
   ]
  },
  {
   "cell_type": "markdown",
   "id": "7f7c6629",
   "metadata": {},
   "source": [
    "Using `pathlib` on *nix:"
   ]
  },
  {
   "cell_type": "code",
   "execution_count": null,
   "id": "e688d69b-1439-435c-8fb8-4f6015da41da",
   "metadata": {},
   "outputs": [],
   "source": [
    "from pathlib import Path\n",
    "from os import chdir"
   ]
  },
  {
   "cell_type": "code",
   "execution_count": null,
   "id": "65507548-6dc1-4e91-8793-c5f5398c0959",
   "metadata": {},
   "outputs": [],
   "source": [
    "print(Path.cwd())\n",
    "# /home/asweigart"
   ]
  },
  {
   "cell_type": "code",
   "execution_count": null,
   "id": "4a27ce8e-b273-4183-9c8f-1f4349a2c664",
   "metadata": {},
   "outputs": [],
   "source": [
    "# you have to change path str to an existing path, otherwise this line would call for error.\n",
    "chdir('/usr/lib/python3.6') \n",
    "print(Path.cwd())\n",
    "# /usr/lib/python3.6"
   ]
  },
  {
   "cell_type": "markdown",
   "id": "506fed8a",
   "metadata": {},
   "source": [
    "## Creating new folders\n",
    "\n",
    "Using `os` on Windows:"
   ]
  },
  {
   "cell_type": "code",
   "execution_count": null,
   "id": "b49583b3",
   "metadata": {},
   "outputs": [],
   "source": [
    "import os\n",
    "# you have to change path str to an existing path, otherwise this line would call for error.\n",
    "os.makedirs('C:\\\\delicious\\\\walnut\\\\waffles')"
   ]
  },
  {
   "cell_type": "markdown",
   "id": "0a6185be",
   "metadata": {},
   "source": [
    "Using `pathlib` on *nix:"
   ]
  },
  {
   "cell_type": "code",
   "execution_count": null,
   "id": "39d67396",
   "metadata": {},
   "outputs": [],
   "source": [
    "from pathlib import Path\n",
    "cwd = Path.cwd()\n",
    "(cwd / 'delicious' / 'walnut' / 'waffles').mkdir()\n",
    "# Traceback (most recent call last):\n",
    "#   File \"<stdin>\", line 1, in <module>\n",
    "#   File \"/usr/lib/python3.6/pathlib.py\", line 1226, in mkdir\n",
    "#     self._accessor.mkdir(self, mode)\n",
    "#   File \"/usr/lib/python3.6/pathlib.py\", line 387, in wrapped\n",
    "#     return strfunc(str(pathobj), *args)\n",
    "# FileNotFoundError: [Errno 2] No such file or directory: '/home/asweigart/delicious/walnut/waffles'"
   ]
  },
  {
   "cell_type": "markdown",
   "id": "d079a877",
   "metadata": {},
   "source": [
    "Oh no, we got a nasty error! The reason is that the ‘delicious’ directory does not exist, so we cannot make the ‘walnut’ and the ‘waffles’ directories under it. To fix this, do:"
   ]
  },
  {
   "cell_type": "code",
   "execution_count": null,
   "id": "2dce637b",
   "metadata": {},
   "outputs": [],
   "source": [
    "from pathlib import Path\n",
    "cwd = Path.cwd()\n",
    "(cwd / 'delicious' / 'walnut' / 'waffles').mkdir(parents=True)"
   ]
  },
  {
   "cell_type": "markdown",
   "id": "a9530a32",
   "metadata": {},
   "source": [
    "And all is good :)\n",
    "\n",
    "## Absolute vs. Relative paths\n",
    "\n",
    "There are two ways to specify a file path.\n",
    "\n",
    "- An **absolute path**, which always begins with the root folder\n",
    "- A **relative path**, which is relative to the program’s current working directory\n",
    "\n",
    "There are also the dot (`.`) and dot-dot (`..`) folders. These are not real folders, but special names that can be used in a path. A single period (“dot”) for a folder name is shorthand for “this directory.” Two periods (“dot-dot”) means “the parent folder.”\n",
    "\n",
    "### Handling Absolute paths\n",
    "\n",
    "To see if a path is an absolute path:\n",
    "\n",
    "Using `os.path` on *nix:"
   ]
  },
  {
   "cell_type": "code",
   "execution_count": null,
   "id": "3db0b75d-9ee3-47b5-98bd-c62268877792",
   "metadata": {},
   "outputs": [],
   "source": [
    "import os"
   ]
  },
  {
   "cell_type": "code",
   "execution_count": null,
   "id": "f7187d26-505c-4391-ab25-5bedfca65486",
   "metadata": {},
   "outputs": [],
   "source": [
    "os.path.isabs('/')\n",
    "# True"
   ]
  },
  {
   "cell_type": "code",
   "execution_count": null,
   "id": "d1c32a01-f16f-4844-b25a-67400b35eb71",
   "metadata": {},
   "outputs": [],
   "source": [
    "os.path.isabs('..')\n",
    "# False"
   ]
  },
  {
   "cell_type": "markdown",
   "id": "8f07230f",
   "metadata": {},
   "source": [
    "Using `pathlib` on *nix:"
   ]
  },
  {
   "cell_type": "code",
   "execution_count": null,
   "id": "b7b9d181-7af3-483f-81c8-6a1fae9af444",
   "metadata": {},
   "outputs": [],
   "source": [
    "from pathlib import Path"
   ]
  },
  {
   "cell_type": "code",
   "execution_count": null,
   "id": "be4b49c8-1912-4bdd-8b78-1b785c42ba48",
   "metadata": {},
   "outputs": [],
   "source": [
    "Path('/').is_absolute()\n",
    "# True"
   ]
  },
  {
   "cell_type": "code",
   "execution_count": null,
   "id": "b6e98cd5-1e2e-4326-818c-8ab4cdfbc52e",
   "metadata": {},
   "outputs": [],
   "source": [
    "Path('..').is_absolute()\n",
    "# False"
   ]
  },
  {
   "cell_type": "markdown",
   "id": "99124f00",
   "metadata": {},
   "source": [
    "You can extract an absolute path with both `os.path` and `pathlib`\n",
    "\n",
    "Using `os.path` on *nix:"
   ]
  },
  {
   "cell_type": "code",
   "execution_count": null,
   "id": "fffab725-d53b-449e-8076-f3068a152f24",
   "metadata": {},
   "outputs": [],
   "source": [
    "import os"
   ]
  },
  {
   "cell_type": "code",
   "execution_count": null,
   "id": "67d82cfd-39ea-4a8f-b5e6-c01892861cad",
   "metadata": {},
   "outputs": [],
   "source": [
    "os.getcwd()\n",
    "# '/home/asweigart'"
   ]
  },
  {
   "cell_type": "code",
   "execution_count": null,
   "id": "1fa59142-32d3-4a87-9397-415927c6a731",
   "metadata": {},
   "outputs": [],
   "source": [
    "os.path.abspath('..')\n",
    "# '/home'"
   ]
  },
  {
   "cell_type": "markdown",
   "id": "64ee321d",
   "metadata": {},
   "source": [
    "Using `pathlib` on *nix:"
   ]
  },
  {
   "cell_type": "code",
   "execution_count": null,
   "id": "3836b7f2-607a-42a4-a4f3-e6637605c17f",
   "metadata": {},
   "outputs": [],
   "source": [
    "from pathlib import Path"
   ]
  },
  {
   "cell_type": "code",
   "execution_count": null,
   "id": "b91bd421-45a1-4383-8b85-c8e6a9785313",
   "metadata": {},
   "outputs": [],
   "source": [
    "print(Path.cwd())\n",
    "# /home/asweigart"
   ]
  },
  {
   "cell_type": "code",
   "execution_count": null,
   "id": "39194c0c-d34f-4ee8-a31b-b99715d1fd91",
   "metadata": {},
   "outputs": [],
   "source": [
    "print(Path('..').resolve())\n",
    "# /home"
   ]
  },
  {
   "cell_type": "markdown",
   "id": "769bec47",
   "metadata": {},
   "source": [
    "### Handling Relative paths\n",
    "\n",
    "You can get a relative path from a starting path to another path.\n",
    "\n",
    "Using `os.path` on *nix:"
   ]
  },
  {
   "cell_type": "code",
   "execution_count": null,
   "id": "c1d24a8b",
   "metadata": {},
   "outputs": [],
   "source": [
    "import os\n",
    "os.path.relpath('/etc/passwd', '/')\n",
    "# 'etc/passwd'"
   ]
  },
  {
   "cell_type": "markdown",
   "id": "9a17a2f8",
   "metadata": {},
   "source": [
    "Using `pathlib` on *nix:"
   ]
  },
  {
   "cell_type": "code",
   "execution_count": null,
   "id": "62cb4859",
   "metadata": {},
   "outputs": [],
   "source": [
    "from pathlib import Path\n",
    "print(Path('/etc/passwd').relative_to('/'))\n",
    "# etc/passwd"
   ]
  },
  {
   "cell_type": "markdown",
   "id": "7624ced9",
   "metadata": {},
   "source": [
    "## Path and File validity\n",
    "\n",
    "### Checking if a file/directory exists\n",
    "\n",
    "Using `os.path` on *nix:"
   ]
  },
  {
   "cell_type": "code",
   "execution_count": null,
   "id": "4bb3cdde-edb5-4601-9e13-de000253218c",
   "metadata": {},
   "outputs": [],
   "source": [
    "import os"
   ]
  },
  {
   "cell_type": "code",
   "execution_count": null,
   "id": "e7064279-7ebd-4803-a80c-51afeccf88ba",
   "metadata": {},
   "outputs": [],
   "source": [
    "os.path.exists('.')\n",
    "# True"
   ]
  },
  {
   "cell_type": "code",
   "execution_count": null,
   "id": "83fa5e5d-ccd7-4039-9f31-163f00a25691",
   "metadata": {},
   "outputs": [],
   "source": [
    "os.path.exists('setup.py')\n",
    "# True"
   ]
  },
  {
   "cell_type": "code",
   "execution_count": null,
   "id": "4c4bb4d1-0a6b-49e1-9a75-c4f9ba366f92",
   "metadata": {},
   "outputs": [],
   "source": [
    "os.path.exists('/etc')\n",
    "# True"
   ]
  },
  {
   "cell_type": "code",
   "execution_count": null,
   "id": "63a47e2c-e611-425f-b120-4cf66c037085",
   "metadata": {},
   "outputs": [],
   "source": [
    "os.path.exists('nonexistentfile')\n",
    "# False"
   ]
  },
  {
   "cell_type": "markdown",
   "id": "4e77aa18",
   "metadata": {},
   "source": [
    "Using `pathlib` on *nix:"
   ]
  },
  {
   "cell_type": "code",
   "execution_count": null,
   "id": "0a8932be-2cbc-4bac-a41f-163e5d99c167",
   "metadata": {},
   "outputs": [],
   "source": [
    "from pathlib import Path"
   ]
  },
  {
   "cell_type": "code",
   "execution_count": null,
   "id": "de3bdbe9-5f3e-414a-b19f-82256a42ff66",
   "metadata": {},
   "outputs": [],
   "source": [
    "Path('.').exists()\n",
    "# True"
   ]
  },
  {
   "cell_type": "code",
   "execution_count": null,
   "id": "56b97b44-1f2a-48ec-81c6-33343ae06e6a",
   "metadata": {},
   "outputs": [],
   "source": [
    "Path('setup.py').exists()\n",
    "# True"
   ]
  },
  {
   "cell_type": "code",
   "execution_count": null,
   "id": "e642ab6c-a675-48a1-bf60-7c41c16fd7ef",
   "metadata": {},
   "outputs": [],
   "source": [
    "Path('/etc').exists()\n",
    "# True"
   ]
  },
  {
   "cell_type": "code",
   "execution_count": null,
   "id": "9a4855a6-7d70-4fc2-9d5b-243dc709186a",
   "metadata": {},
   "outputs": [],
   "source": [
    "Path('nonexistentfile').exists()\n",
    "# False"
   ]
  },
  {
   "cell_type": "markdown",
   "id": "9920f868",
   "metadata": {},
   "source": [
    "### Checking if a path is a file\n",
    "\n",
    "Using `os.path` on *nix:"
   ]
  },
  {
   "cell_type": "code",
   "execution_count": null,
   "id": "5c1104a5-f2ca-439a-97b3-70793791331c",
   "metadata": {},
   "outputs": [],
   "source": [
    "import os"
   ]
  },
  {
   "cell_type": "code",
   "execution_count": null,
   "id": "31d734d4-dce2-487a-a74b-004987835c59",
   "metadata": {},
   "outputs": [],
   "source": [
    "os.path.isfile('setup.py')\n",
    "# True"
   ]
  },
  {
   "cell_type": "code",
   "execution_count": null,
   "id": "1c2579d7-fb94-4212-850a-16f75fea4697",
   "metadata": {},
   "outputs": [],
   "source": [
    "os.path.isfile('/home')\n",
    "# False"
   ]
  },
  {
   "cell_type": "code",
   "execution_count": null,
   "id": "b2cb02dc-c977-4f64-a707-0bb0338747ca",
   "metadata": {},
   "outputs": [],
   "source": [
    "os.path.isfile('nonexistentfile')\n",
    "# False"
   ]
  },
  {
   "cell_type": "markdown",
   "id": "e566c01c",
   "metadata": {},
   "source": [
    "Using `pathlib` on *nix:"
   ]
  },
  {
   "cell_type": "code",
   "execution_count": null,
   "id": "73af616e-2a99-4d51-9d82-2d7497824246",
   "metadata": {},
   "outputs": [],
   "source": [
    "from pathlib import Path"
   ]
  },
  {
   "cell_type": "code",
   "execution_count": null,
   "id": "088f3032-9865-4d59-9378-6c416c7d5433",
   "metadata": {},
   "outputs": [],
   "source": [
    "Path('setup.py').is_file()\n",
    "# True"
   ]
  },
  {
   "cell_type": "code",
   "execution_count": null,
   "id": "2bafb6d8-1daa-4418-b6d7-abcabc97d844",
   "metadata": {},
   "outputs": [],
   "source": [
    "Path('/home').is_file()\n",
    "# False"
   ]
  },
  {
   "cell_type": "code",
   "execution_count": null,
   "id": "726de869-a549-4b45-81fb-babfa3727101",
   "metadata": {},
   "outputs": [],
   "source": [
    "Path('nonexistentfile').is_file()\n",
    "# False"
   ]
  },
  {
   "cell_type": "markdown",
   "id": "80f161f1",
   "metadata": {},
   "source": [
    "### Checking if a path is a directory\n",
    "\n",
    "Using `os.path` on *nix:"
   ]
  },
  {
   "cell_type": "code",
   "execution_count": null,
   "id": "f8c10bcd-8642-4a11-95c0-621f2c9c3f9d",
   "metadata": {},
   "outputs": [],
   "source": [
    "import os"
   ]
  },
  {
   "cell_type": "code",
   "execution_count": null,
   "id": "afbacc70-f5f6-488a-801f-e9a64d782898",
   "metadata": {},
   "outputs": [],
   "source": [
    "os.path.isdir('/')\n",
    "# True"
   ]
  },
  {
   "cell_type": "code",
   "execution_count": null,
   "id": "64b0c428-e7fa-4dfd-bde4-2451d1db0fe4",
   "metadata": {},
   "outputs": [],
   "source": [
    "os.path.isdir('setup.py')\n",
    "# False"
   ]
  },
  {
   "cell_type": "code",
   "execution_count": null,
   "id": "c0c7c8c1-23de-45b5-aa1d-56725cf3ba42",
   "metadata": {},
   "outputs": [],
   "source": [
    "os.path.isdir('/spam')\n",
    "# False"
   ]
  },
  {
   "cell_type": "markdown",
   "id": "8f6ecc25",
   "metadata": {},
   "source": [
    "Using `pathlib` on *nix:"
   ]
  },
  {
   "cell_type": "code",
   "execution_count": null,
   "id": "060d7a6b-fc9c-465d-bd55-67d18400329b",
   "metadata": {},
   "outputs": [],
   "source": [
    "from pathlib import Path"
   ]
  },
  {
   "cell_type": "code",
   "execution_count": null,
   "id": "9a2d189e-9100-4cd6-84d2-cac7882e8d04",
   "metadata": {},
   "outputs": [],
   "source": [
    "Path('/').is_dir()\n",
    "# True"
   ]
  },
  {
   "cell_type": "code",
   "execution_count": null,
   "id": "9cd2ef05-36f5-4ea3-b192-a5b038c357d9",
   "metadata": {},
   "outputs": [],
   "source": [
    "Path('setup.py').is_dir()\n",
    "# False"
   ]
  },
  {
   "cell_type": "code",
   "execution_count": null,
   "id": "1afbaa7f-325e-41b6-95c2-864e50814085",
   "metadata": {},
   "outputs": [],
   "source": [
    "Path('/spam').is_dir()\n",
    "# False"
   ]
  },
  {
   "cell_type": "markdown",
   "id": "fe0566c0",
   "metadata": {},
   "source": [
    "## Getting a file’s size in bytes\n",
    "\n",
    "Using `os.path` on Windows:"
   ]
  },
  {
   "cell_type": "code",
   "execution_count": null,
   "id": "2b5f6ac3",
   "metadata": {},
   "outputs": [],
   "source": [
    "import os\n",
    "\n",
    "os.path.getsize('C:\\\\Windows\\\\System32\\\\calc.exe')\n",
    "# 776192"
   ]
  },
  {
   "cell_type": "markdown",
   "id": "0114116e",
   "metadata": {},
   "source": [
    "Using `pathlib` on *nix:"
   ]
  },
  {
   "cell_type": "code",
   "execution_count": null,
   "id": "799e532e-05a8-4098-8639-41a8909d1d5e",
   "metadata": {},
   "outputs": [],
   "source": [
    "from pathlib import Path"
   ]
  },
  {
   "cell_type": "code",
   "execution_count": null,
   "id": "ebdaf804-a223-4b4c-acdb-328940fe899c",
   "metadata": {},
   "outputs": [],
   "source": [
    "stat = Path('/bin/python3.6').stat()\n",
    "print(stat) # stat contains some other information about the file as well\n",
    "# os.stat_result(st_mode=33261, st_ino=141087, st_dev=2051, st_nlink=2, st_uid=0,\n",
    "# --snip--\n",
    "# st_gid=0, st_size=10024, st_atime=1517725562, st_mtime=1515119809, st_ctime=1517261276)"
   ]
  },
  {
   "cell_type": "code",
   "execution_count": null,
   "id": "bc06d7cf-b98b-4ba8-bd00-05e64826f843",
   "metadata": {},
   "outputs": [],
   "source": [
    "print(stat.st_size) # size in bytes\n",
    "# 10024"
   ]
  },
  {
   "cell_type": "markdown",
   "id": "1f4d4173",
   "metadata": {},
   "source": [
    "## Listing directories\n",
    "\n",
    "Listing directory contents using `os.listdir` on Windows:"
   ]
  },
  {
   "cell_type": "code",
   "execution_count": null,
   "id": "bb34cb01",
   "metadata": {},
   "outputs": [],
   "source": [
    "import os\n",
    "\n",
    "os.listdir('C:\\\\Windows\\\\System32')\n",
    "# ['0409', '12520437.cpx', '12520850.cpx', '5U877.ax', 'aaclient.dll',\n",
    "# --snip--\n",
    "# 'xwtpdui.dll', 'xwtpw32.dll', 'zh-CN', 'zh-HK', 'zh-TW', 'zipfldr.dll']"
   ]
  },
  {
   "cell_type": "markdown",
   "id": "28f36a01",
   "metadata": {},
   "source": [
    "Listing directory contents using `pathlib` on *nix:"
   ]
  },
  {
   "cell_type": "code",
   "execution_count": null,
   "id": "4d34a9c2",
   "metadata": {},
   "outputs": [],
   "source": [
    "from pathlib import Path\n",
    "\n",
    "for f in Path('/usr/bin').iterdir():\n",
    "    print(f)\n",
    "\n",
    "# ...\n",
    "# /usr/bin/tiff2rgba\n",
    "# /usr/bin/iconv\n",
    "# /usr/bin/ldd\n",
    "# /usr/bin/cache_restore\n",
    "# /usr/bin/udiskie\n",
    "# /usr/bin/unix2dos\n",
    "# /usr/bin/t1reencode\n",
    "# /usr/bin/epstopdf\n",
    "# /usr/bin/idle3\n",
    "# ..."
   ]
  },
  {
   "cell_type": "markdown",
   "id": "3cb5754f",
   "metadata": {},
   "source": [
    "## Directory file sizes\n",
    "\n",
    "\n",
    "\n",
    "WARNING\n",
    "\n",
    "Directories themselves also have a size! So, you might want to check for whether a path is a file or directory using the methods in the methods discussed in the above section.\n",
    "\n",
    "Using `os.path.getsize()` and `os.listdir()` together on Windows:"
   ]
  },
  {
   "cell_type": "code",
   "execution_count": null,
   "id": "99641dd8",
   "metadata": {},
   "outputs": [],
   "source": [
    "import os\n",
    "total_size = 0\n",
    "\n",
    "for filename in os.listdir('C:\\\\Windows\\\\System32'):\n",
    "    total_size = total_size + os.path.getsize(os.path.join('C:\\\\Windows\\\\System32', filename))\n",
    "\n",
    "print(total_size)\n",
    "# 1117846456"
   ]
  },
  {
   "cell_type": "markdown",
   "id": "50ca469f",
   "metadata": {},
   "source": [
    "Using `pathlib` on *nix:"
   ]
  },
  {
   "cell_type": "code",
   "execution_count": null,
   "id": "05d94748",
   "metadata": {},
   "outputs": [],
   "source": [
    "from pathlib import Path\n",
    "\n",
    "total_size = 0\n",
    "for sub_path in Path('/usr/bin').iterdir():\n",
    "    total_size += sub_path.stat().st_size\n",
    "\n",
    "print(total_size)\n",
    "# 1903178911"
   ]
  },
  {
   "cell_type": "markdown",
   "id": "a2ab2369",
   "metadata": {},
   "source": [
    "## Copying files and folders\n",
    "\n",
    "The `shutil` module provides functions for copying files, as well as entire folders."
   ]
  },
  {
   "cell_type": "code",
   "execution_count": null,
   "id": "b0e4c2a1-a3b0-4968-96e2-b09f99869f40",
   "metadata": {},
   "outputs": [],
   "source": [
    "import shutil, os"
   ]
  },
  {
   "cell_type": "code",
   "execution_count": null,
   "id": "f0a005b6-e545-42ac-8c55-5e718b5ed6a1",
   "metadata": {},
   "outputs": [],
   "source": [
    "os.chdir('C:\\\\')\n",
    "shutil.copy('C:\\\\spam.txt', 'C:\\\\delicious')\n",
    "# C:\\\\delicious\\\\spam.txt'"
   ]
  },
  {
   "cell_type": "code",
   "execution_count": null,
   "id": "83a4e061-2383-4f97-9552-568f835bc837",
   "metadata": {},
   "outputs": [],
   "source": [
    "shutil.copy('eggs.txt', 'C:\\\\delicious\\\\eggs2.txt')\n",
    "# 'C:\\\\delicious\\\\eggs2.txt'"
   ]
  },
  {
   "cell_type": "markdown",
   "id": "f59a804e",
   "metadata": {},
   "source": [
    "While `shutil.copy()` will copy a single file, `shutil.copytree()` will copy an entire folder and every folder and file contained in it:"
   ]
  },
  {
   "cell_type": "code",
   "execution_count": null,
   "id": "669b1d7e-0c0b-4e7d-b90d-fcbe256653bc",
   "metadata": {},
   "outputs": [],
   "source": [
    "import shutil, os"
   ]
  },
  {
   "cell_type": "code",
   "execution_count": null,
   "id": "3b92aeb8-0d36-4cb9-8c08-dbb4e565ddd6",
   "metadata": {},
   "outputs": [],
   "source": [
    "os.chdir('C:\\\\')\n",
    "shutil.copytree('C:\\\\bacon', 'C:\\\\bacon_backup')\n",
    "# 'C:\\\\bacon_backup'"
   ]
  },
  {
   "cell_type": "markdown",
   "id": "f06d9cfc",
   "metadata": {},
   "source": [
    "## Moving and Renaming"
   ]
  },
  {
   "cell_type": "code",
   "execution_count": null,
   "id": "bd287abb-38b6-4b97-a2da-8702c374f387",
   "metadata": {},
   "outputs": [],
   "source": [
    "import shutil"
   ]
  },
  {
   "cell_type": "code",
   "execution_count": null,
   "id": "feaa32d5-9720-4ee3-bb1c-ebe0898ba9f6",
   "metadata": {},
   "outputs": [],
   "source": [
    "shutil.move('C:\\\\bacon.txt', 'C:\\\\eggs')\n",
    "# 'C:\\\\eggs\\\\bacon.txt'"
   ]
  },
  {
   "cell_type": "markdown",
   "id": "90d05395",
   "metadata": {},
   "source": [
    "The destination path can also specify a filename. In the following example, the source file is moved and renamed:"
   ]
  },
  {
   "cell_type": "code",
   "execution_count": null,
   "id": "eaa83396",
   "metadata": {},
   "outputs": [],
   "source": [
    "shutil.move('C:\\\\bacon.txt', 'C:\\\\eggs\\\\new_bacon.txt')\n",
    "# 'C:\\\\eggs\\\\new_bacon.txt'"
   ]
  },
  {
   "cell_type": "markdown",
   "id": "d91412ba",
   "metadata": {},
   "source": [
    "If there is no eggs folder, then `move()` will rename bacon.txt to a file named eggs:"
   ]
  },
  {
   "cell_type": "code",
   "execution_count": null,
   "id": "45896ad1",
   "metadata": {},
   "outputs": [],
   "source": [
    "shutil.move('C:\\\\bacon.txt', 'C:\\\\eggs')\n",
    "# 'C:\\\\eggs'"
   ]
  },
  {
   "cell_type": "markdown",
   "id": "6145bd46",
   "metadata": {},
   "source": [
    "## Deleting files and folders\n",
    "\n",
    "- Calling `os.unlink(path)` or `Path.unlink()` will delete the file at path.\n",
    "- Calling `os.rmdir(path)` or `Path.rmdir()` will delete the folder at path. This folder must be empty of any files or folders.\n",
    "- Calling `shutil.rmtree(path)` will remove the folder at path, and all files and folders it contains will also be deleted.\n",
    "\n",
    "## Walking a Directory Tree"
   ]
  },
  {
   "cell_type": "code",
   "execution_count": null,
   "id": "8664ee5b",
   "metadata": {},
   "outputs": [],
   "source": [
    "import os\n",
    "\n",
    "for folder_name, subfolders, filenames in os.walk('C:\\\\delicious'):\n",
    "    print(f'The current folder is {folder_name}')\n",
    "    for subfolder in subfolders:\n",
    "        print('SUBFOLDER OF {folder_name}: {subfolder}')\n",
    "        for filename in filenames:\n",
    "            print('FILE INSIDE {folder_name}: filename{filename}')\n",
    "            print('')\n",
    "\n",
    "# The current folder is C:\\delicious\n",
    "# SUBFOLDER OF C:\\delicious: cats\n",
    "# SUBFOLDER OF C:\\delicious: walnut\n",
    "# FILE INSIDE C:\\delicious: spam.txt\n",
    "\n",
    "# The current folder is C:\\delicious\\cats\n",
    "# FILE INSIDE C:\\delicious\\cats: catnames.txt\n",
    "# FILE INSIDE C:\\delicious\\cats: zophie.jpg\n",
    "\n",
    "# The current folder is C:\\delicious\\walnut\n",
    "# SUBFOLDER OF C:\\delicious\\walnut: waffles\n",
    "\n",
    "# The current folder is C:\\delicious\\walnut\\waffles\n",
    "# FILE INSIDE C:\\delicious\\walnut\\waffles: butter.txt"
   ]
  },
  {
   "cell_type": "markdown",
   "id": "14880a9f",
   "metadata": {},
   "source": [
    "Pathlib vs Os Module\n",
    "\n",
    "`pathlib` provides a lot more functionality than the ones listed above, like getting file name, getting file extension, reading/writing a file without manually opening it, etc. See the [official documentation](https://docs.python.org/3/library/pathlib.html) if you intend to know more."
   ]
  }
 ],
 "metadata": {
  "kernelspec": {
   "display_name": "Python 3 (ipykernel)",
   "language": "python",
   "name": "python3"
  },
  "language_info": {
   "codemirror_mode": {
    "name": "ipython",
    "version": 3
   },
   "file_extension": ".py",
   "mimetype": "text/x-python",
   "name": "python",
   "nbconvert_exporter": "python",
   "pygments_lexer": "ipython3",
   "version": "3.12.0"
  }
 },
 "nbformat": 4,
 "nbformat_minor": 5
}
