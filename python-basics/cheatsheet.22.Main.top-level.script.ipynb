{
 "cells": [
  {
   "cell_type": "markdown",
   "id": "0ba653e8",
   "metadata": {},
   "source": [
    "# Main top-level script environment\n",
    "\n",
    "## What is it\n",
    "\n",
    "`__main__` is the name of the scope in which top-level code executes. A module’s **name** is set equal to `__main__` when read from standard input, a script, or from an interactive prompt.\n",
    "\n",
    "A module can discover whether it is running in the main scope by checking its own `__name__`, which allows a common idiom for conditionally executing code in a module. When it is run as a script or with `python -m` but not when it is imported:"
   ]
  },
  {
   "cell_type": "code",
   "execution_count": null,
   "id": "b591901b",
   "metadata": {},
   "outputs": [],
   "source": [
    "if __name__ == \"__main__\":\n",
    "# execute only if run as a script\n",
    "main()"
   ]
  },
  {
   "cell_type": "markdown",
   "id": "1952934b",
   "metadata": {},
   "source": [
    "For a package, the same effect can be achieved by including a **main**.py module, the contents of which will be executed when the module is run with -m.\n",
    "\n",
    "For example, we are developing a script designed to be used as a module, we should do:"
   ]
  },
  {
   "cell_type": "code",
   "execution_count": null,
   "id": "aa903da3",
   "metadata": {},
   "outputs": [],
   "source": [
    "def add(a, b):\n",
    "    return a+b\n",
    "\n",
    "if __name__ == \"__main__\":\n",
    "add(3, 5)"
   ]
  },
  {
   "cell_type": "markdown",
   "id": "2e307e17",
   "metadata": {},
   "source": [
    "## Advantages\n",
    "\n",
    "1. Every Python module has it’s `__name__` defined and if this is `__main__`, it implies that the module is run standalone by the user, and we can do corresponding appropriate actions.\n",
    "2. If you import this script as a module in another script, the **name** is set to the name of the script/module.\n",
    "3. Python files can act as either reusable modules, or as standalone programs.\n",
    "4. if `__name__ == “main”:` is used to execute some code only if the file run directly, and is not being imported."
   ]
  }
 ],
 "metadata": {
  "kernelspec": {
   "display_name": "Python 3 (ipykernel)",
   "language": "python",
   "name": "python3"
  },
  "language_info": {
   "codemirror_mode": {
    "name": "ipython",
    "version": 3
   },
   "file_extension": ".py",
   "mimetype": "text/x-python",
   "name": "python",
   "nbconvert_exporter": "python",
   "pygments_lexer": "ipython3",
   "version": "3.12.0"
  }
 },
 "nbformat": 4,
 "nbformat_minor": 5
}
