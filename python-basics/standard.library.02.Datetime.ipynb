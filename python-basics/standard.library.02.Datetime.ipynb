{
 "cells": [
  {
   "cell_type": "markdown",
   "id": "b5cf6a05",
   "metadata": {},
   "source": [
    "# Python Datetime Module\n",
    "\n",
    "The Datetime module allows us to work with date and time objects. It provides three additional data types: `date`, `time` and `datetime`."
   ]
  },
  {
   "cell_type": "code",
   "execution_count": null,
   "id": "447418dc",
   "metadata": {},
   "outputs": [],
   "source": [
    "import datetime"
   ]
  },
  {
   "cell_type": "markdown",
   "id": "d55eae0d",
   "metadata": {},
   "source": [
    "## date()"
   ]
  },
  {
   "cell_type": "markdown",
   "id": "cb7e12bb",
   "metadata": {},
   "source": [
    "`datetime.date(year: int, month: int, day: int)`\n",
    "\n",
    "The date method return a date object with the `year`, `month` and `day` attributes:"
   ]
  },
  {
   "cell_type": "code",
   "execution_count": null,
   "id": "83a64aad-6ae9-431e-8058-916646aa9088",
   "metadata": {},
   "outputs": [],
   "source": [
    "from datetime import date"
   ]
  },
  {
   "cell_type": "code",
   "execution_count": null,
   "id": "be06fa98-2fa8-4e56-a2de-8cd7174ee12a",
   "metadata": {},
   "outputs": [],
   "source": [
    "obj = date(2022, 12, 1)\n",
    "obj.year\n",
    "# 2022"
   ]
  },
  {
   "cell_type": "code",
   "execution_count": null,
   "id": "b386b0e6-e5a0-4f76-a61f-85622d0ed360",
   "metadata": {},
   "outputs": [],
   "source": [
    "obj.month\n",
    "# 12"
   ]
  },
  {
   "cell_type": "code",
   "execution_count": null,
   "id": "0ed1433f-4727-42e6-8c35-42d1cdfff4a2",
   "metadata": {},
   "outputs": [],
   "source": [
    "obj.day\n",
    "# 1"
   ]
  },
  {
   "cell_type": "markdown",
   "id": "c7d992c1",
   "metadata": {},
   "source": [
    "## time()"
   ]
  },
  {
   "cell_type": "markdown",
   "id": "b5337896",
   "metadata": {},
   "source": [
    "`datetime.time(hour: int, minute: int, second: int)`\n",
    "\n",
    "The `time` method return a time object with the `hour`, `minute`, `second`, `microsecond` and `tzinfo` attributes:"
   ]
  },
  {
   "cell_type": "code",
   "execution_count": null,
   "id": "8284427d-67a4-4dd8-811c-d51116415583",
   "metadata": {},
   "outputs": [],
   "source": [
    "from datetime import time"
   ]
  },
  {
   "cell_type": "code",
   "execution_count": null,
   "id": "abe34fe7-afd0-4f9c-b43e-4f9bb45d73a4",
   "metadata": {},
   "outputs": [],
   "source": [
    "obj = time(10, 20, 33)"
   ]
  },
  {
   "cell_type": "code",
   "execution_count": null,
   "id": "a66db804-fb4e-43bd-93c6-f9e662407825",
   "metadata": {},
   "outputs": [],
   "source": [
    "obj.hour\n",
    "# 10"
   ]
  },
  {
   "cell_type": "code",
   "execution_count": null,
   "id": "d0872646-25e2-442b-912b-359b5a3b1de0",
   "metadata": {},
   "outputs": [],
   "source": [
    "obj.second\n",
    "# 33"
   ]
  },
  {
   "cell_type": "code",
   "execution_count": null,
   "id": "ea83b370-22c1-443c-aeb5-9dd18356441a",
   "metadata": {},
   "outputs": [],
   "source": [
    "obj.microsecond\n",
    "# 0"
   ]
  },
  {
   "cell_type": "markdown",
   "id": "76622e98",
   "metadata": {},
   "source": [
    "## datetime()"
   ]
  },
  {
   "cell_type": "markdown",
   "id": "554a7741",
   "metadata": {},
   "source": [
    "`datetime.datetime(year, month, day, hour, minute, second)`\n",
    "\n",
    "The `datetime` returns an object with both, the `date` and `time` objects attributes:"
   ]
  },
  {
   "cell_type": "code",
   "execution_count": null,
   "id": "b2feb3f6-357a-4ee7-b583-1a65fa2022f2",
   "metadata": {},
   "outputs": [],
   "source": [
    "from datetime import datetime"
   ]
  },
  {
   "cell_type": "code",
   "execution_count": null,
   "id": "a606e20e-be46-4ace-82ea-e59595dc14b8",
   "metadata": {},
   "outputs": [],
   "source": [
    "obj = datetime(2024, 12, 1, 15, 35, 59)"
   ]
  },
  {
   "cell_type": "code",
   "execution_count": null,
   "id": "a719174a-91d9-4b36-8177-3a577c360840",
   "metadata": {},
   "outputs": [],
   "source": [
    "obj.year\n",
    "# 2024"
   ]
  },
  {
   "cell_type": "code",
   "execution_count": null,
   "id": "2ec71585-c2db-44e5-93cf-2881278e0515",
   "metadata": {},
   "outputs": [],
   "source": [
    "obj.month\n",
    "# 12"
   ]
  },
  {
   "cell_type": "code",
   "execution_count": null,
   "id": "859711d8-615f-4472-b9f9-496ef04837f2",
   "metadata": {},
   "outputs": [],
   "source": [
    "obj.day\n",
    "# 1"
   ]
  },
  {
   "cell_type": "code",
   "execution_count": null,
   "id": "90e5ddaf-d48d-4698-80da-b9c181619882",
   "metadata": {},
   "outputs": [],
   "source": [
    "obj.hour\n",
    "# 15"
   ]
  },
  {
   "cell_type": "code",
   "execution_count": null,
   "id": "15d2c48b-7e6a-4dcf-9766-d0cebb225d2f",
   "metadata": {},
   "outputs": [],
   "source": [
    "obj.second\n",
    "# 59"
   ]
  },
  {
   "cell_type": "markdown",
   "id": "98013243",
   "metadata": {},
   "source": [
    "## now() and today()\n",
    "\n",
    "`now` and `today` methods return a `datetime` object with system’s exact day and time:"
   ]
  },
  {
   "cell_type": "code",
   "execution_count": null,
   "id": "d3651c38",
   "metadata": {},
   "outputs": [],
   "source": [
    "from datetime import datetime\n",
    "now = datetime.now()\n",
    "now\n",
    "# datetime.datetime(2022, 7, 23, 19, 56, 49, 589806)"
   ]
  },
  {
   "cell_type": "markdown",
   "id": "e8292334",
   "metadata": {},
   "source": [
    "Because the object returned is a `datetime`, we can access both, `date` and `time` attributes:"
   ]
  },
  {
   "cell_type": "code",
   "execution_count": null,
   "id": "6810c4a2-7cab-4004-82dc-9673478f8f6b",
   "metadata": {},
   "outputs": [],
   "source": [
    "now.date()\n",
    "# datetime.date(2022, 7, 23)"
   ]
  },
  {
   "cell_type": "code",
   "execution_count": null,
   "id": "c5533493-2d84-4403-b82c-9bdcfec9432d",
   "metadata": {},
   "outputs": [],
   "source": [
    "now.time()\n",
    "# datetime.time(19, 56, 49, 589806)"
   ]
  },
  {
   "cell_type": "code",
   "execution_count": null,
   "id": "ce41ec8c-7f12-4c08-9a84-7b6cc44c15a2",
   "metadata": {},
   "outputs": [],
   "source": [
    "now.year\n",
    "# 2022"
   ]
  },
  {
   "cell_type": "code",
   "execution_count": null,
   "id": "6704c033-ddb0-4e18-bf96-ba29ba600494",
   "metadata": {},
   "outputs": [],
   "source": [
    "now.month\n",
    "# 7"
   ]
  },
  {
   "cell_type": "code",
   "execution_count": null,
   "id": "9587efe4-f894-4626-b841-c07a0c6d17d8",
   "metadata": {},
   "outputs": [],
   "source": [
    "now.day\n",
    "# 23"
   ]
  },
  {
   "cell_type": "code",
   "execution_count": null,
   "id": "e42bcee5-9688-4aa6-9edc-72437b694d5b",
   "metadata": {},
   "outputs": [],
   "source": [
    "now.hour\n",
    "# 19"
   ]
  },
  {
   "cell_type": "code",
   "execution_count": null,
   "id": "f311ce86-b25f-4e11-aabe-12fc94384fde",
   "metadata": {},
   "outputs": [],
   "source": [
    "now.minute\n",
    "# 56"
   ]
  },
  {
   "cell_type": "code",
   "execution_count": null,
   "id": "4c74d82c-8b9b-428d-ac12-7710b6684928",
   "metadata": {},
   "outputs": [],
   "source": [
    "now.second\n",
    "# 49"
   ]
  },
  {
   "cell_type": "code",
   "execution_count": null,
   "id": "70eba2fb-0908-4262-86bd-9e16dcd702ae",
   "metadata": {},
   "outputs": [],
   "source": [
    "now.microsecond\n",
    "# 589806"
   ]
  },
  {
   "cell_type": "markdown",
   "id": "e0d6bc68",
   "metadata": {},
   "source": [
    "Additionally, `now` can take a [timezone](https://en.wikipedia.org/wiki/List_of_tz_database_time_zones) object as an optional parameter:"
   ]
  },
  {
   "cell_type": "code",
   "execution_count": null,
   "id": "af8da6a0",
   "metadata": {},
   "outputs": [],
   "source": [
    "from datetime import datetime, timezone\n",
    "datetime.now(timezone.utc)\n",
    "# datetime.datetime(2022, 7, 24, 0, 20, 8, 265634, tzinfo=datetime.timezone.utc)"
   ]
  },
  {
   "cell_type": "markdown",
   "id": "67f07089",
   "metadata": {},
   "source": [
    "If a *timezone* parameter is not specified, `now` will default to the system timezone.\n",
    "\n",
    "## strftime() and strptime()\n",
    "\n",
    "You can easily transform between strings and datetime objects with the `strftime` and `strptime` methods.\n",
    "\n",
    "### strftime()\n",
    "\n",
    "`strftime` allow us to create human formatted strings out of a Python datetime object:"
   ]
  },
  {
   "cell_type": "code",
   "execution_count": null,
   "id": "def11070-51db-4998-bf12-4e5ce3dad760",
   "metadata": {},
   "outputs": [],
   "source": [
    "from datetime import datetime"
   ]
  },
  {
   "cell_type": "code",
   "execution_count": null,
   "id": "3e4d2f98-002b-460e-9b7b-7b80bd784064",
   "metadata": {},
   "outputs": [],
   "source": [
    "now = datetime.now()\n",
    "now\n",
    "# datetime.datetime(2022, 7, 23, 20, 31, 19, 751479)"
   ]
  },
  {
   "cell_type": "code",
   "execution_count": null,
   "id": "235665b8-5d26-47b0-8e30-0dd3314dc624",
   "metadata": {},
   "outputs": [],
   "source": [
    "now.strftime(\"%d-%b-%Y\")\n",
    "# '23-Jul-2022'"
   ]
  },
  {
   "cell_type": "code",
   "execution_count": null,
   "id": "cd751cb2-4c33-4b46-8b07-bc19afb52655",
   "metadata": {},
   "outputs": [],
   "source": [
    "now.strftime(\"%d-%m-%Y\")\n",
    "# '23-07-2022'"
   ]
  },
  {
   "cell_type": "code",
   "execution_count": null,
   "id": "5c37839e-4b54-45db-942e-4378af8ae577",
   "metadata": {},
   "outputs": [],
   "source": [
    "now.strftime(\"%d-%b-%Y\")\n",
    "# '23-Jul-2022'"
   ]
  },
  {
   "cell_type": "code",
   "execution_count": null,
   "id": "686645e1-1460-40f8-b076-9fcc9fd109d3",
   "metadata": {},
   "outputs": [],
   "source": [
    "now.strftime(\"%d-%m-%Y\")\n",
    "# '23-07-2022'"
   ]
  },
  {
   "cell_type": "code",
   "execution_count": null,
   "id": "0acc4058-2c37-486c-888e-6239b352233a",
   "metadata": {},
   "outputs": [],
   "source": [
    "now.strftime(\"%m/%d/%Y\")\n",
    "# '07/23/2022'"
   ]
  },
  {
   "cell_type": "code",
   "execution_count": null,
   "id": "42f741d8-969b-46e3-9bae-9487a121272d",
   "metadata": {},
   "outputs": [],
   "source": [
    "now.strftime(\"%b/%d/%Y - %H:%M:%S\")\n",
    "# 'Jul/23/2022 - 20:31:19'"
   ]
  },
  {
   "cell_type": "markdown",
   "id": "bfc3b2e2",
   "metadata": {},
   "source": [
    "You may find the strings passed to `strftime` to be a little strange, but it is pretty easy to understand its meaning. For example, `%m/%d/%Y` will return the month, day, and year separated by `/` (07/23/2022).\n",
    "\n",
    "### strptime()\n",
    "\n",
    "The `strptime` method creates a `datetime` object from a string.\n",
    "\n",
    "This method accepts two parameters:"
   ]
  },
  {
   "cell_type": "code",
   "execution_count": null,
   "id": "ebd73833",
   "metadata": {},
   "outputs": [],
   "source": [
    "obj.strptime(datetime_string, format)"
   ]
  },
  {
   "cell_type": "markdown",
   "id": "136c525a",
   "metadata": {},
   "source": [
    "- A string representing a datetime object.\n",
    "- The python format code equivalent to that string."
   ]
  },
  {
   "cell_type": "code",
   "execution_count": null,
   "id": "cef3c546",
   "metadata": {},
   "outputs": [],
   "source": [
    "from datetime import datetime\n",
    "\n",
    "datetime_str = '12-Jul-2023'\n",
    "datetime.strptime(datetime_str, '%d-%b-%Y')\n",
    "# datetime.datetime(2023, 7, 12, 0, 0)\n",
    "\n",
    "datetime_str = 'Jul/12/2023 - 14:38:37'\n",
    "datetime.strptime(datetime_str, \"%b/%d/%Y - %H:%M:%S\")\n",
    "# datetime.datetime(2023, 7, 12, 14, 38, 37)"
   ]
  },
  {
   "cell_type": "markdown",
   "id": "4061cb7e",
   "metadata": {},
   "source": [
    "### Format Codes\n",
    "\n",
    "| Directive | Meaning                                                      | Example                                               |\n",
    "| --------- | ------------------------------------------------------------ | ----------------------------------------------------- |\n",
    "| `%a`      | Weekday as locale’s abbreviated name.                        | Sun, Mon, …, Sat (en_US)                              |\n",
    "| `%A`      | Weekday as locale’s full name.                               | Sunday, Monday, …, Saturday (en_US)                   |\n",
    "| `%w`      | Weekday as a decimal number, where 0 is Sunday and 6 is Saturday. | 0, 1, …, 6                                            |\n",
    "| `%d`      | Day of the month as a zero-padded decimal number.            | 01, 02, …, 31                                         |\n",
    "| `%b`      | Month as locale’s abbreviated name.                          | Jan, Feb, …, Dec (en_US)                              |\n",
    "| `%B`      | Month as locale’s full name.                                 | January, February, …, December (en_US)                |\n",
    "| `%m`      | Month as a zero-padded decimal number.                       | 01, 02, …, 12                                         |\n",
    "| `%y`      | Year without century as a zero-padded decimal number.        | 00, 01, …, 99                                         |\n",
    "| `%Y`      | Year with century as a decimal number.                       | 0001, 0002, …, 2013, 2014, …, 9998, 9999              |\n",
    "| `%H`      | Hour (24-hour clock) as a zero-padded decimal number.        | 00, 01, …, 23                                         |\n",
    "| `%I`      | Hour (12-hour clock) as a zero-padded decimal number.        | 01, 02, …, 12                                         |\n",
    "| `%p`      | Locale’s equivalent of either AM or PM.                      | AM, PM (en_US)                                        |\n",
    "| `%M`      | Minute as a zero-padded decimal number.                      | 00, 01, …, 59                                         |\n",
    "| `%S`      | Second as a zero-padded decimal number.                      | 00, 01, …, 59                                         |\n",
    "| `%f`      | Microsecond as a decimal number, zero-padded on the left.    | 000000, 000001, …, 999999                             |\n",
    "| `%z`      | UTC offset in the form `±HHMM[SS[.ffffff]]` (empty string if the object is naive). | (empty), +0000, -0400, +1030, +063415, -030712.345216 |\n",
    "| `%Z`      | Time zone name (empty string if the object is naive).        | (empty), UTC, GMT                                     |\n",
    "| `%j`      | Day of the year as a zero-padded decimal number.             | 001, 002, …, 366                                      |\n",
    "| `%U`      | Week number of the year (Sunday as the first day of the week) as a zero padded decimal number. All days in a new year preceding the first Sunday are considered to be in week 0. | 00, 01, …, 53                                         |\n",
    "| `%W`      | Week number of the year (Monday as the first day of the week) as a decimal number. All days in a new year preceding the first Monday are considered to be in week 0. | 00, 01, …, 53                                         |\n",
    "| `%c`      | Locale’s appropriate date and time representation.           | Tue Aug 16 21:30:00 1988 (en_US)                      |\n",
    "| `%x`      | Locale’s appropriate date representation.                    | 08/16/88 (None)                                       |\n",
    "| `%X`      | Locale’s appropriate time representation.                    | 21:30:00 (en_US)                                      |\n",
    "| `%%`      | A literal `'%'` character.                                   | %                                                     |\n",
    "\n",
    "## timedelta()\n",
    "\n",
    "The `timedelta` object represents the difference between two dates or times."
   ]
  },
  {
   "cell_type": "code",
   "execution_count": null,
   "id": "0e6139f8-4710-443a-b666-85689aac7992",
   "metadata": {},
   "outputs": [],
   "source": [
    "from datetime import datetime"
   ]
  },
  {
   "cell_type": "code",
   "execution_count": null,
   "id": "c912abd7-f468-4081-8803-3791ede7ad11",
   "metadata": {},
   "outputs": [],
   "source": [
    "date_1 = datetime.strptime('12-Jul-2023', '%d-%b-%Y')\n",
    "date_2 = datetime.strptime('01-Jan-2024', '%d-%b-%Y')"
   ]
  },
  {
   "cell_type": "code",
   "execution_count": null,
   "id": "b3dcaf8f-633b-403f-98e5-955ff2aaa27b",
   "metadata": {},
   "outputs": [],
   "source": [
    "difference = date_2 - date_1\n",
    "difference\n",
    "# datetime.timedelta(days=173)"
   ]
  },
  {
   "cell_type": "code",
   "execution_count": null,
   "id": "d1896fa6-b737-4a74-8972-47b09eed11e3",
   "metadata": {},
   "outputs": [],
   "source": [
    "difference.days\n",
    "# 173"
   ]
  },
  {
   "cell_type": "markdown",
   "id": "8c80b3f8",
   "metadata": {},
   "source": [
    "`timedelta` can add `days`, `seconds` and `microseconds` to a datetime object:"
   ]
  },
  {
   "cell_type": "code",
   "execution_count": null,
   "id": "4c0ff853-22c3-489c-892b-1366960fc9c4",
   "metadata": {},
   "outputs": [],
   "source": [
    "from datetime import datetime, timedelta"
   ]
  },
  {
   "cell_type": "code",
   "execution_count": null,
   "id": "56afe392-b613-4f3f-891c-16d5c3255fe3",
   "metadata": {},
   "outputs": [],
   "source": [
    "now = datetime.now()\n",
    "now\n",
    "# datetime.datetime(2022, 7, 23, 21, 25, 2, 341081)"
   ]
  },
  {
   "cell_type": "code",
   "execution_count": null,
   "id": "3728a035-e9bf-4c8b-be13-db51d985b5da",
   "metadata": {},
   "outputs": [],
   "source": [
    "now + timedelta(days=10, seconds=15)\n",
    "# datetime.datetime(2022, 8, 2, 21, 25, 17, 341081)"
   ]
  },
  {
   "cell_type": "markdown",
   "id": "0f0e75cd",
   "metadata": {},
   "source": [
    "And can subtract `days`, `seconds` and `microseconds` to a datetime object:\n"
   ]
  },
  {
   "cell_type": "code",
   "execution_count": null,
   "id": "76848f08-1bb9-490c-9d21-4268aa103e26",
   "metadata": {},
   "outputs": [],
   "source": [
    "from datetime import datetime, timedelta"
   ]
  },
  {
   "cell_type": "code",
   "execution_count": null,
   "id": "110383b5-68e8-4e56-8589-6d62db83a11f",
   "metadata": {},
   "outputs": [],
   "source": [
    "now = datetime.now()\n",
    "now\n",
    "# datetime.datetime(2022, 7, 23, 21, 25, 2, 341081)"
   ]
  },
  {
   "cell_type": "code",
   "execution_count": null,
   "id": "a304a12e-f6c5-4a09-800a-cd6375b3db97",
   "metadata": {},
   "outputs": [],
   "source": [
    "now - timedelta(days=10, seconds=15)\n",
    "# datetime.datetime(2022, 7, 13, 21, 59, 41, 100883)"
   ]
  }
 ],
 "metadata": {
  "kernelspec": {
   "display_name": "Python 3 (ipykernel)",
   "language": "python",
   "name": "python3"
  },
  "language_info": {
   "codemirror_mode": {
    "name": "ipython",
    "version": 3
   },
   "file_extension": ".py",
   "mimetype": "text/x-python",
   "name": "python",
   "nbconvert_exporter": "python",
   "pygments_lexer": "ipython3",
   "version": "3.12.0"
  }
 },
 "nbformat": 4,
 "nbformat_minor": 5
}
