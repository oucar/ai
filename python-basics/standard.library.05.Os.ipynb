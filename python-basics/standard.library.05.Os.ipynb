{
 "cells": [
  {
   "cell_type": "markdown",
   "id": "aacb625e",
   "metadata": {},
   "source": [
    "# Python Os Module\n",
    "\n",
    "This module provides a portable way of using operating system dependent functionality.\n",
    "\n",
    "Pathlib vs Os Module\n",
    "\n",
    "The [pathlib](https://www.pythoncheatsheet.org/modules/pathlib-module) module provides a lot more functionality than the ones listed here, like getting file name, getting file extension, reading/writing a file without manually opening it, etc. See the [official documentation](https://docs.python.org/3/library/pathlib.html) if you intend to know more.\n",
    "\n",
    "## Linux and Windows Paths\n",
    "\n",
    "On Windows, paths are written using backslashes (`\\`) as the separator between folder names. On Unix based operating system such as macOS, Linux, and BSDs, the forward slash (`/`) is used as the path separator. Joining paths can be a headache if your code needs to work on different platforms.\n",
    "\n",
    "Fortunately, Python provides us with `os.path.join` to handle this."
   ]
  },
  {
   "cell_type": "code",
   "execution_count": null,
   "id": "a1e38cb4",
   "metadata": {},
   "outputs": [],
   "source": [
    "import os\n",
    "\n",
    "os.path.join('usr', 'bin', 'spam')\n",
    "# 'usr\\\\bin\\\\spam'"
   ]
  },
  {
   "cell_type": "markdown",
   "id": "56de319d",
   "metadata": {},
   "source": [
    "Joining paths is helpful if you need to create different file paths under the same directory."
   ]
  },
  {
   "cell_type": "code",
   "execution_count": null,
   "id": "bd38d139",
   "metadata": {},
   "outputs": [],
   "source": [
    "my_files = ['accounts.txt', 'details.csv', 'invite.docx']\n",
    "\n",
    "for filename in my_files:\n",
    "    print(os.path.join('C:\\\\Users\\\\asweigart', filename))\n",
    "\n",
    "# C:\\Users\\docs\\accounts.txt\n",
    "# C:\\Users\\docs\\details.csv\n",
    "# C:\\Users\\docs\\invite.docx"
   ]
  },
  {
   "cell_type": "markdown",
   "id": "912abd16",
   "metadata": {},
   "source": [
    "## The current working directory"
   ]
  },
  {
   "cell_type": "code",
   "execution_count": null,
   "id": "82a0de2f-bad0-4511-808e-2fbb355ba4ef",
   "metadata": {},
   "outputs": [],
   "source": [
    "import os"
   ]
  },
  {
   "cell_type": "code",
   "execution_count": null,
   "id": "38efc1ec-c606-45ca-8bb4-b0ee01db477a",
   "metadata": {},
   "outputs": [],
   "source": [
    "os.getcwd()\n",
    "# 'C:\\\\Python34'"
   ]
  },
  {
   "cell_type": "code",
   "execution_count": null,
   "id": "3ba223f8-5319-4781-b56e-963e0ce29d3a",
   "metadata": {},
   "outputs": [],
   "source": [
    "os.chdir('C:\\\\Windows\\\\System32')\n",
    "os.getcwd()\n",
    "# 'C:\\\\Windows\\\\System32'"
   ]
  },
  {
   "cell_type": "markdown",
   "id": "2bfeba88",
   "metadata": {},
   "source": [
    "## Creating new folders"
   ]
  },
  {
   "cell_type": "code",
   "execution_count": null,
   "id": "4dcb8e20",
   "metadata": {},
   "outputs": [],
   "source": [
    "import os\n",
    "os.makedirs('C:\\\\delicious\\\\walnut\\\\waffles')"
   ]
  },
  {
   "cell_type": "markdown",
   "id": "f31c12e8",
   "metadata": {},
   "source": [
    "## Absolute vs. Relative paths\n",
    "\n",
    "There are two ways to specify a file path.\n",
    "\n",
    "- An **absolute path**, which always begins with the root folder\n",
    "- A **relative path**, which is relative to the program’s current working directory\n",
    "\n",
    "There are also the dot (`.`) and dot-dot (`..`) folders. These are not real folders, but special names that can be used in a path. A single period (“dot”) for a folder name is shorthand for “this directory.” Two periods (“dot-dot”) means “the parent folder.”\n",
    "\n",
    "### Handling Absolute paths\n",
    "\n",
    "To see if a path is an absolute path:"
   ]
  },
  {
   "cell_type": "code",
   "execution_count": null,
   "id": "4ad6dfea-9fa5-4f9b-8b89-3bc8c86bab94",
   "metadata": {},
   "outputs": [],
   "source": [
    "import os"
   ]
  },
  {
   "cell_type": "code",
   "execution_count": null,
   "id": "d22fbc9a-a83c-4419-b725-d0afce85f60e",
   "metadata": {},
   "outputs": [],
   "source": [
    "os.path.isabs('/')\n",
    "# True"
   ]
  },
  {
   "cell_type": "code",
   "execution_count": null,
   "id": "47cde54b-a472-44ec-947f-2b32ec7bcd06",
   "metadata": {},
   "outputs": [],
   "source": [
    "os.path.isabs('..')\n",
    "# False"
   ]
  },
  {
   "cell_type": "markdown",
   "id": "1a25b9bf",
   "metadata": {},
   "source": [
    "You can also extract an absolute path:"
   ]
  },
  {
   "cell_type": "code",
   "execution_count": null,
   "id": "49f6e350-bacd-4a93-852f-1371bcd74f96",
   "metadata": {},
   "outputs": [],
   "source": [
    "import os"
   ]
  },
  {
   "cell_type": "code",
   "execution_count": null,
   "id": "e4d9476a-c287-4fa5-8505-cbc48408ed20",
   "metadata": {},
   "outputs": [],
   "source": [
    "os.getcwd()\n",
    "'/home/docs'"
   ]
  },
  {
   "cell_type": "code",
   "execution_count": null,
   "id": "aa276a8a-65e7-4629-abaa-92b825fab668",
   "metadata": {},
   "outputs": [],
   "source": [
    "os.path.abspath('..')\n",
    "'/home'"
   ]
  },
  {
   "cell_type": "markdown",
   "id": "d6686b06",
   "metadata": {},
   "source": [
    "### Handling Relative paths\n",
    "\n",
    "You can get a relative path from a starting path to another path."
   ]
  },
  {
   "cell_type": "code",
   "execution_count": null,
   "id": "d0f486b4",
   "metadata": {},
   "outputs": [],
   "source": [
    "import os\n",
    "os.path.relpath('/etc/passwd', '/')\n",
    "# 'etc/passwd'"
   ]
  },
  {
   "cell_type": "markdown",
   "id": "742b6be5",
   "metadata": {},
   "source": [
    "## Path and File validity\n",
    "\n",
    "### Checking if a file/directory exists"
   ]
  },
  {
   "cell_type": "code",
   "execution_count": null,
   "id": "bbedb161-5bc1-4faf-ae2e-39f124e0aa0f",
   "metadata": {},
   "outputs": [],
   "source": [
    "import os"
   ]
  },
  {
   "cell_type": "code",
   "execution_count": null,
   "id": "22c3d378-9aa6-47e8-8e43-6a79c0420a33",
   "metadata": {},
   "outputs": [],
   "source": [
    "os.path.exists('.')\n",
    "# True"
   ]
  },
  {
   "cell_type": "code",
   "execution_count": null,
   "id": "b8332163-2b46-496c-b918-e257f287cc30",
   "metadata": {},
   "outputs": [],
   "source": [
    "os.path.exists('setup.py')\n",
    "# True"
   ]
  },
  {
   "cell_type": "code",
   "execution_count": null,
   "id": "566164fd-8986-4603-b999-3031406e2768",
   "metadata": {},
   "outputs": [],
   "source": [
    "os.path.exists('/etc')\n",
    "# True"
   ]
  },
  {
   "cell_type": "code",
   "execution_count": null,
   "id": "7ce39b66-081f-4583-896f-a506cdbb2e6b",
   "metadata": {},
   "outputs": [],
   "source": [
    "os.path.exists('nonexistentfile')\n",
    "# False"
   ]
  },
  {
   "cell_type": "markdown",
   "id": "8d5d7856",
   "metadata": {},
   "source": [
    "### Checking if a path is a file"
   ]
  },
  {
   "cell_type": "code",
   "execution_count": null,
   "id": "e83e32cc-5a1e-4d0f-b2f5-a6a81bd9f2d7",
   "metadata": {},
   "outputs": [],
   "source": [
    "import os"
   ]
  },
  {
   "cell_type": "code",
   "execution_count": null,
   "id": "9317830c-9496-46c9-b6a8-aedccd6921e0",
   "metadata": {},
   "outputs": [],
   "source": [
    "os.path.isfile('setup.py')\n",
    "# True"
   ]
  },
  {
   "cell_type": "code",
   "execution_count": null,
   "id": "9850aa0c-39da-4d84-a363-c325f6ded852",
   "metadata": {},
   "outputs": [],
   "source": [
    "os.path.isfile('/home')\n",
    "# False"
   ]
  },
  {
   "cell_type": "code",
   "execution_count": null,
   "id": "f29a2f10-b2bf-4129-a9f0-de642b2eff40",
   "metadata": {},
   "outputs": [],
   "source": [
    "os.path.isfile('nonexistentfile')\n",
    "# False"
   ]
  },
  {
   "cell_type": "markdown",
   "id": "b0baa077",
   "metadata": {},
   "source": [
    "### Checking if a path is a directory"
   ]
  },
  {
   "cell_type": "code",
   "execution_count": null,
   "id": "212c6d3c-5fb6-4577-8f76-7472d34bc937",
   "metadata": {},
   "outputs": [],
   "source": [
    "import os"
   ]
  },
  {
   "cell_type": "code",
   "execution_count": null,
   "id": "5987ca1d-fa94-4cb3-a378-8e9e15b167b0",
   "metadata": {},
   "outputs": [],
   "source": [
    "os.path.isdir('/')\n",
    "# True"
   ]
  },
  {
   "cell_type": "code",
   "execution_count": null,
   "id": "497d7546-3e4b-4c06-bd42-88958f851749",
   "metadata": {},
   "outputs": [],
   "source": [
    "os.path.isdir('setup.py')\n",
    "# False"
   ]
  },
  {
   "cell_type": "code",
   "execution_count": null,
   "id": "ab5bb6eb-a40d-4166-97b0-4d6fe5a5750f",
   "metadata": {},
   "outputs": [],
   "source": [
    "os.path.isdir('/spam')\n",
    "# False"
   ]
  },
  {
   "cell_type": "markdown",
   "id": "f67ba6c5",
   "metadata": {},
   "source": [
    "## Getting a file’s size in bytes"
   ]
  },
  {
   "cell_type": "code",
   "execution_count": null,
   "id": "18c48c75",
   "metadata": {},
   "outputs": [],
   "source": [
    "import os\n",
    "\n",
    "os.path.getsize('C:\\\\Windows\\\\System32\\\\calc.exe')\n",
    "# 776192"
   ]
  },
  {
   "cell_type": "markdown",
   "id": "307118a2",
   "metadata": {},
   "source": [
    "## Listing directories"
   ]
  },
  {
   "cell_type": "code",
   "execution_count": null,
   "id": "9cbcf348",
   "metadata": {},
   "outputs": [],
   "source": [
    "import os\n",
    "\n",
    "os.listdir('C:\\\\Windows\\\\System32')\n",
    "# ['0409', '12520437.cpx', '12520850.cpx', '5U877.ax', 'aaclient.dll',\n",
    "# --snip--\n",
    "# 'xwtpdui.dll', 'xwtpw32.dll', 'zh-CN', 'zh-HK', 'zh-TW', 'zipfldr.dll']"
   ]
  },
  {
   "cell_type": "markdown",
   "id": "0d4f33c8",
   "metadata": {},
   "source": [
    "## Directory file sizes\n",
    "\n",
    "\n",
    "\n",
    "WARNING\n",
    "\n",
    "Directories themselves also have a size! So, you might want to check for whether a path is a file or directory using the methods in the methods discussed in the above section."
   ]
  },
  {
   "cell_type": "code",
   "execution_count": null,
   "id": "de95baf7",
   "metadata": {},
   "outputs": [],
   "source": [
    "import os\n",
    "total_size = 0\n",
    "\n",
    "for filename in os.listdir('C:\\\\Windows\\\\System32'):\n",
    "    total_size = total_size + os.path.getsize(os.path.join('C:\\\\Windows\\\\System32', filename))\n",
    "\n",
    "print(total_size)\n",
    "# 1117846456"
   ]
  },
  {
   "cell_type": "markdown",
   "id": "d0206d9b",
   "metadata": {},
   "source": [
    "## Deleting files and folders\n",
    "\n",
    "- Calling `os.unlink(path)` will delete the file at path.\n",
    "- Calling `os.rmdir(path)` will delete the folder at path. This folder must be empty of any files or folders.\n",
    "\n",
    "## Walking a Directory Tree\n",
    "\n"
   ]
  },
  {
   "cell_type": "code",
   "execution_count": null,
   "id": "7ef3aa30-a91a-456d-8baf-a7f450fa0ccc",
   "metadata": {},
   "outputs": [],
   "source": [
    "import os\n",
    "\n",
    "for folder_name, subfolders, filenames in os.walk('C:\\\\delicious'):\n",
    "    print(f'The current folder is {folder_name}')\n",
    "    for subfolder in subfolders:\n",
    "        print('SUBFOLDER OF {folder_name}: {subfolder}')\n",
    "        for filename in filenames:\n",
    "            print('FILE INSIDE {folder_name}: filename{filename}')\n",
    "    print('')\n",
    "\n",
    "# The current folder is C:\\delicious\n",
    "# SUBFOLDER OF C:\\delicious: cats\n",
    "# SUBFOLDER OF C:\\delicious: walnut\n",
    "# FILE INSIDE C:\\delicious: spam.txt\n",
    "\n",
    "# The current folder is C:\\delicious\\cats\n",
    "# FILE INSIDE C:\\delicious\\cats: catnames.txt\n",
    "# FILE INSIDE C:\\delicious\\cats: zophie.jpg\n",
    "\n",
    "# The current folder is C:\\delicious\\walnut\n",
    "# SUBFOLDER OF C:\\delicious\\walnut: waffles\n",
    "\n",
    "# The current folder is C:\\delicious\\walnut\\waffles\n",
    "# FILE INSIDE C:\\delicious\\walnut\\waffles: butter.txt"
   ]
  }
 ],
 "metadata": {
  "kernelspec": {
   "display_name": "Python 3 (ipykernel)",
   "language": "python",
   "name": "python3"
  },
  "language_info": {
   "codemirror_mode": {
    "name": "ipython",
    "version": 3
   },
   "file_extension": ".py",
   "mimetype": "text/x-python",
   "name": "python",
   "nbconvert_exporter": "python",
   "pygments_lexer": "ipython3",
   "version": "3.12.0"
  }
 },
 "nbformat": 4,
 "nbformat_minor": 5
}
