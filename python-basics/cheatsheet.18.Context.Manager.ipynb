{
 "cells": [
  {
   "cell_type": "markdown",
   "id": "69101d36",
   "metadata": {},
   "source": [
    "# Python Context Manager\n",
    "\n",
    "While Python’s context managers are widely used, few understand the purpose behind their use. These statements, commonly used with reading and writing files, assist the application in conserving system memory and improve resource management by ensuring specific resources are only in use for certain processes.\n",
    "\n",
    "## The with statement\n",
    "\n",
    "A context manager is an object that is notified when a context (a block of code) starts and ends. You commonly use one with the `with` statement. It takes care of the notifying.\n",
    "\n",
    "For example, file objects are context managers. When a context ends, the file object is closed automatically:"
   ]
  },
  {
   "cell_type": "code",
   "execution_count": null,
   "id": "2ce7299b",
   "metadata": {},
   "outputs": [],
   "source": [
    "with open(filename) as f:\n",
    "    file_contents = f.read()\n",
    "\n",
    "# the open_file object has automatically been closed."
   ]
  },
  {
   "cell_type": "markdown",
   "id": "512881df",
   "metadata": {},
   "source": [
    "Anything that ends execution of the block causes the context manager’s exit method to be called. This includes exceptions, and can be useful when an error causes you to prematurely exit an open file or connection. Exiting a script without properly closing files/connections is a bad idea, that may cause data loss or other problems. By using a context manager, you can ensure that precautions are always taken to prevent damage or loss in this way.\n",
    "\n",
    "## Writing your own context manager\n",
    "\n",
    "It is also possible to write a context manager using generator syntax thanks to the `contextlib.contextmanager` decorator:"
   ]
  },
  {
   "cell_type": "code",
   "execution_count": null,
   "id": "5cf74a01",
   "metadata": {},
   "outputs": [],
   "source": [
    "import contextlib\n",
    "@contextlib.contextmanager\n",
    "def context_manager(num):\n",
    "    print('Enter')\n",
    "    yield num + 1\n",
    "    print('Exit')\n",
    "\n",
    "with context_manager(2) as cm:\n",
    "# the following instructions are run when\n",
    "# the 'yield' point of the context manager is\n",
    "# reached. 'cm' will have the value that was yielded\n",
    "    print('Right in the middle with cm = {}'.format(cm))\n",
    "\n",
    "# Enter\n",
    "# Right in the middle with cm = 3\n",
    "# Exit"
   ]
  },
  {
   "cell_type": "markdown",
   "id": "0d61cbc6",
   "metadata": {},
   "source": [
    "## Class based context manager\n",
    "\n",
    "You can define class based context manager. The key methods are `__enter__` and `__exit__`"
   ]
  },
  {
   "cell_type": "code",
   "execution_count": null,
   "id": "259a43a9",
   "metadata": {},
   "outputs": [],
   "source": [
    "class ContextManager:\n",
    "    def __enter__(self, *args, **kwargs):\n",
    "        print(\"--enter--\")\n",
    "\n",
    "def __exit__(self, *args):\n",
    "    print(\"--exit--\")\n",
    "\n",
    "with ContextManager():\n",
    "    print(\"test\")\n",
    "#--enter--\n",
    "#test\n",
    "#--exit--"
   ]
  }
 ],
 "metadata": {
  "kernelspec": {
   "display_name": "Python 3 (ipykernel)",
   "language": "python",
   "name": "python3"
  },
  "language_info": {
   "codemirror_mode": {
    "name": "ipython",
    "version": 3
   },
   "file_extension": ".py",
   "mimetype": "text/x-python",
   "name": "python",
   "nbconvert_exporter": "python",
   "pygments_lexer": "ipython3",
   "version": "3.12.0"
  }
 },
 "nbformat": 4,
 "nbformat_minor": 5
}
