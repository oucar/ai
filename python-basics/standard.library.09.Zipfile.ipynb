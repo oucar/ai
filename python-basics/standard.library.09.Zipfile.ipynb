{
 "cells": [
  {
   "cell_type": "markdown",
   "id": "9dbafb31",
   "metadata": {},
   "source": [
    "# Python Zipfile Module\n",
    "\n",
    "From the [Python 3 documentation](https://docs.python.org/3/library/zipfile.html)\n",
    "\n",
    "This module provides tools to create, read, write, append, and list a ZIP file.\n",
    "\n",
    "## Reading ZIP files"
   ]
  },
  {
   "cell_type": "code",
   "execution_count": null,
   "id": "d3cdbd95",
   "metadata": {},
   "outputs": [],
   "source": [
    "with zipfile.ZipFile('example.zip') as example_zip:\n",
    "    print(example_zip.namelist())\n",
    "    spam_info = example_zip.getinfo('spam.txt')\n",
    "    print(spam_info.file_size)\n",
    "    print(spam_info.compress_size)\n",
    "    print('Compressed file is %sx smaller!' % (round(spam_info.file_size / spam_info.compress_size, 2)))\n",
    "\n",
    "# ['spam.txt', 'cats/', 'cats/catnames.txt', 'cats/zophie.jpg']\n",
    "# 13908\n",
    "# 3828\n",
    "# 'Compressed file is 3.63x smaller!'"
   ]
  },
  {
   "cell_type": "markdown",
   "id": "119bc06d",
   "metadata": {},
   "source": [
    "## Extracting from ZIP Files\n",
    "\n",
    "The `extractall()` method for ZipFile objects extracts all the files and folders from a ZIP file into the current working directory."
   ]
  },
  {
   "cell_type": "code",
   "execution_count": null,
   "id": "7e23b7c2",
   "metadata": {},
   "outputs": [],
   "source": [
    "with zipfile.ZipFile('example.zip') as example_zip:\n",
    "    example_zip.extractall()"
   ]
  },
  {
   "cell_type": "markdown",
   "id": "62d06233",
   "metadata": {},
   "source": [
    "The `extract()` method for ZipFile objects will extract a single file from the ZIP file:"
   ]
  },
  {
   "cell_type": "code",
   "execution_count": null,
   "id": "3af8718b",
   "metadata": {},
   "outputs": [],
   "source": [
    "with zipfile.ZipFile('example.zip') as example_zip:\n",
    "    print(example_zip.extract('spam.txt'))\n",
    "    print(example_zip.extract('spam.txt', 'C:\\\\some\\\\new\\\\folders'))\n",
    "\n",
    "# 'C:\\\\spam.txt'\n",
    "# 'C:\\\\some\\\\new\\\\folders\\\\spam.txt'"
   ]
  },
  {
   "cell_type": "markdown",
   "id": "3afa11be",
   "metadata": {},
   "source": [
    "## Creating and Adding to ZIP Files"
   ]
  },
  {
   "cell_type": "code",
   "execution_count": null,
   "id": "c96edcf9",
   "metadata": {},
   "outputs": [],
   "source": [
    "import zipfile\n",
    "\n",
    "with zipfile.ZipFile('new.zip', 'w') as new_zip:\n",
    "    new_zip.write('spam.txt', compress_type=zipfile.ZIP_DEFLATED)"
   ]
  },
  {
   "cell_type": "markdown",
   "id": "3867d96d",
   "metadata": {},
   "source": [
    "This code will create a new ZIP file named new.zip that has the compressed contents of spam.txt.\n",
    "\n",
    "## Reading metadata of ZIP files\n",
    "\n",
    "### Getting the filenames with namelist()"
   ]
  },
  {
   "cell_type": "code",
   "execution_count": null,
   "id": "9bf7c772",
   "metadata": {},
   "outputs": [],
   "source": [
    "import zipfile\n",
    "\n",
    "with zipfile.ZipFile('example.zip', 'r') as zf:\n",
    "    print(zf.namelist())\n",
    "\n",
    "# ['README.txt']"
   ]
  },
  {
   "cell_type": "markdown",
   "id": "81a5d435",
   "metadata": {},
   "source": [
    "### Getting all metadata with infolist()"
   ]
  },
  {
   "cell_type": "code",
   "execution_count": null,
   "id": "5a63ede2-31e9-4fb9-b774-2283d9153479",
   "metadata": {},
   "outputs": [],
   "source": [
    "import datetime\n",
    "import zipfile\n",
    "\n",
    "with zipfile.ZipFile(archive_name) as zf:\n",
    "    for info in zf.infolist():\n",
    "        system = 'Windows' if info.create_system == 0 else 'Unix'\n",
    "        modified = datetime.datetime(*info.date_time)\n",
    "        print(info.filename)\n",
    "        print(f'Comment     : {info.comment}')\n",
    "        print(f'Modified    : {modified}')\n",
    "        print(f'System      : {system}')\n",
    "        print(f'ZIP version : {info.create_version}')\n",
    "        print(f'Compressed  : {info.compress_size} bytes')\n",
    "        print(f'Uncompressed: {info.file_size} bytes')\n",
    "\n",
    "# README.txt\n",
    "# Comment     : b''\n",
    "# Modified    : 2022-11-15 06:48:02\n",
    "# System      : Unix\n",
    "# ZIP version : 30\n",
    "# Compressed  : 65 bytes\n",
    "# Uncompressed: 76 bytes"
   ]
  }
 ],
 "metadata": {
  "kernelspec": {
   "display_name": "Python 3 (ipykernel)",
   "language": "python",
   "name": "python3"
  },
  "language_info": {
   "codemirror_mode": {
    "name": "ipython",
    "version": 3
   },
   "file_extension": ".py",
   "mimetype": "text/x-python",
   "name": "python",
   "nbconvert_exporter": "python",
   "pygments_lexer": "ipython3",
   "version": "3.12.0"
  }
 },
 "nbformat": 4,
 "nbformat_minor": 5
}
