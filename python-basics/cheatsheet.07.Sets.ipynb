{
 "cells": [
  {
   "cell_type": "markdown",
   "id": "39ab8dac",
   "metadata": {},
   "source": [
    "# Python Sets\n",
    "\n",
    "Python comes equipped with several built-in data types to help us organize our data. These structures include lists, dictionaries, tuples and **sets**.\n",
    "\n",
    "From the Python 3 [documentation](https://docs.python.org/3/tutorial/datastructures.html#sets)\n",
    "\n",
    "A set is an unordered collection with no duplicate elements. Basic uses include membership testing and eliminating duplicate entries.\n",
    "\n",
    "Read [Python Sets: What, Why and How](https://www.pythoncheatsheet.org/blog/python-sets-what-why-how) for a more in-deep reference.\n",
    "\n",
    "## Initializing a set\n",
    "\n",
    "There are two ways to create sets: using curly braces `{}` and the built-in function `set()`\n",
    "\n",
    "Empty Sets\n",
    "\n",
    "When creating set, be sure to not use empty curly braces `{}` or you will get an empty dictionary instead."
   ]
  },
  {
   "cell_type": "code",
   "execution_count": null,
   "id": "c004dbd3",
   "metadata": {},
   "outputs": [],
   "source": [
    "s = {1, 2, 3}\n",
    "s = set([1, 2, 3])\n",
    "\n",
    "s = {}  # this will create a dictionary instead of a set\n",
    "type(s)\n",
    "# <class 'dict'>"
   ]
  },
  {
   "cell_type": "markdown",
   "id": "c1c28a39",
   "metadata": {},
   "source": [
    "## Unordered collections of unique elements\n",
    "\n",
    "A set automatically remove all the duplicate values."
   ]
  },
  {
   "cell_type": "code",
   "execution_count": null,
   "id": "4076e4d0",
   "metadata": {},
   "outputs": [],
   "source": [
    "s = {1, 2, 3, 2, 3, 4}\n",
    "s\n",
    "# {1, 2, 3, 4}"
   ]
  },
  {
   "cell_type": "markdown",
   "id": "1bcf2125",
   "metadata": {},
   "source": [
    "And as an unordered data type, they can’t be indexed."
   ]
  },
  {
   "cell_type": "code",
   "execution_count": null,
   "id": "2390aa64",
   "metadata": {},
   "outputs": [],
   "source": [
    "s = {1, 2, 3}\n",
    "s[0]\n",
    "# Traceback (most recent call last):\n",
    "#   File \"<stdin>\", line 1, in <module>\n",
    "# TypeError: 'set' object does not support indexing"
   ]
  },
  {
   "cell_type": "markdown",
   "id": "85fb2d7e",
   "metadata": {},
   "source": [
    "## set add() and update()\n",
    "\n",
    "Using the `add()` method we can add a single element to the set."
   ]
  },
  {
   "cell_type": "code",
   "execution_count": null,
   "id": "be664c5d",
   "metadata": {},
   "outputs": [],
   "source": [
    "s = {1, 2, 3}\n",
    "s.add(4)\n",
    "s\n",
    "# {1, 2, 3, 4}"
   ]
  },
  {
   "cell_type": "markdown",
   "id": "52c3da0e",
   "metadata": {},
   "source": [
    "And with `update()`, multiple ones:"
   ]
  },
  {
   "cell_type": "code",
   "execution_count": null,
   "id": "f32450c7",
   "metadata": {},
   "outputs": [],
   "source": [
    "s = {1, 2, 3}\n",
    "s.update([2, 3, 4, 5, 6])\n",
    "s\n",
    "# {1, 2, 3, 4, 5, 6}"
   ]
  },
  {
   "cell_type": "markdown",
   "id": "e5fe48e6",
   "metadata": {},
   "source": [
    "## set remove() and discard()\n",
    "\n",
    "Both methods will remove an element from the set, but `remove()` will raise a `key error` if the value doesn’t exist."
   ]
  },
  {
   "cell_type": "code",
   "execution_count": null,
   "id": "85198970-580b-47da-94d4-a922db60b8bc",
   "metadata": {},
   "outputs": [],
   "source": [
    "s = {1, 2, 3}\n",
    "s.remove(3)\n",
    "s\n",
    "# {1, 2}"
   ]
  },
  {
   "cell_type": "code",
   "execution_count": null,
   "id": "3fb66ddc-bfc2-49d5-9607-f2708bdccdb3",
   "metadata": {},
   "outputs": [],
   "source": [
    "s.remove(3)\n",
    "# Traceback (most recent call last):\n",
    "#   File \"<stdin>\", line 1, in <module>\n",
    "# KeyError: 3"
   ]
  },
  {
   "cell_type": "markdown",
   "id": "54f04058",
   "metadata": {},
   "source": [
    "`discard()` won’t raise any errors."
   ]
  },
  {
   "cell_type": "code",
   "execution_count": null,
   "id": "b1c46000-c56e-42f6-8ffa-0aeefde6031b",
   "metadata": {},
   "outputs": [],
   "source": [
    "s = {1, 2, 3}\n",
    "s.discard(3)\n",
    "s\n",
    "# {1, 2}"
   ]
  },
  {
   "cell_type": "code",
   "execution_count": null,
   "id": "59fb1bff-8a0f-4fcd-9e2b-95c4a54f5e78",
   "metadata": {},
   "outputs": [],
   "source": [
    "s.discard(3)\n",
    "# won't raise any errors."
   ]
  },
  {
   "cell_type": "markdown",
   "id": "a8d161e8",
   "metadata": {},
   "source": [
    "## set union()\n",
    "\n",
    "`union()` or `|` will create a new set with all the elements from the sets provided."
   ]
  },
  {
   "cell_type": "code",
   "execution_count": null,
   "id": "7ebc725c",
   "metadata": {},
   "outputs": [],
   "source": [
    "s1 = {1, 2, 3}\n",
    "s2 = {3, 4, 5}\n",
    "s1.union(s2)  # or 's1 | s2'\n",
    "# {1, 2, 3, 4, 5}"
   ]
  },
  {
   "cell_type": "markdown",
   "id": "0599f573",
   "metadata": {},
   "source": [
    "## set intersection\n",
    "\n",
    "`intersection` or `&` will return a set with only the elements that are common to all of them."
   ]
  },
  {
   "cell_type": "code",
   "execution_count": null,
   "id": "20afb0c6",
   "metadata": {},
   "outputs": [],
   "source": [
    "s1 = {1, 2, 3}\n",
    "s2 = {2, 3, 4}\n",
    "s3 = {3, 4, 5}\n",
    "s1.intersection(s2, s3)  # or 's1 & s2 & s3'\n",
    "# {3}"
   ]
  },
  {
   "cell_type": "markdown",
   "id": "c1617042",
   "metadata": {},
   "source": [
    "## set difference\n",
    "\n",
    "`difference` or `-` will return only the elements that are unique to the first set (invoked set)."
   ]
  },
  {
   "cell_type": "code",
   "execution_count": null,
   "id": "9e768482-174b-432c-a113-728a3080d3a7",
   "metadata": {},
   "outputs": [],
   "source": [
    "s1 = {1, 2, 3}\n",
    "s2 = {2, 3, 4}"
   ]
  },
  {
   "cell_type": "code",
   "execution_count": null,
   "id": "f342ca3e-1455-4a08-aaa2-7e7f34b6b6e7",
   "metadata": {},
   "outputs": [],
   "source": [
    "s1.difference(s2)  # or 's1 - s2'\n",
    "# {1}"
   ]
  },
  {
   "cell_type": "code",
   "execution_count": null,
   "id": "af795ff3-00fe-4f6f-a6f0-af55daef958a",
   "metadata": {},
   "outputs": [],
   "source": [
    "s2.difference(s1) # or 's2 - s1'\n",
    "# {4}"
   ]
  },
  {
   "cell_type": "markdown",
   "id": "72684673",
   "metadata": {},
   "source": [
    "## set symetric_difference\n",
    "\n",
    "`symetric_difference` or `^` will return all the elements that are not common between them.\n"
   ]
  },
  {
   "cell_type": "code",
   "execution_count": null,
   "id": "04f116b9-e62c-4fb3-9467-14d52f95917f",
   "metadata": {},
   "outputs": [],
   "source": [
    "s1 = {1, 2, 3}\n",
    "s2 = {2, 3, 4}\n",
    "s1.symmetric_difference(s2)  # or 's1 ^ s2'\n",
    "# {1, 4}"
   ]
  }
 ],
 "metadata": {
  "kernelspec": {
   "display_name": "Python 3 (ipykernel)",
   "language": "python",
   "name": "python3"
  },
  "language_info": {
   "codemirror_mode": {
    "name": "ipython",
    "version": 3
   },
   "file_extension": ".py",
   "mimetype": "text/x-python",
   "name": "python",
   "nbconvert_exporter": "python",
   "pygments_lexer": "ipython3",
   "version": "3.12.0"
  }
 },
 "nbformat": 4,
 "nbformat_minor": 5
}
