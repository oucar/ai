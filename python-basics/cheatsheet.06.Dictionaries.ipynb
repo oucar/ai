{
 "cells": [
  {
   "cell_type": "markdown",
   "id": "c4c69b0f",
   "metadata": {},
   "source": [
    "# Python Dictionaries\n",
    "\n",
    "In Python, a dictionary is an *ordered* (from Python > 3.7) collection of `key`: `value` pairs.\n",
    "\n",
    "From the Python 3 [documentation](https://docs.python.org/3/tutorial/datastructures.html#dictionaries)\n",
    "\n",
    "The main operations on a dictionary are storing a value with some key and extracting the value given the key. It is also possible to delete a key:value pair with `del`.\n",
    "\n",
    "Example Dictionary:"
   ]
  },
  {
   "cell_type": "code",
   "execution_count": null,
   "id": "40726513",
   "metadata": {},
   "outputs": [],
   "source": [
    "my_cat = {\n",
    "    'size': 'fat',\n",
    "    'color': 'gray',\n",
    "    'disposition': 'loud'\n",
    "}"
   ]
  },
  {
   "cell_type": "markdown",
   "id": "e62c8974",
   "metadata": {},
   "source": [
    "## Set key, value using subscript operator `[]`"
   ]
  },
  {
   "cell_type": "code",
   "execution_count": null,
   "id": "7af8a848",
   "metadata": {},
   "outputs": [],
   "source": [
    "my_cat = {\n",
    "    'size': 'fat',\n",
    "    'color': 'gray',\n",
    "    'disposition': 'loud',\n",
    "}\n",
    "my_cat['age_years'] = 2\n",
    "print(my_cat)\n",
    "# {'size': 'fat', 'color': 'gray', 'disposition': 'loud', 'age_years': 2}"
   ]
  },
  {
   "cell_type": "markdown",
   "id": "08304bf5",
   "metadata": {},
   "source": [
    "## Get value using subscript operator `[]`\n",
    "\n",
    "In case the key is not present in dictionary [`KeyError`](https://docs.python.org/3/library/exceptions.html#KeyError) is raised."
   ]
  },
  {
   "cell_type": "code",
   "execution_count": null,
   "id": "945801fb-82cb-422e-adc1-76d011692fdf",
   "metadata": {},
   "outputs": [],
   "source": [
    "my_cat = {\n",
    "    'size': 'fat',\n",
    "    'color': 'gray',\n",
    "    'disposition': 'loud',\n",
    "}"
   ]
  },
  {
   "cell_type": "code",
   "execution_count": null,
   "id": "b2b58700-6c1d-4879-9239-f27fc7378b69",
   "metadata": {},
   "outputs": [],
   "source": [
    "print(my_cat['size'])\n",
    "# fat"
   ]
  },
  {
   "cell_type": "code",
   "execution_count": null,
   "id": "46870832-9aef-481d-8399-9daaea5297b3",
   "metadata": {},
   "outputs": [],
   "source": [
    "print(my_cat['eye_color'])\n",
    "# Traceback (most recent call last):\n",
    "#   File \"<stdin>\", line 1, in <module>\n",
    "# KeyError: 'eye_color'"
   ]
  },
  {
   "cell_type": "markdown",
   "id": "9b0a85be",
   "metadata": {},
   "source": [
    "## values()\n",
    "\n",
    "The `values()` method gets the **values** of the dictionary:"
   ]
  },
  {
   "cell_type": "code",
   "execution_count": null,
   "id": "77253042",
   "metadata": {},
   "outputs": [],
   "source": [
    "pet = {'color': 'red', 'age': 42}\n",
    "for value in pet.values():\n",
    "    print(value)\n",
    "\n",
    "# red\n",
    "# 42"
   ]
  },
  {
   "cell_type": "markdown",
   "id": "dde124c7",
   "metadata": {},
   "source": [
    "## keys()\n",
    "\n",
    "The `keys()` method gets the **keys** of the dictionary:"
   ]
  },
  {
   "cell_type": "code",
   "execution_count": null,
   "id": "f385ed3e",
   "metadata": {},
   "outputs": [],
   "source": [
    "pet = {'color': 'red', 'age': 42}\n",
    "for key in pet.keys():\n",
    "    print(key)\n",
    "\n",
    "# color\n",
    "# age"
   ]
  },
  {
   "cell_type": "markdown",
   "id": "e3ea0fd5",
   "metadata": {},
   "source": [
    "There is no need to use **.keys()** since by default you will loop through keys:"
   ]
  },
  {
   "cell_type": "code",
   "execution_count": null,
   "id": "0e8107d4",
   "metadata": {},
   "outputs": [],
   "source": [
    "pet = {'color': 'red', 'age': 42}\n",
    "for key in pet:\n",
    "    print(key)\n",
    "\n",
    "# color\n",
    "# age"
   ]
  },
  {
   "cell_type": "markdown",
   "id": "dde05679",
   "metadata": {},
   "source": [
    "## items()\n",
    "\n",
    "The `items()` method gets the **items** of a dictionary and returns them as a [Tuple](https://www.pythoncheatsheet.org/cheatsheet/lists-and-tuples#the-tuple-data-type):"
   ]
  },
  {
   "cell_type": "code",
   "execution_count": null,
   "id": "28e6c06d",
   "metadata": {},
   "outputs": [],
   "source": [
    "pet = {'color': 'red', 'age': 42}\n",
    "for item in pet.items():\n",
    "    print(item)\n",
    "\n",
    "# ('color', 'red')\n",
    "# ('age', 42)"
   ]
  },
  {
   "cell_type": "markdown",
   "id": "d832c8ca",
   "metadata": {},
   "source": [
    "Using the `keys()`, `values()`, and `items()` methods, a for loop can iterate over the keys, values, or key-value pairs in a dictionary, respectively."
   ]
  },
  {
   "cell_type": "code",
   "execution_count": null,
   "id": "e703e9e2",
   "metadata": {},
   "outputs": [],
   "source": [
    "pet = {'color': 'red', 'age': 42}\n",
    "for key, value in pet.items():\n",
    "    print(f'Key: {key} Value: {value}')\n",
    "\n",
    "# Key: color Value: red\n",
    "# Key: age Value: 42"
   ]
  },
  {
   "cell_type": "markdown",
   "id": "01128636",
   "metadata": {},
   "source": [
    "## get()\n",
    "\n",
    "The `get()` method returns the value of an item with the given key. If the key doesn’t exist, it returns `None`:"
   ]
  },
  {
   "cell_type": "code",
   "execution_count": null,
   "id": "c2157e2b-e2a5-44fa-8782-9b7354a0ca7a",
   "metadata": {},
   "outputs": [],
   "source": [
    "wife = {'name': 'Rose', 'age': 33}"
   ]
  },
  {
   "cell_type": "code",
   "execution_count": null,
   "id": "b7bf28b1-c113-4b46-a225-50273c36f363",
   "metadata": {},
   "outputs": [],
   "source": [
    "f'My wife name is {wife.get(\"name\")}'\n",
    "# 'My wife name is Rose'"
   ]
  },
  {
   "cell_type": "code",
   "execution_count": null,
   "id": "e5a1daf5-8fb1-4243-9727-daf1d6a93039",
   "metadata": {},
   "outputs": [],
   "source": [
    "f'She is {wife.get(\"age\")} years old.'\n",
    "# 'She is 33 years old.'"
   ]
  },
  {
   "cell_type": "code",
   "execution_count": null,
   "id": "c2b9c08e-301a-436c-b389-fb17bb612a65",
   "metadata": {},
   "outputs": [],
   "source": [
    "f'She is deeply in love with {wife.get(\"husband\")}'\n",
    "# 'She is deeply in love with None'"
   ]
  },
  {
   "cell_type": "markdown",
   "id": "ca34e919",
   "metadata": {},
   "source": [
    "You can also change the default `None` value to one of your choice:"
   ]
  },
  {
   "cell_type": "code",
   "execution_count": null,
   "id": "8aae4b9f",
   "metadata": {},
   "outputs": [],
   "source": [
    "wife = {'name': 'Rose', 'age': 33}\n",
    "\n",
    "f'She is deeply in love with {wife.get(\"husband\", \"lover\")}'\n",
    "# 'She is deeply in love with lover'"
   ]
  },
  {
   "cell_type": "markdown",
   "id": "d5648277",
   "metadata": {},
   "source": [
    "## Adding items with setdefault()\n",
    "\n",
    "It’s possible to add an item to a dictionary in this way:"
   ]
  },
  {
   "cell_type": "code",
   "execution_count": null,
   "id": "2c18e284-9ffc-4df5-88f3-0fff0f72a3f1",
   "metadata": {},
   "outputs": [],
   "source": [
    "wife = {'name': 'Rose', 'age': 33}\n",
    "wife\n",
    "\n",
    "# {'name': 'Rose', 'age': 33}"
   ]
  },
  {
   "cell_type": "code",
   "execution_count": null,
   "id": "398056da-38a3-49d0-8f33-f530ba7fcd80",
   "metadata": {},
   "outputs": [],
   "source": [
    "if 'has_hair' not in wife:\n",
    "    wife['has_hair'] = True\n",
    "wife\n",
    "\n",
    "# {'name': 'Rose', 'age': 33, 'has_hair': True}"
   ]
  },
  {
   "cell_type": "markdown",
   "id": "54f7c608",
   "metadata": {},
   "source": [
    "Using the `setdefault` method, we can make the same code more short:"
   ]
  },
  {
   "cell_type": "code",
   "execution_count": null,
   "id": "1d710a23",
   "metadata": {},
   "outputs": [],
   "source": [
    "wife = {'name': 'Rose', 'age': 33}\n",
    "wife.setdefault('has_hair', True)\n",
    "wife\n",
    "# {'name': 'Rose', 'age': 33, 'has_hair': True}"
   ]
  },
  {
   "cell_type": "markdown",
   "id": "2734af93",
   "metadata": {},
   "source": [
    "## Removing Items\n",
    "\n",
    "### pop()\n",
    "\n",
    "The `pop()` method removes and returns an item based on a given key."
   ]
  },
  {
   "cell_type": "code",
   "execution_count": null,
   "id": "3a31a7c5-ddae-424e-974f-17476e213f1a",
   "metadata": {},
   "outputs": [],
   "source": [
    "wife = {'name': 'Rose', 'age': 33, 'hair': 'brown'}"
   ]
  },
  {
   "cell_type": "code",
   "execution_count": null,
   "id": "aff37d6a-3c49-421b-ae9b-9dc3d88ee977",
   "metadata": {},
   "outputs": [],
   "source": [
    "wife.pop('age')\n",
    "# 33"
   ]
  },
  {
   "cell_type": "code",
   "execution_count": null,
   "id": "19d6f2ef-b240-476b-8541-caf0130c8d83",
   "metadata": {},
   "outputs": [],
   "source": [
    "wife\n",
    "# {'name': 'Rose', 'hair': 'brown'}"
   ]
  },
  {
   "cell_type": "markdown",
   "id": "995ac965",
   "metadata": {},
   "source": [
    "### popitem()\n",
    "\n",
    "The `popitem()` method removes the last item in a dictionary and returns it."
   ]
  },
  {
   "cell_type": "code",
   "execution_count": null,
   "id": "4a34efb7-78c8-4a68-9dfc-20f2749e9e84",
   "metadata": {},
   "outputs": [],
   "source": [
    "wife = {'name': 'Rose', 'age': 33, 'hair': 'brown'}"
   ]
  },
  {
   "cell_type": "code",
   "execution_count": null,
   "id": "e9926ad9-ebca-42e9-9989-6ccb94e24f30",
   "metadata": {},
   "outputs": [],
   "source": [
    "wife.popitem()\n",
    "# ('hair', 'brown')"
   ]
  },
  {
   "cell_type": "code",
   "execution_count": null,
   "id": "a8015574-24b6-4d27-9a65-aefae5925d09",
   "metadata": {},
   "outputs": [],
   "source": [
    "wife\n",
    "# {'name': 'Rose', 'age': 33}"
   ]
  },
  {
   "cell_type": "markdown",
   "id": "e41f903a",
   "metadata": {},
   "source": [
    "### del()\n",
    "\n",
    "The `del()` method removes an item based on a given key."
   ]
  },
  {
   "cell_type": "code",
   "execution_count": null,
   "id": "7ae4a9b6-cdfe-4c32-a787-e86b179f78d1",
   "metadata": {},
   "outputs": [],
   "source": [
    "wife = {'name': 'Rose', 'age': 33, 'hair': 'brown'}"
   ]
  },
  {
   "cell_type": "code",
   "execution_count": null,
   "id": "6521ed91-4c60-4513-9cc7-b4d2d68655da",
   "metadata": {},
   "outputs": [],
   "source": [
    "del wife['age']\n",
    "wife\n",
    "# {'name': 'Rose', 'hair': 'brown'}"
   ]
  },
  {
   "cell_type": "markdown",
   "id": "f3250f36",
   "metadata": {},
   "source": [
    "### clear()\n",
    "\n",
    "The`clear()` method removes all the items in a dictionary."
   ]
  },
  {
   "cell_type": "code",
   "execution_count": null,
   "id": "772d5552",
   "metadata": {},
   "outputs": [],
   "source": [
    "wife = {'name': 'Rose', 'age': 33, 'hair': 'brown'}\n",
    "wife.clear()\n",
    "wife\n",
    "# {}"
   ]
  },
  {
   "cell_type": "markdown",
   "id": "428f778a",
   "metadata": {},
   "source": [
    "## Checking keys in a Dictionary"
   ]
  },
  {
   "cell_type": "code",
   "execution_count": null,
   "id": "acba4629-e2e6-4e2a-baac-4a29109db0f3",
   "metadata": {},
   "outputs": [],
   "source": [
    "person = {'name': 'Rose', 'age': 33}"
   ]
  },
  {
   "cell_type": "code",
   "execution_count": null,
   "id": "74e4dd75-b6f7-464a-958a-bee2424b1889",
   "metadata": {},
   "outputs": [],
   "source": [
    "'name' in person.keys()\n",
    "# True"
   ]
  },
  {
   "cell_type": "code",
   "execution_count": null,
   "id": "3d0a4886-18ef-4e8b-82ce-0f842e8ba0fa",
   "metadata": {},
   "outputs": [],
   "source": [
    "'height' in person.keys()\n",
    "# False"
   ]
  },
  {
   "cell_type": "code",
   "execution_count": null,
   "id": "17deed29-6ab4-4704-92c8-fdb76e59e43e",
   "metadata": {},
   "outputs": [],
   "source": [
    "'skin' in person # You can omit keys()\n",
    "# False"
   ]
  },
  {
   "cell_type": "markdown",
   "id": "bb9c3e73",
   "metadata": {},
   "source": [
    "## Checking values in a Dictionary"
   ]
  },
  {
   "cell_type": "code",
   "execution_count": null,
   "id": "1d919ffc-a518-4935-a606-7befbd1479a9",
   "metadata": {},
   "outputs": [],
   "source": [
    "person = {'name': 'Rose', 'age': 33}"
   ]
  },
  {
   "cell_type": "code",
   "execution_count": null,
   "id": "decc2cfb-8e97-4d7c-83ce-a87adf20c771",
   "metadata": {},
   "outputs": [],
   "source": [
    "'Rose' in person.values()\n",
    "# True"
   ]
  },
  {
   "cell_type": "code",
   "execution_count": null,
   "id": "ffb54833-fc84-4257-97cd-8363b45731d9",
   "metadata": {},
   "outputs": [],
   "source": [
    "33 in person.values()\n",
    "# True"
   ]
  },
  {
   "cell_type": "markdown",
   "id": "2a89286a",
   "metadata": {},
   "source": [
    "## Pretty Printing"
   ]
  },
  {
   "cell_type": "code",
   "execution_count": null,
   "id": "d2dd92bb",
   "metadata": {},
   "outputs": [],
   "source": [
    "import pprint\n",
    "\n",
    "wife = {'name': 'Rose', 'age': 33, 'has_hair': True, 'hair_color': 'brown', 'height': 1.6, 'eye_color': 'brown'}\n",
    "pprint.pprint(wife)\n",
    "# {'age': 33,\n",
    "#  'eye_color': 'brown',\n",
    "#  'hair_color': 'brown',\n",
    "#  'has_hair': True,\n",
    "#  'height': 1.6,\n",
    "#  'name': 'Rose'}"
   ]
  },
  {
   "cell_type": "markdown",
   "id": "1de8a070",
   "metadata": {},
   "source": [
    "## Merge two dictionaries\n",
    "\n",
    "For Python 3.5+:\n"
   ]
  },
  {
   "cell_type": "code",
   "execution_count": null,
   "id": "8086abda-b085-4180-84e7-3534c38422c5",
   "metadata": {},
   "outputs": [],
   "source": [
    "dict_a = {'a': 1, 'b': 2}\n",
    "dict_b = {'b': 3, 'c': 4}\n",
    "dict_c = {**dict_a, **dict_b}\n",
    "dict_c\n",
    "# {'a': 1, 'b': 3, 'c': 4}"
   ]
  }
 ],
 "metadata": {
  "kernelspec": {
   "display_name": "Python 3 (ipykernel)",
   "language": "python",
   "name": "python3"
  },
  "language_info": {
   "codemirror_mode": {
    "name": "ipython",
    "version": 3
   },
   "file_extension": ".py",
   "mimetype": "text/x-python",
   "name": "python",
   "nbconvert_exporter": "python",
   "pygments_lexer": "ipython3",
   "version": "3.12.0"
  }
 },
 "nbformat": 4,
 "nbformat_minor": 5
}
