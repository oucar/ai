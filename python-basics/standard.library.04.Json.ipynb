{
 "cells": [
  {
   "cell_type": "markdown",
   "id": "15b9ecda",
   "metadata": {},
   "source": [
    "# Python Json Module\n",
    "\n",
    "JSON stands for JavaScript Object Notation and is a lightweight format for storing and transporting data. JSON is often used when data is sent from a server to a web page.\n",
    "\n",
    "Python has the built-in module `json`, which allow us to work with JSON data."
   ]
  },
  {
   "cell_type": "code",
   "execution_count": null,
   "id": "211752c8",
   "metadata": {},
   "outputs": [],
   "source": [
    "import json"
   ]
  },
  {
   "cell_type": "markdown",
   "id": "4bf56c40",
   "metadata": {},
   "source": [
    "## JSON Data Types\n",
    "\n",
    "A JSON object is similar to a Python dictionary, but has the following differences:\n",
    "\n",
    "- JSON Keys are always string.\n",
    "- Strings are always enclosed with double quotes.\n",
    "- A JSON boolean start with lowercase letters.\n",
    "- `null` is the JSON equivalent of Python `None`.\n",
    "\n",
    "The data types JSON supports are:\n",
    "\n",
    "- String\n",
    "- Number\n",
    "- boolean\n",
    "- null\n",
    "- Object\n",
    "- Array\n",
    "\n",
    "Example:\n",
    "```json\n",
    "{\n",
    "  \"name\": \"Charles\",\n",
    "  \"age\": 33,\n",
    "  \"has_hair\": false,\n",
    "  \"hobbies\": [\"photography\", \"running\"],\n",
    "  \"appearance\": {\n",
    "    \"eyes\": \"brown\",\n",
    "    \"hair_color\": null\n",
    "  }\n",
    "}\n",
    "```"
   ]
  },
  {
   "cell_type": "markdown",
   "id": "ac6f2fb7",
   "metadata": {},
   "source": [
    "## JSON loads() method\n",
    "\n",
    "With the `json.loads` method, you can parse a JSON object and transform it to a Python dictionary:"
   ]
  },
  {
   "cell_type": "code",
   "execution_count": null,
   "id": "daf6b4cb-d297-4ad2-9869-db88a8f1452e",
   "metadata": {},
   "outputs": [],
   "source": [
    "import json"
   ]
  },
  {
   "cell_type": "code",
   "execution_count": null,
   "id": "d55b776e-828b-45c8-8e43-f839a321e775",
   "metadata": {},
   "outputs": [],
   "source": [
    "json_person = '{\"name\": \"Charles\", \"age\": 33, \"has_hair\": false, \"hobbies\": [\"photography\", \"running\"]}'\n",
    "python_person = json.loads(json_person)\n",
    "python_person\n",
    "# {'name': 'Charles', 'age': 33, 'has_hair': False, 'hobbies': ['photography', 'running']}"
   ]
  },
  {
   "cell_type": "code",
   "execution_count": null,
   "id": "abbfa16f-0350-4a58-bce7-f20b7f661b99",
   "metadata": {},
   "outputs": [],
   "source": [
    "type(python_person)\n",
    "# dict"
   ]
  },
  {
   "cell_type": "code",
   "execution_count": null,
   "id": "e0ddcd90-7f05-41a2-9e44-1646055e35ae",
   "metadata": {},
   "outputs": [],
   "source": [
    "python_person.get(\"name\")\n",
    "# 'Charles'"
   ]
  },
  {
   "cell_type": "markdown",
   "id": "8084f703",
   "metadata": {},
   "source": [
    "## JSON dumps() method\n",
    "\n",
    "The other way around. The `dumps()` method transforms a Python object to a JSON string:"
   ]
  },
  {
   "cell_type": "code",
   "execution_count": null,
   "id": "d0210d09-5b16-46ca-a5b9-4f900527517c",
   "metadata": {},
   "outputs": [],
   "source": [
    "import json"
   ]
  },
  {
   "cell_type": "code",
   "execution_count": null,
   "id": "5715b609-44f5-4b53-88f2-05e4ccfe5fd1",
   "metadata": {},
   "outputs": [],
   "source": [
    "python_person = {'name': 'Charles', 'age': 33, 'has_hair': False, 'hobbies': ['photography', 'running']}\n",
    "json_person = json.dumps(python_person)"
   ]
  },
  {
   "cell_type": "code",
   "execution_count": null,
   "id": "f58c7554-1f91-4724-9e48-ba1516de3e08",
   "metadata": {},
   "outputs": [],
   "source": [
    "json_person\n",
    "# '{\"name\": \"Charles\", \"age\": 33, \"has_hair\": false, \"hobbies\": [\"photography\", \"running\"]}'"
   ]
  },
  {
   "cell_type": "code",
   "execution_count": null,
   "id": "c7bc2dde-0fa9-4005-806d-3b4f0f27a04d",
   "metadata": {},
   "outputs": [],
   "source": [
    "type(json_person)\n",
    "# str"
   ]
  },
  {
   "cell_type": "markdown",
   "id": "21b7ee92",
   "metadata": {},
   "source": [
    "## Reading and writing Json Files\n",
    "\n",
    "### Reading a Json File"
   ]
  },
  {
   "cell_type": "code",
   "execution_count": null,
   "id": "ec08e47d",
   "metadata": {},
   "outputs": [],
   "source": [
    "import json\n",
    "\n",
    "with open(\"filename.json\", \"r\") as f:\n",
    "    json_content = json.loads(f.read())\n",
    "\n",
    "json.loads(json_content)\n",
    "# {'name': 'Charles', 'age': 33, 'has_hair': False}"
   ]
  },
  {
   "cell_type": "markdown",
   "id": "fc10ba60",
   "metadata": {},
   "source": [
    "### Writing a Json File"
   ]
  },
  {
   "cell_type": "code",
   "execution_count": null,
   "id": "93228678-75a2-4a59-8320-611c72a71530",
   "metadata": {},
   "outputs": [],
   "source": [
    "import json\n",
    "\n",
    "person = {'name': 'Charles', 'age': 33}\n",
    "\n",
    "with open(\"filename.json\", \"w\") as f:\n",
    "    f.write(json.dumps(person))"
   ]
  }
 ],
 "metadata": {
  "kernelspec": {
   "display_name": "Python 3 (ipykernel)",
   "language": "python",
   "name": "python3"
  },
  "language_info": {
   "codemirror_mode": {
    "name": "ipython",
    "version": 3
   },
   "file_extension": ".py",
   "mimetype": "text/x-python",
   "name": "python",
   "nbconvert_exporter": "python",
   "pygments_lexer": "ipython3",
   "version": "3.12.0"
  }
 },
 "nbformat": 4,
 "nbformat_minor": 5
}
