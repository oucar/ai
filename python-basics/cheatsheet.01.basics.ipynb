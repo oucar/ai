{
 "cells": [
  {
   "cell_type": "markdown",
   "id": "e3267506",
   "metadata": {},
   "source": [
    "## Math Operators\n",
    "\n",
    "From **highest** to **lowest** precedence:\n",
    "\n",
    "| Operators | Operation         | Example         |\n",
    "| --------- | ----------------- | --------------- |\n",
    "| **        | Exponent          | `2 ** 3 = 8`    |\n",
    "| %         | Modulus/Remainder | `22 % 8 = 6`    |\n",
    "| //        | Integer division  | `22 // 8 = 2`   |\n",
    "| /         | Division          | `22 / 8 = 2.75` |\n",
    "| *         | Multiplication    | `3 * 3 = 9`     |\n",
    "| -         | Subtraction       | `5 - 2 = 3`     |\n",
    "| +         | Addition          | `2 + 2 = 4`     |\n",
    "\n",
    "Examples of expressions:"
   ]
  },
  {
   "cell_type": "code",
   "execution_count": null,
   "id": "bbb80b6d-31f1-4c8c-9551-e2bb24bd3fe0",
   "metadata": {},
   "outputs": [],
   "source": [
    "2 + 3 * 6"
   ]
  },
  {
   "cell_type": "code",
   "execution_count": null,
   "id": "c2b49201-88e6-492d-b9b2-4dfef3e85791",
   "metadata": {},
   "outputs": [],
   "source": [
    "(2 + 3) * 6"
   ]
  },
  {
   "cell_type": "code",
   "execution_count": null,
   "id": "1b51b39a-bb1e-42fe-b332-22c103d69279",
   "metadata": {},
   "outputs": [],
   "source": [
    "2 ** 8"
   ]
  },
  {
   "cell_type": "code",
   "execution_count": null,
   "id": "668cc4bc-d796-4f7b-ba43-bcc899e71c52",
   "metadata": {},
   "outputs": [],
   "source": [
    "23 // 7"
   ]
  },
  {
   "cell_type": "code",
   "execution_count": null,
   "id": "cf33ef4c-bc34-49b6-8da5-6468b142e806",
   "metadata": {},
   "outputs": [],
   "source": [
    "23 % 7"
   ]
  },
  {
   "cell_type": "code",
   "execution_count": null,
   "id": "5bbdbd3e-ade3-4319-b479-4a82cb854636",
   "metadata": {},
   "outputs": [],
   "source": [
    "(5 - 1) * ((7 + 1) / (3 - 1))"
   ]
  },
  {
   "cell_type": "markdown",
   "id": "4468bdb1",
   "metadata": {},
   "source": [
    "## Augmented Assignment Operators\n",
    "\n",
    "| Operator   | Equivalent      |\n",
    "| ---------- | --------------- |\n",
    "| `var += 1` | `var = var + 1` |\n",
    "| `var -= 1` | `var = var - 1` |\n",
    "| `var *= 1` | `var = var * 1` |\n",
    "| `var /= 1` | `var = var / 1` |\n",
    "| `var %= 1` | `var = var % 1` |\n",
    "\n",
    "Examples:"
   ]
  },
  {
   "cell_type": "code",
   "execution_count": null,
   "id": "2bd19883-1592-4b18-908b-ebee9f986fa4",
   "metadata": {},
   "outputs": [],
   "source": [
    "greeting = 'Hello'\n",
    "greeting += ' world!'\n",
    "greeting"
   ]
  },
  {
   "cell_type": "code",
   "execution_count": null,
   "id": "b89ec138-5d80-4b64-8cdc-06da3309e001",
   "metadata": {},
   "outputs": [],
   "source": [
    "number = 1\n",
    "number += 1\n",
    "number"
   ]
  },
  {
   "cell_type": "code",
   "execution_count": null,
   "id": "054e531b-f033-4d49-8b4e-a14fb1c1e9d9",
   "metadata": {},
   "outputs": [],
   "source": [
    "my_list = ['item']\n",
    "my_list *= 3\n",
    "my_list"
   ]
  },
  {
   "cell_type": "markdown",
   "id": "1231f239",
   "metadata": {},
   "source": [
    "## Walrus Operator\n",
    "\n",
    "The Walrus Operator allows assignment of variables within an expression while returning the value of the variable\n",
    "\n",
    "Example:"
   ]
  },
  {
   "cell_type": "code",
   "execution_count": null,
   "id": "e2822d90-6e87-4cde-b774-2e502c20e327",
   "metadata": {},
   "outputs": [],
   "source": [
    "print(my_var:=\"Hello World!\")"
   ]
  },
  {
   "cell_type": "code",
   "execution_count": null,
   "id": "163697ad-9b2b-4bbb-9f39-2fdcad8a0a80",
   "metadata": {},
   "outputs": [],
   "source": [
    "my_var=\"Yes\"\n",
    "print(my_var)"
   ]
  },
  {
   "cell_type": "markdown",
   "id": "e564ec59-4311-42b6-8af6-c6cb4aa4e18b",
   "metadata": {},
   "source": [
    "The *Walrus Operator*, or **Assignment Expression Operator** was firstly introduced in 2018 via [PEP 572](https://peps.python.org/pep-0572/), and then officially released with **Python 3.8** in October 2019.\n",
    "\n",
    "\n",
    "\n",
    "Syntax Semantics & Examples\n",
    "\n",
    "The [PEP 572](https://peps.python.org/pep-0572/) provides the syntax, semantics and examples for the Walrus Operator."
   ]
  },
  {
   "cell_type": "markdown",
   "id": "519f6ede-4b30-480b-a140-b33437167fec",
   "metadata": {},
   "source": [
    "## Data Types\n",
    "\n",
    "| Data Type              | Examples                                  |\n",
    "| ---------------------- | ----------------------------------------- |\n",
    "| Integers               | `-2, -1, 0, 1, 2, 3, 4, 5`                |\n",
    "| Floating-point numbers | `-1.25, -1.0, --0.5, 0.0, 0.5, 1.0, 1.25` |\n",
    "| Strings                | `'a', 'aa', 'aaa', 'Hello!', '11 cats'`   |\n",
    "\n",
    "## Concatenation and Replication\n",
    "\n",
    "String concatenation:"
   ]
  },
  {
   "cell_type": "code",
   "execution_count": null,
   "id": "4f02cd47",
   "metadata": {},
   "outputs": [],
   "source": [
    "'Alice' 'Bob'"
   ]
  },
  {
   "cell_type": "markdown",
   "id": "9b6a61e2",
   "metadata": {},
   "source": [
    "String replication:"
   ]
  },
  {
   "cell_type": "code",
   "execution_count": null,
   "id": "1c9a33fd",
   "metadata": {},
   "outputs": [],
   "source": [
    "'Alice' * 5"
   ]
  },
  {
   "cell_type": "markdown",
   "id": "1aa41192",
   "metadata": {},
   "source": [
    "## Variables\n",
    "\n",
    "You can name a variable anything as long as it obeys the following rules:\n",
    "\n",
    "1. It can be only one word."
   ]
  },
  {
   "cell_type": "code",
   "execution_count": null,
   "id": "6dfb0342-7eca-4f8d-8ed9-278ce81ed8ae",
   "metadata": {},
   "outputs": [],
   "source": [
    "# bad\n",
    "my variable = 'Hello'"
   ]
  },
  {
   "cell_type": "code",
   "execution_count": null,
   "id": "871afda9-5afd-4ee6-9ffd-9b5a72596a37",
   "metadata": {},
   "outputs": [],
   "source": [
    "# good\n",
    "var = 'Hello'"
   ]
  },
  {
   "cell_type": "markdown",
   "id": "9db63583",
   "metadata": {},
   "source": [
    "* It can use only letters, numbers, and the underscore (`_`) character."
   ]
  },
  {
   "cell_type": "code",
   "execution_count": null,
   "id": "98e0b84b-e516-4269-a639-8bece68cfd57",
   "metadata": {},
   "outputs": [],
   "source": [
    "# bad\n",
    "%$@variable = 'Hello'"
   ]
  },
  {
   "cell_type": "code",
   "execution_count": null,
   "id": "f851470c-7366-43f4-b7cc-5066672f97a8",
   "metadata": {},
   "outputs": [],
   "source": [
    "# good\n",
    "my_var = 'Hello'"
   ]
  },
  {
   "cell_type": "code",
   "execution_count": null,
   "id": "37da1b61-72a0-41ab-baca-6ff24a91f056",
   "metadata": {},
   "outputs": [],
   "source": [
    "# good\n",
    "my_var_2 = 'Hello'"
   ]
  },
  {
   "cell_type": "markdown",
   "id": "06ad1030",
   "metadata": {},
   "source": [
    "* It can’t begin with a number."
   ]
  },
  {
   "cell_type": "code",
   "execution_count": null,
   "id": "b7501f8f",
   "metadata": {},
   "outputs": [],
   "source": [
    "# this wont work\n",
    "23_var = 'hello'"
   ]
  },
  {
   "cell_type": "markdown",
   "id": "e04f8dac",
   "metadata": {},
   "source": [
    "* Variable name starting with an underscore (`_`) are considered as “unuseful”."
   ]
  },
  {
   "cell_type": "code",
   "execution_count": null,
   "id": "f10fb213",
   "metadata": {},
   "outputs": [],
   "source": [
    "# _spam should not be used again in the code\n",
    "_spam = 'Hello'"
   ]
  },
  {
   "cell_type": "markdown",
   "id": "607c5e80",
   "metadata": {},
   "source": [
    "## Comments\n",
    "\n",
    "Inline comment:"
   ]
  },
  {
   "cell_type": "code",
   "execution_count": null,
   "id": "08c2adda",
   "metadata": {},
   "outputs": [],
   "source": [
    "# This is a comment"
   ]
  },
  {
   "cell_type": "markdown",
   "id": "da88ed78",
   "metadata": {},
   "source": [
    "Multiline comment:"
   ]
  },
  {
   "cell_type": "code",
   "execution_count": null,
   "id": "1b06a938",
   "metadata": {},
   "outputs": [],
   "source": [
    "# This is a\n",
    "# multiline comment"
   ]
  },
  {
   "cell_type": "markdown",
   "id": "ff277e7d",
   "metadata": {},
   "source": [
    "Code with a comment:"
   ]
  },
  {
   "cell_type": "code",
   "execution_count": null,
   "id": "f1f9a756",
   "metadata": {},
   "outputs": [],
   "source": [
    "a = 1  # initialization"
   ]
  },
  {
   "cell_type": "markdown",
   "id": "9c87b80f",
   "metadata": {},
   "source": [
    "Please note the two spaces in front of the comment.\n",
    "\n",
    "Function docstring:"
   ]
  },
  {
   "cell_type": "code",
   "execution_count": null,
   "id": "77c9859f",
   "metadata": {},
   "outputs": [],
   "source": [
    "def foo():\n",
    "    \"\"\"\n",
    "    This is a function docstring\n",
    "    You can also use:\n",
    "    ''' Function Docstring '''\n",
    "    \"\"\""
   ]
  },
  {
   "cell_type": "markdown",
   "id": "886f71f1",
   "metadata": {},
   "source": [
    "## The print() Function\n",
    "\n",
    "The `print()` function writes the value of the argument(s) it is given. […] it handles multiple arguments, floating point-quantities, and strings. Strings are printed without quotes, and a space is inserted between items, so you can format things nicely:"
   ]
  },
  {
   "cell_type": "code",
   "execution_count": null,
   "id": "8910a650-58ec-4ada-957d-acb91e8f94c2",
   "metadata": {},
   "outputs": [],
   "source": [
    "print('Hello world!')"
   ]
  },
  {
   "cell_type": "code",
   "execution_count": null,
   "id": "cf87608a-72b1-4547-ae04-68370220ca44",
   "metadata": {},
   "outputs": [],
   "source": [
    "a = 1\n",
    "print('Hello world!', a)"
   ]
  },
  {
   "cell_type": "markdown",
   "id": "e3f2f4ec",
   "metadata": {},
   "source": [
    "### The end keyword\n",
    "\n",
    "The keyword argument `end` can be used to avoid the newline after the output, or end the output with a different string:"
   ]
  },
  {
   "cell_type": "code",
   "execution_count": null,
   "id": "402550e2",
   "metadata": {},
   "outputs": [],
   "source": [
    "phrase = ['printed', 'with', 'a', 'dash', 'in', 'between']\n",
    "for word in phrase:\n",
    "print(word, end='-')"
   ]
  },
  {
   "cell_type": "markdown",
   "id": "a6202bb1",
   "metadata": {},
   "source": [
    "### The sep keyword\n",
    "\n",
    "The keyword `sep` specify how to separate the objects, if there is more than one:"
   ]
  },
  {
   "cell_type": "code",
   "execution_count": null,
   "id": "a77aff62",
   "metadata": {},
   "outputs": [],
   "source": [
    "print('cats', 'dogs', 'mice', sep=',')"
   ]
  },
  {
   "cell_type": "markdown",
   "id": "5450bcaf",
   "metadata": {},
   "source": [
    "## The input() Function\n",
    "\n",
    "This function takes the input from the user and converts it into a string:"
   ]
  },
  {
   "cell_type": "code",
   "execution_count": null,
   "id": "8732af4a",
   "metadata": {},
   "outputs": [],
   "source": [
    "print('What is your name?')   # ask for their name\n",
    "my_name = input()\n",
    "print('Hi, {}'.format(my_name))"
   ]
  },
  {
   "cell_type": "markdown",
   "id": "83206e5f",
   "metadata": {},
   "source": [
    "`input()` can also set a default message without using `print()`:"
   ]
  },
  {
   "cell_type": "code",
   "execution_count": null,
   "id": "3e1faea1",
   "metadata": {},
   "outputs": [],
   "source": [
    "my_name = input('What is your name? ')  # default message\n",
    "print('Hi, {}'.format(my_name))"
   ]
  },
  {
   "cell_type": "markdown",
   "id": "24b39d85",
   "metadata": {},
   "source": [
    "It is also possible to use formatted strings to avoid using .format:"
   ]
  },
  {
   "cell_type": "code",
   "execution_count": null,
   "id": "499a03e9",
   "metadata": {},
   "outputs": [],
   "source": [
    "my_name = input('What is your name? ')  # default message\n",
    "print(f'Hi, {my_name}')"
   ]
  },
  {
   "cell_type": "markdown",
   "id": "8e2d8718",
   "metadata": {},
   "source": [
    "## The len() Function\n",
    "\n",
    "Evaluates to the integer value of the number of characters in a string, list, dictionary, etc.:"
   ]
  },
  {
   "cell_type": "code",
   "execution_count": null,
   "id": "52db80fc-6f69-44ce-883a-4c57e94002e4",
   "metadata": {},
   "outputs": [],
   "source": [
    "len('hello')"
   ]
  },
  {
   "cell_type": "code",
   "execution_count": null,
   "id": "96943712-cc08-4f7c-8373-91711690137e",
   "metadata": {},
   "outputs": [],
   "source": [
    "len(['cat', 3, 'dog'])"
   ]
  },
  {
   "cell_type": "markdown",
   "id": "72067e4b",
   "metadata": {},
   "source": [
    "Test of emptiness\n",
    "\n",
    "Test of emptiness of strings, lists, dictionaries, etc., should not use `len`, but prefer direct boolean evaluation.\n",
    "\n",
    "Test of emptiness example:"
   ]
  },
  {
   "cell_type": "code",
   "execution_count": null,
   "id": "b02f9eae-be49-4eea-8c6d-ece99a177f99",
   "metadata": {},
   "outputs": [],
   "source": [
    "a = [1, 2, 3]"
   ]
  },
  {
   "cell_type": "code",
   "execution_count": null,
   "id": "d624aff8-61e9-4ae4-8e28-54e6382f71c4",
   "metadata": {},
   "outputs": [],
   "source": [
    "# bad\n",
    "if len(a) > 0:  # evaluates to True\n",
    "print(\"the list is not empty!\")\n",
    "# the list is not empty!"
   ]
  },
  {
   "cell_type": "code",
   "execution_count": null,
   "id": "148a2811-18c7-42cc-9029-779e51f37834",
   "metadata": {},
   "outputs": [],
   "source": [
    "# good\n",
    "if a: # evaluates to True\n",
    "print(\"the list is not empty!\")\n",
    "# the list is not empty!"
   ]
  },
  {
   "cell_type": "markdown",
   "id": "e86db899",
   "metadata": {},
   "source": [
    "## The str(), int(), and float() Functions\n",
    "\n",
    "These functions allow you to change the type of variable. For example, you can transform from an `integer` or `float` to a `string`:"
   ]
  },
  {
   "cell_type": "code",
   "execution_count": null,
   "id": "dffb477a-d11c-48ba-ba96-274fb0af16b3",
   "metadata": {},
   "outputs": [],
   "source": [
    "str(29)"
   ]
  },
  {
   "cell_type": "code",
   "execution_count": null,
   "id": "852629ab-9431-43af-8a44-30031c772167",
   "metadata": {},
   "outputs": [],
   "source": [
    "str(-3.14)"
   ]
  },
  {
   "cell_type": "markdown",
   "id": "02700df5-0d4f-41dd-b6b3-c478dfecff72",
   "metadata": {},
   "source": [
    "Or from a `string` to an `integer` or `float`:"
   ]
  },
  {
   "cell_type": "code",
   "execution_count": null,
   "id": "e19bd6ce-723a-4357-bd4b-d0e5a5be1c3d",
   "metadata": {},
   "outputs": [],
   "source": [
    "int('11')"
   ]
  },
  {
   "cell_type": "code",
   "execution_count": null,
   "id": "80b43bec-21d9-40d5-9f01-9b0e4fac3295",
   "metadata": {},
   "outputs": [],
   "source": [
    "float('3.14')"
   ]
  }
 ],
 "metadata": {
  "kernelspec": {
   "display_name": "Python 3 (ipykernel)",
   "language": "python",
   "name": "python3"
  },
  "language_info": {
   "codemirror_mode": {
    "name": "ipython",
    "version": 3
   },
   "file_extension": ".py",
   "mimetype": "text/x-python",
   "name": "python",
   "nbconvert_exporter": "python",
   "pygments_lexer": "ipython3",
   "version": "3.12.0"
  }
 },
 "nbformat": 4,
 "nbformat_minor": 5
}
