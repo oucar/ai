{
 "cells": [
  {
   "cell_type": "markdown",
   "id": "8dc88c4e",
   "metadata": {},
   "source": [
    "# Python Debugging\n",
    "\n",
    "[Finding and resolving bugs](https://en.wikipedia.org/wiki/Debugging)\n",
    "\n",
    "In computer programming and software development, debugging is the process of finding and resolving bugs (defects or problems that prevent correct operation) within computer programs, software, or systems.\n",
    "\n",
    "## Raising Exceptions\n",
    "\n",
    "Exceptions are raised with a raise statement. In code, a raise statement consists of the following:\n",
    "\n",
    "- The `raise` keyword\n",
    "- A call to the `Exception()` function\n",
    "- A string with a helpful error message passed to the `Exception()` function"
   ]
  },
  {
   "cell_type": "code",
   "execution_count": null,
   "id": "aa427ffd",
   "metadata": {},
   "outputs": [],
   "source": [
    "raise Exception('This is the error message.')\n",
    "# Traceback (most recent call last):\n",
    "#   File \"<pyshell#191>\", line 1, in <module>\n",
    "#     raise Exception('This is the error message.')\n",
    "# Exception: This is the error message."
   ]
  },
  {
   "cell_type": "markdown",
   "id": "7fe5df41",
   "metadata": {},
   "source": [
    "Typically, it’s the code that calls the function, not the function itself, that knows how to handle an exception. So, you will commonly see a raise statement inside a function and the `try` and `except` statements in the code calling the function."
   ]
  },
  {
   "cell_type": "code",
   "execution_count": null,
   "id": "38153713",
   "metadata": {},
   "outputs": [],
   "source": [
    "def box_print(symbol, width, height):\n",
    "    if len(symbol) != 1:\n",
    "        raise Exception('Symbol must be a single character string.')\n",
    "    if width <= 2:\n",
    "        raise Exception('Width must be greater than 2.')\n",
    "    if height <= 2:\n",
    "        raise Exception('Height must be greater than 2.')\n",
    "    print(symbol * width)\n",
    "    for i in range(height - 2):\n",
    "        print(symbol + (' ' * (width - 2)) + symbol)\n",
    "    print(symbol * width)\n",
    "\n",
    "for sym, w, h in (('*', 4, 4), ('O', 20, 5), ('x', 1, 3), ('ZZ', 3, 3)):\n",
    "    try:\n",
    "        box_print(sym, w, h)\n",
    "    except Exception as err:\n",
    "        print('An exception happened: ' + str(err))\n",
    "\n",
    "# ****\n",
    "# *  *\n",
    "# *  *\n",
    "# ****\n",
    "# OOOOOOOOOOOOOOOOOOOO\n",
    "# O                  O\n",
    "# O                  O\n",
    "# O                  O\n",
    "# OOOOOOOOOOOOOOOOOOOO\n",
    "# An exception happened: Width must be greater than 2.\n",
    "# An exception happened: Symbol must be a single character string."
   ]
  },
  {
   "cell_type": "markdown",
   "id": "c4f20f41",
   "metadata": {},
   "source": [
    "Read more about [Exception Handling](https://www.pythoncheatsheet.org/cheatsheet/exception-handling).\n",
    "\n",
    "## Getting the Traceback as a string\n",
    "\n",
    "The `traceback` is displayed by Python whenever a raised exception goes unhandled. But can also obtain it as a string by calling traceback.format_exc(). This function is useful if you want the information from an exception’s traceback but also want an except statement to gracefully handle the exception. You will need to import Python’s traceback module before calling this function."
   ]
  },
  {
   "cell_type": "code",
   "execution_count": null,
   "id": "f47a013b",
   "metadata": {},
   "outputs": [],
   "source": [
    "import traceback\n",
    "\n",
    "try:\n",
    "    raise Exception('This is the error message.')\n",
    "except:\n",
    "    with open('errorInfo.txt', 'w') as error_file:\n",
    "        error_file.write(traceback.format_exc())\n",
    "    print('The traceback info was written to errorInfo.txt.')\n",
    "\n",
    "# 116\n",
    "# The traceback info was written to errorInfo.txt."
   ]
  },
  {
   "cell_type": "markdown",
   "id": "3b344f5a",
   "metadata": {},
   "source": [
    "The 116 is the return value from the `write()` method, since 116 characters were written to the file. The `traceback` text was written to errorInfo.txt."
   ]
  },
  {
   "cell_type": "markdown",
   "id": "3fda7536-5ef5-4723-976a-7075bd04395e",
   "metadata": {},
   "source": [
    "```\n",
    "Traceback (most recent call last):\n",
    "  File \"<pyshell#28>\", line 2, in <module>\n",
    "Exception: This is the error message.\n",
    "```"
   ]
  },
  {
   "cell_type": "markdown",
   "id": "1cffeaa5",
   "metadata": {},
   "source": [
    "## Assertions\n",
    "\n",
    "An assertion is a sanity check to make sure your code isn’t doing something obviously wrong. These sanity checks are performed by `assert` statements. If the sanity check fails, then an `AssertionError` exception is raised. In code, an `assert` statement consists of the following:\n",
    "\n",
    "- The `assert` keyword\n",
    "- A condition (that is, an expression that evaluates to `True` or `False`)\n",
    "- A comma\n",
    "- A `string` to display when the condition is `False`"
   ]
  },
  {
   "cell_type": "code",
   "execution_count": null,
   "id": "80e24a81",
   "metadata": {},
   "outputs": [],
   "source": [
    "pod_bay_door_status = 'open'\n",
    "assert pod_bay_door_status == 'open', 'The pod bay doors need to be \"open\".'\n",
    "\n",
    "pod_bay_door_status = 'I\\'m sorry, Dave. I\\'m afraid I can\\'t do that.'\n",
    "assert pod_bay_door_status == 'open', 'The pod bay doors need to be \"open\".'\n",
    "# Traceback (most recent call last):\n",
    "#   File \"<pyshell#10>\", line 1, in <module>\n",
    "#     assert pod_bay_door_status == 'open', 'The pod bay doors need to be \"open\".'\n",
    "# AssertionError: The pod bay doors need to be \"open\"."
   ]
  },
  {
   "cell_type": "markdown",
   "id": "82f57f10",
   "metadata": {},
   "source": [
    "In plain English, an assert statement says, “I assert that this condition holds true, and if not, there is a bug somewhere in the program.” Unlike exceptions, your code should not handle assert statements with try and except; if an assert fails, your program should crash. By failing fast like this, you shorten the time between the original cause of the bug and when you first notice the bug. This will reduce the amount of code you will have to check before finding the code that’s causing the bug.\n",
    "\n",
    "### Disabling Assertions\n",
    "\n",
    "Assertions can be disabled by passing the `-O` option when running Python.\n",
    "\n",
    "## Logging\n",
    "\n",
    "To enable the `logging` module to display log messages on your screen as your program runs, copy the following to the top of your program:"
   ]
  },
  {
   "cell_type": "code",
   "execution_count": null,
   "id": "b3bb1b68",
   "metadata": {},
   "outputs": [],
   "source": [
    "import logging\n",
    "logging.basicConfig(level=logging.DEBUG, format=' %(asctime)s - %(levelname)s- %(message)s')"
   ]
  },
  {
   "cell_type": "markdown",
   "id": "04be67bc",
   "metadata": {},
   "source": [
    "Say you wrote a function to calculate the factorial of a number. In mathematics, factorial 4 is 1 × 2 × 3 × 4, or 24. Factorial 7 is 1 × 2 × 3 × 4 × 5 × 6 × 7, or 5,040. Open a new file editor window and enter the following code. It has a bug in it, but you will also enter several log messages to help yourself figure out what is going wrong. Save the program as factorialLog.py."
   ]
  },
  {
   "cell_type": "code",
   "execution_count": null,
   "id": "dfcce2fc",
   "metadata": {},
   "outputs": [],
   "source": [
    "import logging\n",
    "logging.basicConfig(level=logging.DEBUG, format=' %(asctime)s - %(levelname)s- %(message)s')\n",
    "logging.debug('Start of program')\n",
    "\n",
    "def factorial(n):\n",
    "    logging.debug('Start of factorial(%s)' % (n))\n",
    "    total = 1\n",
    "    for i in range(1, n + 1):\n",
    "        total *= i\n",
    "        logging.debug('i is ' + str(i) + ', total is ' + str(total))\n",
    "    logging.debug('End of factorial(%s)' % (n))\n",
    "    return total\n",
    "\n",
    "print(factorial(5))\n",
    "logging.debug('End of program')\n",
    "# 2015-05-23 16:20:12,664 - DEBUG - Start of program\n",
    "# 2015-05-23 16:20:12,664 - DEBUG - Start of factorial(5)\n",
    "# 2015-05-23 16:20:12,665 - DEBUG - i is 0, total is 0\n",
    "# 2015-05-23 16:20:12,668 - DEBUG - i is 1, total is 0\n",
    "# 2015-05-23 16:20:12,670 - DEBUG - i is 2, total is 0\n",
    "# 2015-05-23 16:20:12,673 - DEBUG - i is 3, total is 0\n",
    "# 2015-05-23 16:20:12,675 - DEBUG - i is 4, total is 0\n",
    "# 2015-05-23 16:20:12,678 - DEBUG - i is 5, total is 0\n",
    "# 2015-05-23 16:20:12,680 - DEBUG - End of factorial(5)\n",
    "# 0\n",
    "# 2015-05-23 16:20:12,684 - DEBUG - End of program"
   ]
  },
  {
   "cell_type": "markdown",
   "id": "00ab4727",
   "metadata": {},
   "source": [
    "## Logging Levels\n",
    "\n",
    "Logging levels provide a way to categorize your log messages by importance. There are five logging levels, described in Table 10-1 from least to most important. Messages can be logged at each level using a different logging function.\n",
    "\n",
    "| Level      | Logging Function     | Description                                                  |\n",
    "| ---------- | -------------------- | ------------------------------------------------------------ |\n",
    "| `DEBUG`    | `logging.debug()`    | The lowest level. Used for small details. Usually you care about these messages only when diagnosing problems. |\n",
    "| `INFO`     | `logging.info()`     | Used to record information on general events in your program or confirm that things are working at their point in the program. |\n",
    "| `WARNING`  | `logging.warning()`  | Used to indicate a potential problem that doesn’t prevent the program from working but might do so in the future. |\n",
    "| `ERROR`    | `logging.error()`    | Used to record an error that caused the program to fail to do something. |\n",
    "| `CRITICAL` | `logging.critical()` | The highest level. Used to indicate a fatal error that has caused or is about to cause the program to stop running entirely. |\n",
    "\n",
    "## Disabling Logging\n",
    "\n",
    "After you’ve debugged your program, you probably don’t want all these log messages cluttering the screen. The logging.disable() function disables these so that you don’t have to go into your program and remove all the logging calls by hand."
   ]
  },
  {
   "cell_type": "code",
   "execution_count": null,
   "id": "fabce83c",
   "metadata": {},
   "outputs": [],
   "source": [
    "import logging\n",
    "\n",
    "logging.basicConfig(level=logging.INFO, format=' %(asctime)s -%(levelname)s - %(message)s')\n",
    "logging.critical('Critical error! Critical error!')\n",
    "# 2015-05-22 11:10:48,054 - CRITICAL - Critical error! Critical error!\n",
    "\n",
    "logging.disable(logging.CRITICAL)\n",
    "logging.critical('Critical error! Critical error!')\n",
    "logging.error('Error! Error!')"
   ]
  },
  {
   "cell_type": "markdown",
   "id": "e396bc9d",
   "metadata": {},
   "source": [
    "## Logging to a File\n",
    "\n",
    "Instead of displaying the log messages to the screen, you can write them to a text file. The `logging.basicConfig()` function takes a filename keyword argument, like so:"
   ]
  },
  {
   "cell_type": "code",
   "execution_count": null,
   "id": "d7d68efe-b206-4c94-9af2-f5875eb522cb",
   "metadata": {},
   "outputs": [],
   "source": [
    "import logging\n",
    "logging.basicConfig(filename='myProgramLog.txt', level=logging.DEBUG, format='%(asctime)s - %(levelname)s - %(message)s')"
   ]
  }
 ],
 "metadata": {
  "kernelspec": {
   "display_name": "Python 3 (ipykernel)",
   "language": "python",
   "name": "python3"
  },
  "language_info": {
   "codemirror_mode": {
    "name": "ipython",
    "version": 3
   },
   "file_extension": ".py",
   "mimetype": "text/x-python",
   "name": "python",
   "nbconvert_exporter": "python",
   "pygments_lexer": "ipython3",
   "version": "3.12.0"
  }
 },
 "nbformat": 4,
 "nbformat_minor": 5
}
