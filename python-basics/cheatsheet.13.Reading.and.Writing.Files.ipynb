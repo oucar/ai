{
 "cells": [
  {
   "cell_type": "markdown",
   "id": "7a2858b4",
   "metadata": {},
   "source": [
    "# Handling file and directory Paths\n",
    "\n",
    "There are two main modules in Python that deal with path manipulation. One is the `os.path` module and the other is the `pathlib` module.\n",
    "\n",
    "os.path VS pathlib\n",
    "\n",
    "The `pathlib` module was added in Python 3.4, offering an object-oriented way to handle file system paths.\n",
    "\n",
    "## Linux and Windows Paths\n",
    "\n",
    "On Windows, paths are written using backslashes (`\\`) as the separator between folder names. On Unix based operating system such as macOS, Linux, and BSDs, the forward slash (`/`) is used as the path separator. Joining paths can be a headache if your code needs to work on different platforms.\n",
    "\n",
    "Fortunately, Python provides easy ways to handle this. We will showcase how to deal with both, `os.path.join` and `pathlib.Path.joinpath`\n",
    "\n",
    "Using `os.path.join` on Windows:"
   ]
  },
  {
   "cell_type": "code",
   "execution_count": null,
   "id": "520ac012",
   "metadata": {},
   "outputs": [],
   "source": [
    "import os\n",
    "\n",
    "os.path.join('usr', 'bin', 'spam')\n",
    "# 'usr\\\\bin\\\\spam'"
   ]
  },
  {
   "cell_type": "markdown",
   "id": "efe1a8b8",
   "metadata": {},
   "source": [
    "And using `pathlib` on *nix:"
   ]
  },
  {
   "cell_type": "code",
   "execution_count": null,
   "id": "9d07caf0",
   "metadata": {},
   "outputs": [],
   "source": [
    "from pathlib import Path\n",
    "\n",
    "print(Path('usr').joinpath('bin').joinpath('spam'))\n",
    "# usr/bin/spam"
   ]
  },
  {
   "cell_type": "markdown",
   "id": "e1eb32a0",
   "metadata": {},
   "source": [
    "`pathlib` also provides a shortcut to joinpath using the `/` operator:"
   ]
  },
  {
   "cell_type": "code",
   "execution_count": null,
   "id": "89b51a45",
   "metadata": {},
   "outputs": [],
   "source": [
    "from pathlib import Path\n",
    "\n",
    "print(Path('usr') / 'bin' / 'spam')\n",
    "# usr/bin/spam"
   ]
  },
  {
   "cell_type": "markdown",
   "id": "5f8e8c51",
   "metadata": {},
   "source": [
    "Notice the path separator is different between Windows and Unix based operating system, that’s why you want to use one of the above methods instead of adding strings together to join paths together.\n",
    "\n",
    "Joining paths is helpful if you need to create different file paths under the same directory.\n",
    "\n",
    "Using `os.path.join` on Windows:"
   ]
  },
  {
   "cell_type": "code",
   "execution_count": null,
   "id": "2f4eeab7",
   "metadata": {},
   "outputs": [],
   "source": [
    "my_files = ['accounts.txt', 'details.csv', 'invite.docx']\n",
    "\n",
    "for filename in my_files:\n",
    "    print(os.path.join('C:\\\\Users\\\\asweigart', filename))\n",
    "\n",
    "# C:\\Users\\asweigart\\accounts.txt\n",
    "# C:\\Users\\asweigart\\details.csv\n",
    "# C:\\Users\\asweigart\\invite.docx"
   ]
  },
  {
   "cell_type": "markdown",
   "id": "30964cef",
   "metadata": {},
   "source": [
    "Using `pathlib` on *nix:"
   ]
  },
  {
   "cell_type": "code",
   "execution_count": null,
   "id": "426743c8",
   "metadata": {},
   "outputs": [],
   "source": [
    "my_files = ['accounts.txt', 'details.csv', 'invite.docx']\n",
    "home = Path.home()\n",
    "for filename in my_files:\n",
    "    print(home / filename)\n",
    "\n",
    "# /home/asweigart/accounts.txt\n",
    "# /home/asweigart/details.csv\n",
    "# /home/asweigart/invite.docx"
   ]
  },
  {
   "cell_type": "markdown",
   "id": "70b433f5",
   "metadata": {},
   "source": [
    "## The current working directory\n",
    "\n",
    "Using `os` on Windows:"
   ]
  },
  {
   "cell_type": "code",
   "execution_count": null,
   "id": "86c76cc5-8e48-4334-a0f7-4d1946ecf8d1",
   "metadata": {},
   "outputs": [],
   "source": [
    "import os"
   ]
  },
  {
   "cell_type": "code",
   "execution_count": null,
   "id": "31a5adc2-8300-4e3e-b569-9fe3c3feff2d",
   "metadata": {},
   "outputs": [],
   "source": [
    "os.getcwd()\n",
    "# 'C:\\\\Python34'"
   ]
  },
  {
   "cell_type": "code",
   "execution_count": null,
   "id": "c493a925-1d44-44f3-805a-3a909815557f",
   "metadata": {},
   "outputs": [],
   "source": [
    "os.chdir('C:\\\\Windows\\\\System32')\n",
    "os.getcwd()\n",
    "# 'C:\\\\Windows\\\\System32'"
   ]
  },
  {
   "cell_type": "markdown",
   "id": "fea35530",
   "metadata": {},
   "source": [
    "Using `pathlib` on *nix:"
   ]
  },
  {
   "cell_type": "code",
   "execution_count": null,
   "id": "efd5d589-184c-4541-83ec-0eee405d05ec",
   "metadata": {},
   "outputs": [],
   "source": [
    "from pathlib import Path\n",
    "from os import chdir"
   ]
  },
  {
   "cell_type": "code",
   "execution_count": null,
   "id": "853d29a3-7091-491a-8bb3-f52672f8850e",
   "metadata": {},
   "outputs": [],
   "source": [
    "print(Path.cwd())\n",
    "# /home/asweigart"
   ]
  },
  {
   "cell_type": "code",
   "execution_count": null,
   "id": "72bfb84d-f37d-4fd3-9ab1-b9cbf0430d4d",
   "metadata": {},
   "outputs": [],
   "source": [
    "chdir('/usr/lib/python3.6')\n",
    "print(Path.cwd())\n",
    "# /usr/lib/python3.6"
   ]
  },
  {
   "cell_type": "markdown",
   "id": "d438fd72",
   "metadata": {},
   "source": [
    "## Creating new folders\n",
    "\n",
    "Using `os` on Windows:"
   ]
  },
  {
   "cell_type": "code",
   "execution_count": null,
   "id": "0705f278",
   "metadata": {},
   "outputs": [],
   "source": [
    "import os\n",
    "os.makedirs('C:\\\\delicious\\\\walnut\\\\waffles')"
   ]
  },
  {
   "cell_type": "markdown",
   "id": "0a295f94",
   "metadata": {},
   "source": [
    "Using `pathlib` on *nix:"
   ]
  },
  {
   "cell_type": "code",
   "execution_count": null,
   "id": "cbd5e1da",
   "metadata": {},
   "outputs": [],
   "source": [
    "from pathlib import Path\n",
    "cwd = Path.cwd()\n",
    "(cwd / 'delicious' / 'walnut' / 'waffles').mkdir()\n",
    "# Traceback (most recent call last):\n",
    "#   File \"<stdin>\", line 1, in <module>\n",
    "#   File \"/usr/lib/python3.6/pathlib.py\", line 1226, in mkdir\n",
    "#     self._accessor.mkdir(self, mode)\n",
    "#   File \"/usr/lib/python3.6/pathlib.py\", line 387, in wrapped\n",
    "#     return strfunc(str(pathobj), *args)\n",
    "# FileNotFoundError: [Errno 2] No such file or directory: '/home/asweigart/delicious/walnut/waffles'"
   ]
  },
  {
   "cell_type": "markdown",
   "id": "d88ae52f",
   "metadata": {},
   "source": [
    "Oh no, we got a nasty error! The reason is that the ‘delicious’ directory does not exist, so we cannot make the ‘walnut’ and the ‘waffles’ directories under it. To fix this, do:"
   ]
  },
  {
   "cell_type": "code",
   "execution_count": null,
   "id": "c2917525",
   "metadata": {},
   "outputs": [],
   "source": [
    "from pathlib import Path\n",
    "cwd = Path.cwd()\n",
    "(cwd / 'delicious' / 'walnut' / 'waffles').mkdir(parents=True)"
   ]
  },
  {
   "cell_type": "markdown",
   "id": "8c56547e",
   "metadata": {},
   "source": [
    "And all is good :)\n",
    "\n",
    "## Absolute vs. Relative paths\n",
    "\n",
    "There are two ways to specify a file path.\n",
    "\n",
    "- An **absolute path**, which always begins with the root folder\n",
    "- A **relative path**, which is relative to the program’s current working directory\n",
    "\n",
    "There are also the dot (`.`) and dot-dot (`..`) folders. These are not real folders, but special names that can be used in a path. A single period (“dot”) for a folder name is shorthand for “this directory.” Two periods (“dot-dot”) means “the parent folder.”\n",
    "\n",
    "### Handling Absolute paths\n",
    "\n",
    "To see if a path is an absolute path:\n",
    "\n",
    "Using `os.path` on *nix:"
   ]
  },
  {
   "cell_type": "code",
   "execution_count": null,
   "id": "92444d6c-dfc8-4b39-b03c-16466e3d265f",
   "metadata": {},
   "outputs": [],
   "source": [
    "import os"
   ]
  },
  {
   "cell_type": "code",
   "execution_count": null,
   "id": "49b43046-b140-4c03-bcf2-e0ae64a047b1",
   "metadata": {},
   "outputs": [],
   "source": [
    "os.path.isabs('/')\n",
    "# True"
   ]
  },
  {
   "cell_type": "code",
   "execution_count": null,
   "id": "3c883403-6206-40dc-810d-65ff68e56fe8",
   "metadata": {},
   "outputs": [],
   "source": [
    "os.path.isabs('..')\n",
    "# False"
   ]
  },
  {
   "cell_type": "markdown",
   "id": "37f04c38",
   "metadata": {},
   "source": [
    "Using `pathlib` on *nix:"
   ]
  },
  {
   "cell_type": "code",
   "execution_count": null,
   "id": "4d5a6c69-ebdd-4456-ad3d-fe970971b568",
   "metadata": {},
   "outputs": [],
   "source": [
    "from pathlib import Path"
   ]
  },
  {
   "cell_type": "code",
   "execution_count": null,
   "id": "6d4e917a-7ee0-4c84-a385-10b2382e849c",
   "metadata": {},
   "outputs": [],
   "source": [
    "Path('/').is_absolute()\n",
    "# True"
   ]
  },
  {
   "cell_type": "code",
   "execution_count": null,
   "id": "95087072-7b69-4dea-9b6a-f70e3ffebc74",
   "metadata": {},
   "outputs": [],
   "source": [
    "Path('..').is_absolute()\n",
    "# False"
   ]
  },
  {
   "cell_type": "markdown",
   "id": "5c2ab9c2",
   "metadata": {},
   "source": [
    "You can extract an absolute path with both `os.path` and `pathlib`\n",
    "\n",
    "Using `os.path` on *nix:"
   ]
  },
  {
   "cell_type": "code",
   "execution_count": null,
   "id": "ab0768cc",
   "metadata": {},
   "outputs": [],
   "source": [
    "import os\n",
    "os.getcwd()\n",
    "'/home/asweigart'\n",
    "\n",
    "os.path.abspath('..')\n",
    "'/home'"
   ]
  },
  {
   "cell_type": "markdown",
   "id": "b216c8fa",
   "metadata": {},
   "source": [
    "Using `pathlib` on *nix:"
   ]
  },
  {
   "cell_type": "code",
   "execution_count": null,
   "id": "e5f32fba-b5c9-4c51-865c-435b49cbb7b9",
   "metadata": {},
   "outputs": [],
   "source": [
    "from pathlib import Path"
   ]
  },
  {
   "cell_type": "code",
   "execution_count": null,
   "id": "f88720f3-00c5-453c-a792-6c81ec69a83b",
   "metadata": {},
   "outputs": [],
   "source": [
    "print(Path.cwd())\n",
    "# /home/asweigart"
   ]
  },
  {
   "cell_type": "code",
   "execution_count": null,
   "id": "1fa12d5f-85cf-40bf-bd41-bb730b906ceb",
   "metadata": {},
   "outputs": [],
   "source": [
    "print(Path('..').resolve())\n",
    "# /home"
   ]
  },
  {
   "cell_type": "markdown",
   "id": "3396bae7",
   "metadata": {},
   "source": [
    "### Handling Relative paths\n",
    "\n",
    "You can get a relative path from a starting path to another path.\n",
    "\n",
    "Using `os.path` on *nix:"
   ]
  },
  {
   "cell_type": "code",
   "execution_count": null,
   "id": "fde75b43",
   "metadata": {},
   "outputs": [],
   "source": [
    "import os\n",
    "os.path.relpath('/etc/passwd', '/')\n",
    "# 'etc/passwd'"
   ]
  },
  {
   "cell_type": "markdown",
   "id": "617eb30b",
   "metadata": {},
   "source": [
    "Using `pathlib` on *nix:"
   ]
  },
  {
   "cell_type": "code",
   "execution_count": null,
   "id": "f1bf3508",
   "metadata": {},
   "outputs": [],
   "source": [
    "from pathlib import Path\n",
    "print(Path('/etc/passwd').relative_to('/'))\n",
    "# etc/passwd"
   ]
  },
  {
   "cell_type": "markdown",
   "id": "7143e23a",
   "metadata": {},
   "source": [
    "## Path and File validity\n",
    "\n",
    "### Checking if a file/directory exists\n",
    "\n",
    "Using `os.path` on *nix:"
   ]
  },
  {
   "cell_type": "code",
   "execution_count": null,
   "id": "7d938eb2-faf6-4fee-80c8-5b9f9e3a8d9f",
   "metadata": {},
   "outputs": [],
   "source": [
    "import os"
   ]
  },
  {
   "cell_type": "code",
   "execution_count": null,
   "id": "7e1f0851-f99b-47b9-ac46-b01a2e9574ed",
   "metadata": {},
   "outputs": [],
   "source": [
    "os.path.exists('.')\n",
    "# True"
   ]
  },
  {
   "cell_type": "code",
   "execution_count": null,
   "id": "ee22ea94-626d-43ba-9688-afb898873f69",
   "metadata": {},
   "outputs": [],
   "source": [
    "os.path.exists('setup.py')\n",
    "# True"
   ]
  },
  {
   "cell_type": "code",
   "execution_count": null,
   "id": "dfa1290f-9511-4afd-876c-867eb6f9ec5b",
   "metadata": {},
   "outputs": [],
   "source": [
    "os.path.exists('/etc')\n",
    "# True"
   ]
  },
  {
   "cell_type": "code",
   "execution_count": null,
   "id": "9c0f8ae7-d58d-4089-8c2b-526efaac934c",
   "metadata": {},
   "outputs": [],
   "source": [
    "os.path.exists('nonexistentfile')\n",
    "# False"
   ]
  },
  {
   "cell_type": "markdown",
   "id": "ed980e40",
   "metadata": {},
   "source": [
    "Using `pathlib` on *nix:"
   ]
  },
  {
   "cell_type": "code",
   "execution_count": null,
   "id": "59c0101e-2bbe-4743-887f-6bcbc4cb693c",
   "metadata": {},
   "outputs": [],
   "source": [
    "from pathlib import Path"
   ]
  },
  {
   "cell_type": "code",
   "execution_count": null,
   "id": "892f4efa-091a-42e3-99dc-a7deb6a503f7",
   "metadata": {},
   "outputs": [],
   "source": [
    "Path('.').exists()\n",
    "# True"
   ]
  },
  {
   "cell_type": "code",
   "execution_count": null,
   "id": "640604e0-d3b2-444a-9f84-3e9fe4dc3d53",
   "metadata": {},
   "outputs": [],
   "source": [
    "Path('setup.py').exists()\n",
    "# True"
   ]
  },
  {
   "cell_type": "code",
   "execution_count": null,
   "id": "c8a1d72d-6f09-4fd3-80e4-e15cfcf42fa7",
   "metadata": {},
   "outputs": [],
   "source": [
    "Path('/etc').exists()\n",
    "# True"
   ]
  },
  {
   "cell_type": "code",
   "execution_count": null,
   "id": "d2e3fbba-a6e5-422d-bab4-456283a14d31",
   "metadata": {},
   "outputs": [],
   "source": [
    "Path('nonexistentfile').exists()\n",
    "# False"
   ]
  },
  {
   "cell_type": "markdown",
   "id": "d1fd4f4c",
   "metadata": {},
   "source": [
    "### Checking if a path is a file\n",
    "\n",
    "Using `os.path` on *nix:"
   ]
  },
  {
   "cell_type": "code",
   "execution_count": null,
   "id": "f6b3e62c-5b96-41da-849b-9cde71210d37",
   "metadata": {},
   "outputs": [],
   "source": [
    "import os"
   ]
  },
  {
   "cell_type": "code",
   "execution_count": null,
   "id": "aecbb743-21fa-4166-92fa-2fe227d96641",
   "metadata": {},
   "outputs": [],
   "source": [
    "os.path.isfile('setup.py')\n",
    "# True"
   ]
  },
  {
   "cell_type": "code",
   "execution_count": null,
   "id": "fbc5bb3c-cc5e-4cce-ad20-05c96f40c472",
   "metadata": {},
   "outputs": [],
   "source": [
    "os.path.isfile('/home')\n",
    "# False"
   ]
  },
  {
   "cell_type": "code",
   "execution_count": null,
   "id": "efd4ca61-3e4a-43d7-848b-3324be466de0",
   "metadata": {},
   "outputs": [],
   "source": [
    "os.path.isfile('nonexistentfile')\n",
    "# False"
   ]
  },
  {
   "cell_type": "markdown",
   "id": "58e90c07",
   "metadata": {},
   "source": [
    "Using `pathlib` on *nix:"
   ]
  },
  {
   "cell_type": "code",
   "execution_count": null,
   "id": "6cbeceea-323c-4409-9489-797350c66f8a",
   "metadata": {},
   "outputs": [],
   "source": [
    "from pathlib import Path"
   ]
  },
  {
   "cell_type": "code",
   "execution_count": null,
   "id": "32c8bc38-ba1c-42cc-95c8-133557aad84a",
   "metadata": {},
   "outputs": [],
   "source": [
    "Path('setup.py').is_file()\n",
    "# True"
   ]
  },
  {
   "cell_type": "code",
   "execution_count": null,
   "id": "7674291d-33a1-43a4-b160-5f552a782864",
   "metadata": {},
   "outputs": [],
   "source": [
    "Path('/home').is_file()\n",
    "# False"
   ]
  },
  {
   "cell_type": "code",
   "execution_count": null,
   "id": "0e7bb1ba-d5d2-4e20-a3ba-6e3c774db489",
   "metadata": {},
   "outputs": [],
   "source": [
    "Path('nonexistentfile').is_file()\n",
    "# False"
   ]
  },
  {
   "cell_type": "markdown",
   "id": "08022f1d",
   "metadata": {},
   "source": [
    "### Checking if a path is a directory\n",
    "\n",
    "Using `os.path` on *nix:"
   ]
  },
  {
   "cell_type": "code",
   "execution_count": null,
   "id": "2cb10209-d796-411c-82b3-b085d885999a",
   "metadata": {},
   "outputs": [],
   "source": [
    "import os"
   ]
  },
  {
   "cell_type": "code",
   "execution_count": null,
   "id": "2d2b48bf-e406-413e-b10f-cecda32bf340",
   "metadata": {},
   "outputs": [],
   "source": [
    "os.path.isdir('/')\n",
    "# True"
   ]
  },
  {
   "cell_type": "code",
   "execution_count": null,
   "id": "8b4e5334-f1fd-4d6b-b712-19a692db5102",
   "metadata": {},
   "outputs": [],
   "source": [
    "os.path.isdir('setup.py')\n",
    "# False"
   ]
  },
  {
   "cell_type": "code",
   "execution_count": null,
   "id": "936ff96c-cc84-422a-a790-f4cfd642c776",
   "metadata": {},
   "outputs": [],
   "source": [
    "os.path.isdir('/spam')\n",
    "# False"
   ]
  },
  {
   "cell_type": "markdown",
   "id": "426e7f10",
   "metadata": {},
   "source": [
    "Using `pathlib` on *nix:"
   ]
  },
  {
   "cell_type": "code",
   "execution_count": null,
   "id": "eb626e95-d5d6-44d4-9127-b428c15f217c",
   "metadata": {},
   "outputs": [],
   "source": [
    "from pathlib import Path"
   ]
  },
  {
   "cell_type": "code",
   "execution_count": null,
   "id": "5dcef459-0cb0-48c1-b6f2-91265dda2fe5",
   "metadata": {},
   "outputs": [],
   "source": [
    "Path('/').is_dir()\n",
    "# True"
   ]
  },
  {
   "cell_type": "code",
   "execution_count": null,
   "id": "31448ebc-6c64-45f7-80c2-7d592ee7d90d",
   "metadata": {},
   "outputs": [],
   "source": [
    "Path('setup.py').is_dir()\n",
    "# False"
   ]
  },
  {
   "cell_type": "code",
   "execution_count": null,
   "id": "d8e50118-3e47-433c-b0bd-272bf65f2b9a",
   "metadata": {},
   "outputs": [],
   "source": [
    "Path('/spam').is_dir()\n",
    "# False"
   ]
  },
  {
   "cell_type": "markdown",
   "id": "6c0c00b7",
   "metadata": {},
   "source": [
    "## Getting a file’s size in bytes\n",
    "\n",
    "Using `os.path` on Windows:"
   ]
  },
  {
   "cell_type": "code",
   "execution_count": null,
   "id": "a9af320a",
   "metadata": {},
   "outputs": [],
   "source": [
    "import os\n",
    "\n",
    "os.path.getsize('C:\\\\Windows\\\\System32\\\\calc.exe')\n",
    "# 776192"
   ]
  },
  {
   "cell_type": "markdown",
   "id": "1e33cbaa",
   "metadata": {},
   "source": [
    "Using `pathlib` on *nix:"
   ]
  },
  {
   "cell_type": "code",
   "execution_count": null,
   "id": "4401d80b",
   "metadata": {},
   "outputs": [],
   "source": [
    "from pathlib import Path\n",
    "\n",
    "stat = Path('/bin/python3.6').stat()\n",
    "print(stat) # stat contains some other information about the file as well\n",
    "# os.stat_result(st_mode=33261, st_ino=141087, st_dev=2051, st_nlink=2, st_uid=0,\n",
    "# --snip--\n",
    "# st_gid=0, st_size=10024, st_atime=1517725562, st_mtime=1515119809, st_ctime=1517261276)\n",
    "\n",
    "print(stat.st_size) # size in bytes\n",
    "# 10024"
   ]
  },
  {
   "cell_type": "markdown",
   "id": "684f3e95",
   "metadata": {},
   "source": [
    "## Listing directories\n",
    "\n",
    "Listing directory contents using `os.listdir` on Windows:"
   ]
  },
  {
   "cell_type": "code",
   "execution_count": null,
   "id": "bf1eec2e",
   "metadata": {},
   "outputs": [],
   "source": [
    "import os\n",
    "\n",
    "os.listdir('C:\\\\Windows\\\\System32')\n",
    "# ['0409', '12520437.cpx', '12520850.cpx', '5U877.ax', 'aaclient.dll',\n",
    "# --snip--\n",
    "# 'xwtpdui.dll', 'xwtpw32.dll', 'zh-CN', 'zh-HK', 'zh-TW', 'zipfldr.dll']"
   ]
  },
  {
   "cell_type": "markdown",
   "id": "3ae76245",
   "metadata": {},
   "source": [
    "Listing directory contents using `pathlib` on *nix:"
   ]
  },
  {
   "cell_type": "code",
   "execution_count": null,
   "id": "24114910",
   "metadata": {
    "scrolled": true
   },
   "outputs": [],
   "source": [
    "from pathlib import Path\n",
    "\n",
    "for f in Path('/usr/bin').iterdir():\n",
    "    print(f)\n",
    "\n",
    "# ...\n",
    "# /usr/bin/tiff2rgba\n",
    "# /usr/bin/iconv\n",
    "# /usr/bin/ldd\n",
    "# /usr/bin/cache_restore\n",
    "# /usr/bin/udiskie\n",
    "# /usr/bin/unix2dos\n",
    "# /usr/bin/t1reencode\n",
    "# /usr/bin/epstopdf\n",
    "# /usr/bin/idle3\n",
    "# ..."
   ]
  },
  {
   "cell_type": "markdown",
   "id": "f0dd8ab8",
   "metadata": {},
   "source": [
    "## Directory file sizes\n",
    "\n",
    "\n",
    "\n",
    "WARNING\n",
    "\n",
    "Directories themselves also have a size! So, you might want to check for whether a path is a file or directory using the methods in the methods discussed in the above section.\n",
    "\n",
    "Using `os.path.getsize()` and `os.listdir()` together on Windows:"
   ]
  },
  {
   "cell_type": "code",
   "execution_count": null,
   "id": "ac156ee7",
   "metadata": {},
   "outputs": [],
   "source": [
    "import os\n",
    "total_size = 0\n",
    "\n",
    "for filename in os.listdir('C:\\\\Windows\\\\System32'):\n",
    "    total_size = total_size + os.path.getsize(os.path.join('C:\\\\Windows\\\\System32', filename))\n",
    "\n",
    "print(total_size)\n",
    "# 1117846456"
   ]
  },
  {
   "cell_type": "markdown",
   "id": "9c7877d9",
   "metadata": {},
   "source": [
    "Using `pathlib` on *nix:"
   ]
  },
  {
   "cell_type": "code",
   "execution_count": null,
   "id": "44bc22cd",
   "metadata": {},
   "outputs": [],
   "source": [
    "from pathlib import Path\n",
    "\n",
    "total_size = 0\n",
    "for sub_path in Path('/usr/bin').iterdir():\n",
    "    total_size += sub_path.stat().st_size\n",
    "\n",
    "print(total_size)\n",
    "# 1903178911"
   ]
  },
  {
   "cell_type": "markdown",
   "id": "843af9f2",
   "metadata": {},
   "source": [
    "## Copying files and folders\n",
    "\n",
    "The `shutil` module provides functions for copying files, as well as entire folders."
   ]
  },
  {
   "cell_type": "code",
   "execution_count": null,
   "id": "9c13e61b-33f4-4775-b818-dbb8c8f692d8",
   "metadata": {},
   "outputs": [],
   "source": [
    "import shutil, os"
   ]
  },
  {
   "cell_type": "code",
   "execution_count": null,
   "id": "8658c21a-82d1-4a5c-966b-fc31fd1390cb",
   "metadata": {},
   "outputs": [],
   "source": [
    "os.chdir('C:\\\\')\n",
    "shutil.copy('C:\\\\spam.txt', 'C:\\\\delicious')\n",
    "# C:\\\\delicious\\\\spam.txt'"
   ]
  },
  {
   "cell_type": "code",
   "execution_count": null,
   "id": "90d169a9-c9d1-4f82-a9a0-a0f7dfdae931",
   "metadata": {},
   "outputs": [],
   "source": [
    "shutil.copy('eggs.txt', 'C:\\\\delicious\\\\eggs2.txt')\n",
    "# 'C:\\\\delicious\\\\eggs2.txt'"
   ]
  },
  {
   "cell_type": "markdown",
   "id": "5e506d59",
   "metadata": {},
   "source": [
    "While `shutil.copy()` will copy a single file, `shutil.copytree()` will copy an entire folder and every folder and file contained in it:"
   ]
  },
  {
   "cell_type": "code",
   "execution_count": null,
   "id": "671f25b2-0dea-4707-880a-df060d36061a",
   "metadata": {},
   "outputs": [],
   "source": [
    "import shutil, os\n",
    "\n",
    "os.chdir('C:\\\\')\n",
    "shutil.copytree('C:\\\\bacon', 'C:\\\\bacon_backup')\n",
    "# 'C:\\\\bacon_backup'"
   ]
  },
  {
   "cell_type": "markdown",
   "id": "7e750e24",
   "metadata": {},
   "source": [
    "## Moving and Renaming"
   ]
  },
  {
   "cell_type": "code",
   "execution_count": null,
   "id": "9c137d84-cee3-40cb-b1a5-ea491d886ffb",
   "metadata": {},
   "outputs": [],
   "source": [
    "import shutil"
   ]
  },
  {
   "cell_type": "code",
   "execution_count": null,
   "id": "510c929e-4ba9-4e76-affc-2edb6c2157d5",
   "metadata": {},
   "outputs": [],
   "source": [
    "shutil.move('C:\\\\bacon.txt', 'C:\\\\eggs')\n",
    "# 'C:\\\\eggs\\\\bacon.txt'"
   ]
  },
  {
   "cell_type": "markdown",
   "id": "950824d2",
   "metadata": {},
   "source": [
    "The destination path can also specify a filename. In the following example, the source file is moved and renamed:"
   ]
  },
  {
   "cell_type": "code",
   "execution_count": null,
   "id": "8c934912",
   "metadata": {},
   "outputs": [],
   "source": [
    "shutil.move('C:\\\\bacon.txt', 'C:\\\\eggs\\\\new_bacon.txt')\n",
    "# 'C:\\\\eggs\\\\new_bacon.txt'"
   ]
  },
  {
   "cell_type": "markdown",
   "id": "2af8b978",
   "metadata": {},
   "source": [
    "If there is no eggs folder, then `move()` will rename bacon.txt to a file named eggs:"
   ]
  },
  {
   "cell_type": "code",
   "execution_count": null,
   "id": "b0087d87",
   "metadata": {},
   "outputs": [],
   "source": [
    "shutil.move('C:\\\\bacon.txt', 'C:\\\\eggs')\n",
    "# 'C:\\\\eggs'"
   ]
  },
  {
   "cell_type": "markdown",
   "id": "b15d9c1c",
   "metadata": {},
   "source": [
    "## Deleting files and folders\n",
    "\n",
    "- Calling `os.unlink(path)` or `Path.unlink()` will delete the file at path.\n",
    "- Calling `os.rmdir(path)` or `Path.rmdir()` will delete the folder at path. This folder must be empty of any files or folders.\n",
    "- Calling `shutil.rmtree(path)` will remove the folder at path, and all files and folders it contains will also be deleted.\n",
    "\n",
    "## Walking a Directory Tree"
   ]
  },
  {
   "cell_type": "code",
   "execution_count": null,
   "id": "5c502189-e41f-40e3-89fd-e0c269b6e44b",
   "metadata": {},
   "outputs": [],
   "source": [
    "import os\n",
    "\n",
    "for folder_name, subfolders, filenames in os.walk('C:\\\\delicious'):\n",
    "    print(f'The current folder is {folder_name}')\n",
    "    for subfolder in subfolders:\n",
    "        print('SUBFOLDER OF {folder_name}: {subfolder}')\n",
    "        for filename in filenames:\n",
    "            print('FILE INSIDE {folder_name}: filename{filename}')\n",
    "    print('')\n",
    "# The current folder is C:\\delicious\n",
    "# SUBFOLDER OF C:\\delicious: cats\n",
    "# SUBFOLDER OF C:\\delicious: walnut\n",
    "# FILE INSIDE C:\\delicious: spam.txt\n",
    "\n",
    "# The current folder is C:\\delicious\\cats\n",
    "# FILE INSIDE C:\\delicious\\cats: catnames.txt\n",
    "# FILE INSIDE C:\\delicious\\cats: zophie.jpg\n",
    "\n",
    "# The current folder is C:\\delicious\\walnut\n",
    "# SUBFOLDER OF C:\\delicious\\walnut: waffles\n",
    "\n",
    "# The current folder is C:\\delicious\\walnut\\waffles\n",
    "# FILE INSIDE C:\\delicious\\walnut\\waffles: butter.txt"
   ]
  }
 ],
 "metadata": {
  "kernelspec": {
   "display_name": "Python 3 (ipykernel)",
   "language": "python",
   "name": "python3"
  },
  "language_info": {
   "codemirror_mode": {
    "name": "ipython",
    "version": 3
   },
   "file_extension": ".py",
   "mimetype": "text/x-python",
   "name": "python",
   "nbconvert_exporter": "python",
   "pygments_lexer": "ipython3",
   "version": "3.12.0"
  }
 },
 "nbformat": 4,
 "nbformat_minor": 5
}
