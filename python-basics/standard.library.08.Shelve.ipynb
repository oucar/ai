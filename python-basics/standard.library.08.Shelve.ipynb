{
 "cells": [
  {
   "cell_type": "markdown",
   "id": "d68ed15e",
   "metadata": {},
   "source": [
    "# Python Shelve Module\n",
    "\n",
    "From the [Python 3 documentation](https://docs.python.org/3/library/shelve.html)\n",
    "\n",
    "A “shelf” is a persistent, dictionary-like object. The difference with “dbm” databases is that the values (not the keys!) in a shelf can be essentially arbitrary Python objects — anything that the pickle module can handle. This includes most class instances, recursive data types, and objects containing lots of shared sub-objects. The keys are ordinary strings.\n",
    "\n",
    "## Save variables"
   ]
  },
  {
   "cell_type": "code",
   "execution_count": null,
   "id": "5364ecd1",
   "metadata": {},
   "outputs": [],
   "source": [
    "import shelve\n",
    "\n",
    "wife = ['Pretty', 'Lovely', 'Nice']\n",
    "with shelve.open('mydata') as shelf_file:\n",
    "    shelf_file['wife'] = wife"
   ]
  },
  {
   "cell_type": "markdown",
   "id": "488b798d",
   "metadata": {},
   "source": [
    "## Open and read variables"
   ]
  },
  {
   "cell_type": "code",
   "execution_count": null,
   "id": "9202f807",
   "metadata": {},
   "outputs": [],
   "source": [
    "with shelve.open('mydata') as shelf_file:\n",
    "    print(type(shelf_file))\n",
    "    print(shelf_file['wife'])\n",
    "\n",
    "# <class 'shelve.DbfilenameShelf'>\n",
    "# ['Pretty', 'Lovely', 'Nice']"
   ]
  },
  {
   "cell_type": "markdown",
   "id": "38a29ec4",
   "metadata": {},
   "source": [
    "Just like dictionaries, `shelf` values have `keys()` and `values()` methods that will return list-like values of the keys and values in the shelf. Since these methods return list-like values instead of true lists, you should pass them to the `list()` function to get them in list form."
   ]
  },
  {
   "cell_type": "code",
   "execution_count": null,
   "id": "ec2f8d6b-533b-4d0f-8a87-5d7466648d73",
   "metadata": {},
   "outputs": [],
   "source": [
    "with shelve.open('mydata') as shelf_file:\n",
    "    print(list(shelf_file.keys()))\n",
    "    print(list(shelf_file.values()))\n",
    "\n",
    "# ['wife']\n",
    "# [['Pretty', 'Lovely', 'Nice']]"
   ]
  }
 ],
 "metadata": {
  "kernelspec": {
   "display_name": "Python 3 (ipykernel)",
   "language": "python",
   "name": "python3"
  },
  "language_info": {
   "codemirror_mode": {
    "name": "ipython",
    "version": 3
   },
   "file_extension": ".py",
   "mimetype": "text/x-python",
   "name": "python",
   "nbconvert_exporter": "python",
   "pygments_lexer": "ipython3",
   "version": "3.12.0"
  }
 },
 "nbformat": 4,
 "nbformat_minor": 5
}
