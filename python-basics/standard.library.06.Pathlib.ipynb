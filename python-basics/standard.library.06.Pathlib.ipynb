{
 "cells": [
  {
   "cell_type": "markdown",
   "id": "8d550839",
   "metadata": {},
   "source": [
    "# Python Pathlib Module\n",
    "\n",
    "The `pathlib` module was added in Python 3.4, offering an object-oriented way to handle file system paths.\n",
    "\n",
    "Pathlib vs Os Module\n",
    "\n",
    "`pathlib` provides a lot more functionality than the ones from `os` and listed here, like getting file name, getting file extension, reading/writing a file without manually opening it, etc. See the [official documentation](https://docs.python.org/3/library/pathlib.html) if you intend to know more.\n",
    "\n",
    "## Linux and Windows Paths\n",
    "\n",
    "On Windows, paths are written using backslashes (`\\`) as the separator between folder names. On Unix based operating system such as macOS, Linux, and BSDs, the forward slash (`/`) is used as the path separator. Joining paths can be a headache if your code needs to work on different platforms.\n",
    "\n",
    "Fortunately, Python provides us with `pathlib.Path.joinpath` to easily handle this."
   ]
  },
  {
   "cell_type": "code",
   "execution_count": null,
   "id": "558f6744-f98b-4954-86ce-778ecdab64b7",
   "metadata": {},
   "outputs": [],
   "source": [
    "from pathlib import Path\n",
    "\n",
    "print(Path('usr').joinpath('bin').joinpath('spam'))\n",
    "# usr/bin/spam"
   ]
  },
  {
   "cell_type": "markdown",
   "id": "2db708fc",
   "metadata": {},
   "source": [
    "`pathlib` also provides a shortcut to joinpath using the `/` operator:"
   ]
  },
  {
   "cell_type": "code",
   "execution_count": null,
   "id": "9d85fcaa",
   "metadata": {},
   "outputs": [],
   "source": [
    "from pathlib import Path\n",
    "\n",
    "print(Path('usr') / 'bin' / 'spam')\n",
    "# usr/bin/spam"
   ]
  },
  {
   "cell_type": "markdown",
   "id": "792cdc43",
   "metadata": {},
   "source": [
    "Joining paths is helpful if you need to create different file paths under the same directory."
   ]
  },
  {
   "cell_type": "code",
   "execution_count": null,
   "id": "8f38e9a5",
   "metadata": {},
   "outputs": [],
   "source": [
    "my_files = ['accounts.txt', 'details.csv', 'invite.docx']\n",
    "home = Path.home()\n",
    "for filename in my_files:\n",
    "    print(home / filename)\n",
    "\n",
    "# /home/docs/accounts.txt\n",
    "# /home/docs/details.csv\n",
    "# /home/docs/invite.docx"
   ]
  },
  {
   "cell_type": "markdown",
   "id": "2a7a75e0",
   "metadata": {},
   "source": [
    "## The current working directory"
   ]
  },
  {
   "cell_type": "code",
   "execution_count": null,
   "id": "c2c19a36-8205-4441-b714-d3e346c7feaf",
   "metadata": {},
   "outputs": [],
   "source": [
    "from pathlib import Path\n",
    "from os import chdir"
   ]
  },
  {
   "cell_type": "code",
   "execution_count": null,
   "id": "af36de88-300c-44e0-9fc0-5d5ed51ffac0",
   "metadata": {},
   "outputs": [],
   "source": [
    "print(Path.cwd())\n",
    "# /home/docs"
   ]
  },
  {
   "cell_type": "code",
   "execution_count": null,
   "id": "1fdffe11-d64a-470b-ae45-89180663384c",
   "metadata": {},
   "outputs": [],
   "source": [
    "chdir('/usr/lib/python3.10')\n",
    "print(Path.cwd())\n",
    "# /usr/lib/python3.10"
   ]
  },
  {
   "cell_type": "markdown",
   "id": "0e1ce9b5",
   "metadata": {},
   "source": [
    "## Creating new folders"
   ]
  },
  {
   "cell_type": "code",
   "execution_count": null,
   "id": "97fb5c45",
   "metadata": {},
   "outputs": [],
   "source": [
    "from pathlib import Path\n",
    "cwd = Path.cwd()\n",
    "(cwd / 'delicious' / 'walnut' / 'waffles').mkdir()\n",
    "# Traceback (most recent call last):\n",
    "#   File \"<stdin>\", line 1, in <module>\n",
    "#   File \"/usr/lib/python3.10/pathlib.py\", line 1226, in mkdir\n",
    "#     self._accessor.mkdir(self, mode)\n",
    "#   File \"/usr/lib/python3.10/pathlib.py\", line 387, in wrapped\n",
    "#     return strfunc(str(pathobj), *args)\n",
    "# FileNotFoundError: [Errno 2] No such file or directory: '/home/docs/delicious/walnut/waffles'"
   ]
  },
  {
   "cell_type": "markdown",
   "id": "8bd5ea58",
   "metadata": {},
   "source": [
    "The reason of this error is that the ‘delicious’ directory does not exist, so we cannot make the ‘walnut’ and the ‘waffles’ directories under it. To fix this, do:"
   ]
  },
  {
   "cell_type": "code",
   "execution_count": null,
   "id": "b7a8184a",
   "metadata": {},
   "outputs": [],
   "source": [
    "from pathlib import Path\n",
    "cwd = Path.cwd()\n",
    "(cwd / 'delicious' / 'walnut' / 'waffles').mkdir(parents=True)"
   ]
  },
  {
   "cell_type": "markdown",
   "id": "b7319db3",
   "metadata": {},
   "source": [
    "## Absolute vs. Relative paths\n",
    "\n",
    "There are two ways to specify a file path.\n",
    "\n",
    "- An **absolute path**, which always begins with the root folder\n",
    "- A **relative path**, which is relative to the program’s current working directory\n",
    "\n",
    "There are also the dot (`.`) and dot-dot (`..`) folders. These are not real folders, but special names that can be used in a path. A single period (“dot”) for a folder name is shorthand for “this directory.” Two periods (“dot-dot”) means “the parent folder.”\n",
    "\n",
    "### Handling Absolute paths\n",
    "\n",
    "To see if a path is an absolute path:"
   ]
  },
  {
   "cell_type": "code",
   "execution_count": null,
   "id": "2e9d046c-b1e5-44e5-ac67-9483b3493ee3",
   "metadata": {},
   "outputs": [],
   "source": [
    "from pathlib import Path"
   ]
  },
  {
   "cell_type": "code",
   "execution_count": null,
   "id": "40521631-04ac-49d4-bc39-ad86d4fb00b2",
   "metadata": {},
   "outputs": [],
   "source": [
    "Path('/').is_absolute()\n",
    "# True"
   ]
  },
  {
   "cell_type": "code",
   "execution_count": null,
   "id": "433eea61-9ee7-471f-8948-5fd0d28bcbdb",
   "metadata": {},
   "outputs": [],
   "source": [
    "Path('..').is_absolute()\n",
    "# False"
   ]
  },
  {
   "cell_type": "markdown",
   "id": "ae5bf1ff",
   "metadata": {},
   "source": [
    "You can also extract an absolute path:"
   ]
  },
  {
   "cell_type": "code",
   "execution_count": null,
   "id": "846267cd-fc86-48c9-87f4-d39b386c5b08",
   "metadata": {},
   "outputs": [],
   "source": [
    "from pathlib import Path"
   ]
  },
  {
   "cell_type": "code",
   "execution_count": null,
   "id": "a7c2286f-4c9b-4edc-a3b2-a877f1956aa4",
   "metadata": {},
   "outputs": [],
   "source": [
    "print(Path.cwd())\n",
    "# /home/docs"
   ]
  },
  {
   "cell_type": "code",
   "execution_count": null,
   "id": "45d2d8bf-9d91-453e-86df-80d4042f91e6",
   "metadata": {},
   "outputs": [],
   "source": [
    "print(Path('..').resolve())\n",
    "# /home"
   ]
  },
  {
   "cell_type": "markdown",
   "id": "7db3d00c",
   "metadata": {},
   "source": [
    "### Handling Relative paths\n",
    "\n",
    "You can get a relative path from a starting path to another path."
   ]
  },
  {
   "cell_type": "code",
   "execution_count": null,
   "id": "92445191",
   "metadata": {},
   "outputs": [],
   "source": [
    "from pathlib import Path\n",
    "print(Path('/etc/passwd').relative_to('/'))\n",
    "# etc/passwd"
   ]
  },
  {
   "cell_type": "markdown",
   "id": "4c692dc7",
   "metadata": {},
   "source": [
    "## Path and File validity\n",
    "\n",
    "### Checking if a file/directory exists"
   ]
  },
  {
   "cell_type": "code",
   "execution_count": null,
   "id": "9f7c2ffa-3755-4a15-9d45-f65f32c91f8a",
   "metadata": {},
   "outputs": [],
   "source": [
    "from pathlib import Path"
   ]
  },
  {
   "cell_type": "code",
   "execution_count": null,
   "id": "44d0ba5b-6cc9-452e-b564-228c96ef220f",
   "metadata": {},
   "outputs": [],
   "source": [
    "Path('.').exists()\n",
    "# True"
   ]
  },
  {
   "cell_type": "code",
   "execution_count": null,
   "id": "cc4cd800-dd0d-467e-9db8-ca13b00d3e5d",
   "metadata": {},
   "outputs": [],
   "source": [
    "Path('setup.py').exists()\n",
    "# True"
   ]
  },
  {
   "cell_type": "code",
   "execution_count": null,
   "id": "13509382-36e0-4569-8977-5ab71e40e56d",
   "metadata": {},
   "outputs": [],
   "source": [
    "Path('/etc').exists()\n",
    "# True"
   ]
  },
  {
   "cell_type": "code",
   "execution_count": null,
   "id": "9a609364-2957-489e-99e3-b1b0822a384f",
   "metadata": {},
   "outputs": [],
   "source": [
    "Path('nonexistentfile').exists()\n",
    "# False"
   ]
  },
  {
   "cell_type": "markdown",
   "id": "9ef4b318",
   "metadata": {},
   "source": [
    "### Checking if a path is a file"
   ]
  },
  {
   "cell_type": "code",
   "execution_count": null,
   "id": "d44642e6-39ee-4ac3-8da3-af6817da7265",
   "metadata": {},
   "outputs": [],
   "source": [
    "from pathlib import Path"
   ]
  },
  {
   "cell_type": "code",
   "execution_count": null,
   "id": "45bd0a7e-2cc0-4170-85f5-42d7f1bbdf5a",
   "metadata": {},
   "outputs": [],
   "source": [
    "Path('setup.py').is_file()\n",
    "# True"
   ]
  },
  {
   "cell_type": "code",
   "execution_count": null,
   "id": "b6a73928-30fb-4eaf-97e8-1a13cab7bd12",
   "metadata": {},
   "outputs": [],
   "source": [
    "Path('/home').is_file()\n",
    "# False"
   ]
  },
  {
   "cell_type": "code",
   "execution_count": null,
   "id": "4bb61baf-ff76-4523-8ffa-f78f397cf7c5",
   "metadata": {},
   "outputs": [],
   "source": [
    "Path('nonexistentfile').is_file()\n",
    "# False"
   ]
  },
  {
   "cell_type": "markdown",
   "id": "df5dbcb2",
   "metadata": {},
   "source": [
    "### Checking if a path is a directory"
   ]
  },
  {
   "cell_type": "code",
   "execution_count": null,
   "id": "4f77ef73-0bd3-4e28-9ff6-244e6d6c69de",
   "metadata": {},
   "outputs": [],
   "source": [
    "from pathlib import Path"
   ]
  },
  {
   "cell_type": "code",
   "execution_count": null,
   "id": "77861a9b-d9ee-4071-aac0-b8db6e4e21f3",
   "metadata": {},
   "outputs": [],
   "source": [
    "Path('/').is_dir()\n",
    "# True"
   ]
  },
  {
   "cell_type": "code",
   "execution_count": null,
   "id": "7abec6a8-9d1e-426e-a16b-cb671880bfd1",
   "metadata": {},
   "outputs": [],
   "source": [
    "Path('setup.py').is_dir()\n",
    "# False"
   ]
  },
  {
   "cell_type": "code",
   "execution_count": null,
   "id": "d0ee82e2-b60a-4349-a240-37431eaa9fc6",
   "metadata": {},
   "outputs": [],
   "source": [
    "Path('/spam').is_dir()\n",
    "# False"
   ]
  },
  {
   "cell_type": "markdown",
   "id": "ef3ca005",
   "metadata": {},
   "source": [
    "## Getting a file’s size in bytes"
   ]
  },
  {
   "cell_type": "code",
   "execution_count": null,
   "id": "d367e974",
   "metadata": {},
   "outputs": [],
   "source": [
    "from pathlib import Path\n",
    "\n",
    "stat = Path('/bin/python3.10').stat()\n",
    "print(stat) # stat contains some other information about the file as well\n",
    "# os.stat_result(st_mode=33261, st_ino=141087, st_dev=2051, st_nlink=2, st_uid=0,\n",
    "# --snip--\n",
    "# st_gid=0, st_size=10024, st_atime=1517725562, st_mtime=1515119809, st_ctime=1517261276)\n",
    "\n",
    "print(stat.st_size) # size in bytes\n",
    "# 10024"
   ]
  },
  {
   "cell_type": "markdown",
   "id": "9af71c35",
   "metadata": {},
   "source": [
    "## Listing directories"
   ]
  },
  {
   "cell_type": "code",
   "execution_count": null,
   "id": "70fead1e",
   "metadata": {},
   "outputs": [],
   "source": [
    "from pathlib import Path\n",
    "\n",
    "for f in Path('/usr/bin').iterdir():\n",
    "    print(f)\n",
    "\n",
    "# ...\n",
    "# /usr/bin/tiff2rgba\n",
    "# /usr/bin/iconv\n",
    "# /usr/bin/ldd\n",
    "# /usr/bin/cache_restore\n",
    "# /usr/bin/udiskie\n",
    "# /usr/bin/unix2dos\n",
    "# /usr/bin/t1reencode\n",
    "# /usr/bin/epstopdf\n",
    "# /usr/bin/idle3\n",
    "# ..."
   ]
  },
  {
   "cell_type": "markdown",
   "id": "8c8720f2",
   "metadata": {},
   "source": [
    "## Directory file sizes\n",
    "\n",
    "\n",
    "\n",
    "WARNING\n",
    "\n",
    "Directories themselves also have a size! So, you might want to check for whether a path is a file or directory using the methods in the methods discussed in the above section."
   ]
  },
  {
   "cell_type": "code",
   "execution_count": null,
   "id": "5e7d4219",
   "metadata": {},
   "outputs": [],
   "source": [
    "from pathlib import Path\n",
    "\n",
    "total_size = 0\n",
    "\n",
    "for sub_path in Path('/usr/bin').iterdir():\n",
    "    total_size += sub_path.stat().st_size\n",
    "\n",
    "print(total_size)\n",
    "# 1903178911"
   ]
  },
  {
   "cell_type": "markdown",
   "id": "ccdc98b7",
   "metadata": {},
   "source": [
    "## Deleting files and folders\n",
    "\n",
    "- Calling `Path.unlink()` will delete the file at path.\n",
    "- Calling `Path.rmdir()` will delete the folder at path. This folder must be empty of any files or folders."
   ]
  }
 ],
 "metadata": {
  "kernelspec": {
   "display_name": "Python 3 (ipykernel)",
   "language": "python",
   "name": "python3"
  },
  "language_info": {
   "codemirror_mode": {
    "name": "ipython",
    "version": 3
   },
   "file_extension": ".py",
   "mimetype": "text/x-python",
   "name": "python",
   "nbconvert_exporter": "python",
   "pygments_lexer": "ipython3",
   "version": "3.12.0"
  }
 },
 "nbformat": 4,
 "nbformat_minor": 5
}
