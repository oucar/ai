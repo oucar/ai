{
 "cells": [
  {
   "cell_type": "markdown",
   "id": "e88229b2",
   "metadata": {},
   "source": [
    "# Python setup.py\n",
    "\n",
    "A 'controversial' opinion\n",
    "\n",
    "Using `setup.py` to pack and distribute your python packages can be quite challenging every so often. Tools like [Poetry](https://python-poetry.org/) make not only the packaging a **lot easier**, but also help you to manage your dependencies in a very convenient way.\n",
    "\n",
    "If you want more information about Poetry you can read the following articles:\n",
    "\n",
    "- [Python projects with Poetry and VSCode. Part 1](https://www.pythoncheatsheet.org/blog/python-projects-with-poetry-and-vscode-part-1)\n",
    "- [Python projects with Poetry and VSCode. Part 2](https://www.pythoncheatsheet.org/blog/python-projects-with-poetry-and-vscode-part-2)\n",
    "- [Python projects with Poetry and VSCode. Part 3](https://www.pythoncheatsheet.org/blog/python-projects-with-poetry-and-vscode-part-3)\n",
    "\n",
    "## Introduction\n",
    "\n",
    "The setup script is the center of all activity in building, distributing, and installing modules using the Distutils. The main purpose of the setup script is to describe your module distribution to the Distutils, so that the various commands that operate on your modules do the right thing.\n",
    "\n",
    "The `setup.py` file is at the heart of a Python project. It describes all the metadata about your project. There are quite a few fields you can add to a project to give it a rich set of metadata describing the project. However, there are only three required fields: name, version, and packages. The name field must be unique if you wish to publish your package on the Python Package Index (PyPI). The version field keeps track of different releases of the project. The package’s field describes where you’ve put the Python source code within your project.\n",
    "\n",
    "This allows you to easily install Python packages. Often it’s enough to write:"
   ]
  },
  {
   "cell_type": "code",
   "execution_count": null,
   "id": "ba6e17ba",
   "metadata": {},
   "outputs": [],
   "source": [
    "%%bash\n",
    "python setup.py install"
   ]
  },
  {
   "cell_type": "markdown",
   "id": "6e437b70",
   "metadata": {},
   "source": [
    "and module will install itself.\n",
    "\n",
    "## Example\n",
    "\n",
    "Our initial setup.py will also include information about the license and will re-use the README.txt file for the long_description field. This will look like:"
   ]
  },
  {
   "cell_type": "code",
   "execution_count": null,
   "id": "4200c443",
   "metadata": {},
   "outputs": [],
   "source": [
    "from distutils.core import setup\n",
    "setup(\n",
    "    name='pythonCheatsheet',\n",
    "    version='0.1',\n",
    "    packages=['pipenv',],\n",
    "    license='MIT',\n",
    "    long_description=open('README.txt').read(),\n",
    ")"
   ]
  },
  {
   "cell_type": "markdown",
   "id": "2e38d90b",
   "metadata": {},
   "source": [
    "Find more information visit the [official documentation](http://docs.python.org/install/index.html)."
   ]
  }
 ],
 "metadata": {
  "kernelspec": {
   "display_name": "Python 3 (ipykernel)",
   "language": "python",
   "name": "python3"
  },
  "language_info": {
   "codemirror_mode": {
    "name": "ipython",
    "version": 3
   },
   "file_extension": ".py",
   "mimetype": "text/x-python",
   "name": "python",
   "nbconvert_exporter": "python",
   "pygments_lexer": "ipython3",
   "version": "3.12.0"
  }
 },
 "nbformat": 4,
 "nbformat_minor": 5
}
