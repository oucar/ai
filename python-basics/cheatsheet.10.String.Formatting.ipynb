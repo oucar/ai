{
 "cells": [
  {
   "cell_type": "markdown",
   "id": "d1a8c78d",
   "metadata": {},
   "source": [
    "# Python String Formatting\n",
    "\n",
    "From the [Python 3 documentation](https://docs.python.org/3/library/stdtypes.html?highlight=sprintf#printf-style-string-formatting)\n",
    "\n",
    "The formatting operations described here (**% operator**) exhibit a variety of quirks that lead to a number of common errors [...]. Using the newer [formatted string literals](https://www.pythoncheatsheet.org/cheatsheet/string-formatting#formatted-string-literals-or-f-strings) [...] helps avoid these errors. These alternatives also provide more powerful, flexible and extensible approaches to formatting text.\n",
    "\n",
    "## % operator\n",
    "\n",
    "Prefer String Literals\n",
    "\n",
    "For new code, using [str.format](https://www.pythoncheatsheet.org/cheatsheet/string-formatting#strformat), or [formatted string literals](https://www.pythoncheatsheet.org/cheatsheet/string-formatting#formatted-string-literals-or-f-strings) (Python 3.6+) over the `%` operator is strongly recommended."
   ]
  },
  {
   "cell_type": "code",
   "execution_count": null,
   "id": "3810a428",
   "metadata": {},
   "outputs": [],
   "source": [
    "name = 'Pete'\n",
    "'Hello %s' % name\n",
    "# \"Hello Pete\""
   ]
  },
  {
   "cell_type": "markdown",
   "id": "08a1e6a8",
   "metadata": {},
   "source": [
    "We can use the `%d` format specifier to convert an int value to a string:"
   ]
  },
  {
   "cell_type": "code",
   "execution_count": null,
   "id": "c0ca24ac",
   "metadata": {},
   "outputs": [],
   "source": [
    "num = 5\n",
    "'I have %d apples' % num\n",
    "# \"I have 5 apples\""
   ]
  },
  {
   "cell_type": "markdown",
   "id": "8f96d973",
   "metadata": {},
   "source": [
    "## str.format\n",
    "\n",
    "Python 3 introduced a new way to do string formatting that was later back-ported to Python 2.7. This makes the syntax for string formatting more regular."
   ]
  },
  {
   "cell_type": "code",
   "execution_count": null,
   "id": "da42ccdc-3dee-4b20-bcce-4d12db4f944b",
   "metadata": {},
   "outputs": [],
   "source": [
    "name = 'John'\n",
    "age = 20"
   ]
  },
  {
   "cell_type": "code",
   "execution_count": null,
   "id": "a27e93d9-7da4-4000-a028-b89160d5ba45",
   "metadata": {},
   "outputs": [],
   "source": [
    "\"Hello I'm {}, my age is {}\".format(name, age)\n",
    "# \"Hello I'm John, my age is 20\""
   ]
  },
  {
   "cell_type": "code",
   "execution_count": null,
   "id": "bfb6ad75-a89c-4368-b840-9e7af30349b4",
   "metadata": {},
   "outputs": [],
   "source": [
    "\"Hello I'm {0}, my age is {1}\".format(name, age)\n",
    "# \"Hello I'm John, my age is 20\""
   ]
  },
  {
   "cell_type": "markdown",
   "id": "7b3d30dd",
   "metadata": {},
   "source": [
    "## Formatted String Literals or f-Strings\n",
    "\n",
    "If your are using Python 3.6+, string `f-Strings` are the recommended way to format strings.\n",
    "\n",
    "\n",
    "\n",
    "From the [Python 3 documentation](https://docs.python.org/3/reference/lexical_analysis.html#f-strings)\n",
    "\n",
    "A formatted string literal or f-string is a string literal that is prefixed with `f` or `F`. These strings may contain replacement fields, which are expressions delimited by curly braces {}. While other string literals always have a constant value, formatted strings are really expressions evaluated at run time."
   ]
  },
  {
   "cell_type": "code",
   "execution_count": null,
   "id": "51c937ec",
   "metadata": {},
   "outputs": [],
   "source": [
    "name = 'Elizabeth'\n",
    "f'Hello {name}!'\n",
    "# 'Hello Elizabeth!'"
   ]
  },
  {
   "cell_type": "markdown",
   "id": "5c001a3b",
   "metadata": {},
   "source": [
    "It is even possible to do inline arithmetic with it:"
   ]
  },
  {
   "cell_type": "code",
   "execution_count": null,
   "id": "2c4062df",
   "metadata": {},
   "outputs": [],
   "source": [
    "a = 5\n",
    "b = 10\n",
    "f'Five plus ten is {a + b} and not {2 * (a + b)}.'\n",
    "# 'Five plus ten is 15 and not 30.'"
   ]
  },
  {
   "cell_type": "markdown",
   "id": "4af7c50c",
   "metadata": {},
   "source": [
    "### Multiline f-Strings"
   ]
  },
  {
   "cell_type": "code",
   "execution_count": null,
   "id": "710c3597",
   "metadata": {},
   "outputs": [],
   "source": [
    "name = 'Robert'\n",
    "messages = 12\n",
    "\n",
    "(\n",
    "    f'Hi, {name}. '\n",
    "    f'You have {messages} unread messages'\n",
    ")\n",
    "# 'Hi, Robert. You have 12 unread messages'"
   ]
  },
  {
   "cell_type": "markdown",
   "id": "b175de53",
   "metadata": {},
   "source": [
    "### The `=` specifier\n",
    "\n",
    "This will print the expression and its value:"
   ]
  },
  {
   "cell_type": "code",
   "execution_count": null,
   "id": "80123780",
   "metadata": {},
   "outputs": [],
   "source": [
    "from datetime import datetime\n",
    "now = datetime.now().strftime(\"%b/%d/%Y - %H:%M:%S\")\n",
    "f'date and time: {now=}'\n",
    "# \"date and time: now='...'\" `...` will be replaced by current time."
   ]
  },
  {
   "cell_type": "markdown",
   "id": "a4755731",
   "metadata": {},
   "source": [
    "### Adding spaces or characters"
   ]
  },
  {
   "cell_type": "code",
   "execution_count": null,
   "id": "81a31449-9026-4a6d-8775-90032020a2a7",
   "metadata": {},
   "outputs": [],
   "source": [
    "f\"{name.upper() = :-^20}\"\n",
    "# 'name.upper() = -------ROBERT-------'"
   ]
  },
  {
   "cell_type": "code",
   "execution_count": null,
   "id": "e8840697-0b8a-4fcf-908d-12c8735bc9e3",
   "metadata": {},
   "outputs": [],
   "source": [
    "f\"{name.upper() = :^20}\"\n",
    "# 'name.upper() =        ROBERT       '"
   ]
  },
  {
   "cell_type": "code",
   "execution_count": null,
   "id": "6d2e5f6d-88d7-4018-b491-f9f0a3d757de",
   "metadata": {},
   "outputs": [],
   "source": [
    "f\"{name.upper() = :20}\"\n",
    "# 'name.upper() = ROBERT              '"
   ]
  },
  {
   "cell_type": "markdown",
   "id": "9c7f3c30",
   "metadata": {},
   "source": [
    "## Formatting Digits\n",
    "\n",
    "Adding thousands separator"
   ]
  },
  {
   "cell_type": "code",
   "execution_count": null,
   "id": "6d20dc10",
   "metadata": {},
   "outputs": [],
   "source": [
    "a = 10000000\n",
    "f\"{a:,}\"\n",
    "# '10,000,000'"
   ]
  },
  {
   "cell_type": "markdown",
   "id": "2db6d0f9",
   "metadata": {},
   "source": [
    "Rounding"
   ]
  },
  {
   "cell_type": "code",
   "execution_count": null,
   "id": "a74af113",
   "metadata": {},
   "outputs": [],
   "source": [
    "a = 3.1415926\n",
    "f\"{a:.2f}\"\n",
    "# '3.14'"
   ]
  },
  {
   "cell_type": "markdown",
   "id": "f2810cae",
   "metadata": {},
   "source": [
    "Showing as Percentage"
   ]
  },
  {
   "cell_type": "code",
   "execution_count": null,
   "id": "c9f5f926",
   "metadata": {},
   "outputs": [],
   "source": [
    "a = 0.816562\n",
    "f\"{a:.2%}\"\n",
    "# '81.66%'"
   ]
  },
  {
   "cell_type": "markdown",
   "id": "f31f7788",
   "metadata": {},
   "source": [
    "### Number formatting table\n",
    "\n",
    "| Number     | Format  | Output    | description                                   |\n",
    "| ---------- | ------- | --------- | --------------------------------------------- |\n",
    "| 3.1415926  | {:.2f}  | 3.14      | Format float 2 decimal places                 |\n",
    "| 3.1415926  | {:+.2f} | +3.14     | Format float 2 decimal places with sign       |\n",
    "| -1         | {:+.2f} | -1.00     | Format float 2 decimal places with sign       |\n",
    "| 2.71828    | {:.0f}  | 3         | Format float with no decimal places           |\n",
    "| 4          | {:0>2d} | 04        | Pad number with zeros (left padding, width 2) |\n",
    "| 4          | {:x<4d} | 4xxx      | Pad number with x’s (right padding, width 4)  |\n",
    "| 10         | {:x<4d} | 10xx      | Pad number with x’s (right padding, width 4)  |\n",
    "| 1000000    | {:,}    | 1,000,000 | Number format with comma separator            |\n",
    "| 0.35       | {:.2%}  | 35.00%    | Format percentage                             |\n",
    "| 1000000000 | {:.2e}  | 1.00e+09  | Exponent notation                             |\n",
    "| 11         | {:11d}  | 11        | Right-aligned (default, width 10)             |\n",
    "| 11         | {:<11d} | 11        | Left-aligned (width 10)                       |\n",
    "| 11         | {:^11d} | 11        | Center aligned (width 10)                     |\n",
    "\n",
    "## Template Strings\n",
    "\n",
    "A simpler and less powerful mechanism, but it is recommended when handling strings generated by users. Due to their reduced complexity, template strings are a safer choice."
   ]
  },
  {
   "cell_type": "code",
   "execution_count": null,
   "id": "eb00a48d-e582-41ce-8341-58cd3480a3ae",
   "metadata": {},
   "outputs": [],
   "source": [
    "from string import Template\n",
    "name = 'Elizabeth'\n",
    "t = Template('Hey $name!')\n",
    "t.substitute(name=name)\n",
    "# 'Hey Elizabeth!'"
   ]
  }
 ],
 "metadata": {
  "kernelspec": {
   "display_name": "Python 3 (ipykernel)",
   "language": "python",
   "name": "python3"
  },
  "language_info": {
   "codemirror_mode": {
    "name": "ipython",
    "version": 3
   },
   "file_extension": ".py",
   "mimetype": "text/x-python",
   "name": "python",
   "nbconvert_exporter": "python",
   "pygments_lexer": "ipython3",
   "version": "3.12.0"
  }
 },
 "nbformat": 4,
 "nbformat_minor": 5
}
