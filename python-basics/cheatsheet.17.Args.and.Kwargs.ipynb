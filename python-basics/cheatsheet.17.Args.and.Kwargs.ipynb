{
 "cells": [
  {
   "cell_type": "markdown",
   "id": "01a22a9b",
   "metadata": {},
   "source": [
    "# Python Args and Kwargs\n",
    "\n",
    "[Python args and kwargs Made Easy](https://docs.python.org/3/tutorial/index.html)\n",
    "\n",
    "`*args` and `**kwargs` may seem scary, but the truth is that they are not that difficult to grasp and have the power to grant your functions with lots of flexibility.\n",
    "\n",
    "Read the article [Python *args and **kwargs Made Easy](https://www.pythoncheatsheet.org/blog/python-easy-args-kwargs) for a more in deep introduction.\n",
    "\n",
    "## Args and Kwargs\n",
    "\n",
    "`*args` and `**kwargs` allow you to pass an undefined number of arguments and keywords when calling a function."
   ]
  },
  {
   "cell_type": "code",
   "execution_count": null,
   "id": "a806d273-39b7-4bd6-aa99-3978808d0670",
   "metadata": {},
   "outputs": [],
   "source": [
    "def some_function(*args, **kwargs):\n",
    "    pass"
   ]
  },
  {
   "cell_type": "code",
   "execution_count": null,
   "id": "526afd8f-8af5-4197-9895-ebfbfe611565",
   "metadata": {},
   "outputs": [],
   "source": [
    "# call some_function with any number of arguments\n",
    "some_function(arg1, arg2, arg3)"
   ]
  },
  {
   "cell_type": "code",
   "execution_count": null,
   "id": "f4ed789f-eb77-4341-9122-fb33c18f258c",
   "metadata": {},
   "outputs": [],
   "source": [
    "# call some_function with any number of keywords\n",
    "some_function(key1=arg1, key2=arg2, key3=arg3)"
   ]
  },
  {
   "cell_type": "code",
   "execution_count": null,
   "id": "7e4753d4-a62d-45d6-88cb-6d4a17c75154",
   "metadata": {},
   "outputs": [],
   "source": [
    "# call both, arguments and keywords\n",
    "some_function(arg, key1=arg1)"
   ]
  },
  {
   "cell_type": "code",
   "execution_count": null,
   "id": "7d1ad99b-6270-465f-98db-f4746f67ceae",
   "metadata": {},
   "outputs": [],
   "source": [
    "# or none\n",
    "some_function()"
   ]
  },
  {
   "cell_type": "markdown",
   "id": "522c6c67",
   "metadata": {},
   "source": [
    "Python conventions\n",
    "\n",
    "The words `*args` and `**kwargs` are conventions. They are not imposed by the interpreter, but considered good practice by the Python community.\n",
    "\n",
    "## args\n",
    "\n",
    "You can access the *arguments* through the `args` variable:"
   ]
  },
  {
   "cell_type": "code",
   "execution_count": null,
   "id": "5be68331-4755-4a8b-80f4-7ec7e8a2e934",
   "metadata": {},
   "outputs": [],
   "source": [
    "def some_function(*args):\n",
    "print(f'Arguments passed: {args} as {type(args)}')"
   ]
  },
  {
   "cell_type": "code",
   "execution_count": null,
   "id": "1d3481eb-1f16-4a81-b301-fca677376eec",
   "metadata": {},
   "outputs": [],
   "source": [
    "some_function('arg1', 'arg2', 'arg3')\n",
    "# Arguments passed: ('arg1', 'arg2', 'arg3') as <class 'tuple'>"
   ]
  },
  {
   "cell_type": "markdown",
   "id": "ed8f0dff",
   "metadata": {},
   "source": [
    "## kwargs\n",
    "\n",
    "Keywords are accessed through the `kwargs` variable:\n"
   ]
  },
  {
   "cell_type": "code",
   "execution_count": null,
   "id": "defcd79f-f46b-40da-955c-6194082132bf",
   "metadata": {},
   "outputs": [],
   "source": [
    "def some_function(**kwargs):\n",
    "    print(f'keywords: {kwargs} as {type(kwargs)}')\n",
    "\n",
    "some_function(key1='arg1', key2='arg2')\n",
    "# keywords: {'key1': 'arg1', 'key2': 'arg2'} as <class 'dict'>"
   ]
  }
 ],
 "metadata": {
  "kernelspec": {
   "display_name": "Python 3 (ipykernel)",
   "language": "python",
   "name": "python3"
  },
  "language_info": {
   "codemirror_mode": {
    "name": "ipython",
    "version": 3
   },
   "file_extension": ".py",
   "mimetype": "text/x-python",
   "name": "python",
   "nbconvert_exporter": "python",
   "pygments_lexer": "ipython3",
   "version": "3.12.0"
  }
 },
 "nbformat": 4,
 "nbformat_minor": 5
}
