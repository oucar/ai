{
 "cells": [
  {
   "cell_type": "markdown",
   "id": "b5f91035",
   "metadata": {},
   "source": [
    "# Regular Expressions\n",
    "\n",
    "[Regular expressions](https://en.wikipedia.org/wiki/Regular_expression)\n",
    "\n",
    "A regular expression (shortened as regex [...]) is a sequence of characters that specifies a search pattern in text. [...] used by string-searching algorithms for \"find\" or \"find and replace\" operations on strings, or for input validation.\n",
    "\n",
    "1. Import the regex module with `import re`.\n",
    "2. Create a Regex object with the `re.compile()` function. (Remember to use a raw string.)\n",
    "3. Pass the string you want to search into the Regex object’s `search()` method. This returns a `Match` object.\n",
    "4. Call the Match object’s `group()` method to return a string of the actual matched text.\n",
    "\n",
    "All the regex functions in Python are in the re module:"
   ]
  },
  {
   "cell_type": "code",
   "execution_count": null,
   "id": "c657e867",
   "metadata": {},
   "outputs": [],
   "source": [
    "import re"
   ]
  },
  {
   "cell_type": "markdown",
   "id": "2bb6818b",
   "metadata": {},
   "source": [
    "## Regex symbols\n",
    "\n",
    "| Symbol                   | Matches                                                |\n",
    "| ------------------------ | ------------------------------------------------------ |\n",
    "| `?`                      | zero or one of the preceding group.                    |\n",
    "| `*`                      | zero or more of the preceding group.                   |\n",
    "| `+`                      | one or more of the preceding group.                    |\n",
    "| `{n}`                    | exactly n of the preceding group.                      |\n",
    "| `{n,}`                   | n or more of the preceding group.                      |\n",
    "| `{,m}`                   | 0 to m of the preceding group.                         |\n",
    "| `{n,m}`                  | at least n and at most m of the preceding p.           |\n",
    "| `{n,m}?` or `*?` or `+?` | performs a non-greedy match of the preceding p.        |\n",
    "| `^spam`                  | means the string must begin with spam.                 |\n",
    "| `spam$`                  | means the string must end with spam.                   |\n",
    "| `.`                      | any character, except newline characters.              |\n",
    "| `\\d`, `\\w`, and `\\s`     | a digit, word, or space character, respectively.       |\n",
    "| `\\D`, `\\W`, and `\\S`     | anything except a digit, word, or space, respectively. |\n",
    "| `[abc]`                  | any character between the brackets (such as a, b, ).   |\n",
    "| `[^abc]`                 | any character that isn’t between the brackets.         |\n",
    "\n",
    "## Matching regex objects"
   ]
  },
  {
   "cell_type": "code",
   "execution_count": null,
   "id": "63028c1d",
   "metadata": {},
   "outputs": [],
   "source": [
    "phone_num_regex = re.compile(r'\\d\\d\\d-\\d\\d\\d-\\d\\d\\d\\d')\n",
    "\n",
    "mo = phone_num_regex.search('My number is 415-555-4242.')\n",
    "\n",
    "print(f'Phone number found: {mo.group()}')\n",
    "# Phone number found: 415-555-4242"
   ]
  },
  {
   "cell_type": "markdown",
   "id": "a8261a9c",
   "metadata": {},
   "source": [
    "## Grouping with parentheses"
   ]
  },
  {
   "cell_type": "code",
   "execution_count": null,
   "id": "01f78632-7664-479b-9518-f99885da5184",
   "metadata": {},
   "outputs": [],
   "source": [
    "phone_num_regex = re.compile(r'(\\d\\d\\d)-(\\d\\d\\d-\\d\\d\\d\\d)')\n",
    "mo = phone_num_regex.search('My number is 415-555-4242.')"
   ]
  },
  {
   "cell_type": "code",
   "execution_count": null,
   "id": "baabbfd8-a4cf-4be0-9092-4aa90e43b316",
   "metadata": {},
   "outputs": [],
   "source": [
    "mo.group(1)\n",
    "# '415'"
   ]
  },
  {
   "cell_type": "code",
   "execution_count": null,
   "id": "9f9e9fb7-be88-4dbe-b77c-e34e1ecc2f7d",
   "metadata": {},
   "outputs": [],
   "source": [
    "mo.group(2)\n",
    "# '555-4242'"
   ]
  },
  {
   "cell_type": "code",
   "execution_count": null,
   "id": "a397ffb0-0c6f-4789-b93c-ed92902858f9",
   "metadata": {},
   "outputs": [],
   "source": [
    "mo.group(0)\n",
    "# '415-555-4242'"
   ]
  },
  {
   "cell_type": "code",
   "execution_count": null,
   "id": "31b89d72-6268-4341-867e-bb2efbe3b436",
   "metadata": {},
   "outputs": [],
   "source": [
    "mo.group()\n",
    "# '415-555-4242'"
   ]
  },
  {
   "cell_type": "markdown",
   "id": "7cfad586",
   "metadata": {},
   "source": [
    "To retrieve all the groups at once use the `groups()` method:"
   ]
  },
  {
   "cell_type": "code",
   "execution_count": null,
   "id": "1f8d2bf6-fd40-4c77-aec7-1c6ef019902b",
   "metadata": {},
   "outputs": [],
   "source": [
    "mo.groups()\n",
    "('415', '555-4242')\n",
    "\n",
    "area_code, main_number = mo.groups()"
   ]
  },
  {
   "cell_type": "code",
   "execution_count": null,
   "id": "83f3829d-728d-4f0b-8bbc-75ced59cb954",
   "metadata": {},
   "outputs": [],
   "source": [
    "print(area_code)\n",
    "# 415"
   ]
  },
  {
   "cell_type": "code",
   "execution_count": null,
   "id": "f15ab5cd-b2a7-48bf-82c8-6699f1a26dfc",
   "metadata": {},
   "outputs": [],
   "source": [
    "print(main_number)\n",
    "# 555-4242"
   ]
  },
  {
   "cell_type": "markdown",
   "id": "e550c0a5",
   "metadata": {},
   "source": [
    "## Multiple groups with Pipe\n",
    "\n",
    "You can use the `|` character anywhere you want to match one of many expressions."
   ]
  },
  {
   "cell_type": "code",
   "execution_count": null,
   "id": "f680598e-a5fc-430f-aefb-73b19b93c4cb",
   "metadata": {},
   "outputs": [],
   "source": [
    "hero_regex = re.compile (r'Batman|Tina Fey')"
   ]
  },
  {
   "cell_type": "code",
   "execution_count": null,
   "id": "1cf6c350-97b7-4b95-a3a8-94dffae4686f",
   "metadata": {},
   "outputs": [],
   "source": [
    "mo1 = hero_regex.search('Batman and Tina Fey.')\n",
    "mo1.group()\n",
    "# 'Batman'"
   ]
  },
  {
   "cell_type": "code",
   "execution_count": null,
   "id": "5d8921d4-fd6a-4ab0-90fd-8f01e4e1b092",
   "metadata": {},
   "outputs": [],
   "source": [
    "mo2 = hero_regex.search('Tina Fey and Batman.')\n",
    "mo2.group()\n",
    "# 'Tina Fey'"
   ]
  },
  {
   "cell_type": "markdown",
   "id": "2bf07ba7",
   "metadata": {},
   "source": [
    "You can also use the pipe to match one of several patterns as part of your regex:"
   ]
  },
  {
   "cell_type": "code",
   "execution_count": null,
   "id": "fa9b29cd-caf9-4c9a-81c6-01f8dea8fcd6",
   "metadata": {},
   "outputs": [],
   "source": [
    "bat_regex = re.compile(r'Bat(man|mobile|copter|bat)')\n",
    "mo = bat_regex.search('Batmobile lost a wheel')"
   ]
  },
  {
   "cell_type": "code",
   "execution_count": null,
   "id": "11af76eb-e867-4a1f-9b87-d71cd4a6addd",
   "metadata": {},
   "outputs": [],
   "source": [
    "mo.group()\n",
    "# 'Batmobile'"
   ]
  },
  {
   "cell_type": "code",
   "execution_count": null,
   "id": "6867821e-914b-4b38-af42-cbd2ca6387f2",
   "metadata": {},
   "outputs": [],
   "source": [
    "mo.group(1)\n",
    "# 'mobile'"
   ]
  },
  {
   "cell_type": "markdown",
   "id": "b4458342",
   "metadata": {},
   "source": [
    "## Optional matching with the Question Mark\n",
    "\n",
    "The `?` character flags the group that precedes it as an optional part of the pattern."
   ]
  },
  {
   "cell_type": "code",
   "execution_count": null,
   "id": "60e762b1-8421-4943-9601-e11e0636ae2c",
   "metadata": {},
   "outputs": [],
   "source": [
    "bat_regex = re.compile(r'Bat(wo)?man')"
   ]
  },
  {
   "cell_type": "code",
   "execution_count": null,
   "id": "fd69c406-8f6a-4f37-9e69-669984be12ee",
   "metadata": {},
   "outputs": [],
   "source": [
    "mo1 = bat_regex.search('The Adventures of Batman')\n",
    "mo1.group()\n",
    "# 'Batman'"
   ]
  },
  {
   "cell_type": "code",
   "execution_count": null,
   "id": "0404e03d-72e5-4477-83d7-33699b3bf800",
   "metadata": {},
   "outputs": [],
   "source": [
    "mo2 = bat_regex.search('The Adventures of Batwoman')\n",
    "mo2.group()\n",
    "# 'Batwoman'"
   ]
  },
  {
   "cell_type": "markdown",
   "id": "e0288e3f",
   "metadata": {},
   "source": [
    "## Matching zero or more with the Star\n",
    "\n",
    "The `*` (star or asterisk) means “match zero or more”. The group that precedes the star can occur any number of times in the text."
   ]
  },
  {
   "cell_type": "code",
   "execution_count": null,
   "id": "be2ccaa9-cfaf-42fb-bde7-e43129fa2bd6",
   "metadata": {},
   "outputs": [],
   "source": [
    "bat_regex = re.compile(r'Bat(wo)*man')\n",
    "mo1 = bat_regex.search('The Adventures of Batman')"
   ]
  },
  {
   "cell_type": "code",
   "execution_count": null,
   "id": "4657b9c9-3bb2-4ec7-bafd-3057b6a72d95",
   "metadata": {},
   "outputs": [],
   "source": [
    "mo1.group()\n",
    "# 'Batman'"
   ]
  },
  {
   "cell_type": "code",
   "execution_count": null,
   "id": "008e5e7a-b276-4942-a1ed-c473bbdb9599",
   "metadata": {},
   "outputs": [],
   "source": [
    "mo2 = bat_regex.search('The Adventures of Batwoman')\n",
    "mo2.group()\n",
    "# 'Batwoman'"
   ]
  },
  {
   "cell_type": "code",
   "execution_count": null,
   "id": "6a6eb2e0-c410-4ed9-a8b1-c6c48fd15707",
   "metadata": {},
   "outputs": [],
   "source": [
    "mo3 = bat_regex.search('The Adventures of Batwowowowoman')\n",
    "mo3.group()\n",
    "# 'Batwowowowoman'"
   ]
  },
  {
   "cell_type": "markdown",
   "id": "c849a510",
   "metadata": {},
   "source": [
    "## Matching one or more with the Plus\n",
    "\n",
    "The `+` (or plus) *means match one or more*. The group preceding a plus must appear at least once:"
   ]
  },
  {
   "cell_type": "code",
   "execution_count": null,
   "id": "692ecd98-f8b5-4d71-855f-ea5762d2042c",
   "metadata": {},
   "outputs": [],
   "source": [
    "bat_regex = re.compile(r'Bat(wo)+man')"
   ]
  },
  {
   "cell_type": "code",
   "execution_count": null,
   "id": "62dbbc29-1067-4c72-a2a6-2e67fd22c20d",
   "metadata": {},
   "outputs": [],
   "source": [
    "mo1 = bat_regex.search('The Adventures of Batwoman')\n",
    "mo1.group()\n",
    "# 'Batwoman'"
   ]
  },
  {
   "cell_type": "code",
   "execution_count": null,
   "id": "52d2631f-201a-4d93-ad61-805894bc35c5",
   "metadata": {},
   "outputs": [],
   "source": [
    "mo2 = bat_regex.search('The Adventures of Batwowowowoman')\n",
    "mo2.group()\n",
    "# 'Batwowowowoman'"
   ]
  },
  {
   "cell_type": "code",
   "execution_count": null,
   "id": "db1dc035-9bc6-42e2-8508-b8a37b4e41fb",
   "metadata": {},
   "outputs": [],
   "source": [
    "mo3 = bat_regex.search('The Adventures of Batman')\n",
    "mo3 is None\n",
    "# True"
   ]
  },
  {
   "cell_type": "markdown",
   "id": "265ab1e4",
   "metadata": {},
   "source": [
    "## Matching specific repetitions with Curly Brackets\n",
    "\n",
    "If you have a group that you want to repeat a specific number of times, follow the group in your regex with a number in curly brackets:"
   ]
  },
  {
   "cell_type": "code",
   "execution_count": null,
   "id": "3fbd1769-8d1d-4c61-a32d-ac99ea352a9c",
   "metadata": {},
   "outputs": [],
   "source": [
    "ha_regex = re.compile(r'(Ha){3}')"
   ]
  },
  {
   "cell_type": "code",
   "execution_count": null,
   "id": "048b869b-9fcc-401b-9574-b5f3b044e378",
   "metadata": {},
   "outputs": [],
   "source": [
    "mo1 = ha_regex.search('HaHaHa')\n",
    "mo1.group()\n",
    "# 'HaHaHa'"
   ]
  },
  {
   "cell_type": "code",
   "execution_count": null,
   "id": "f477c358-78ff-4646-abbf-f545bf3ede51",
   "metadata": {},
   "outputs": [],
   "source": [
    "mo2 = ha_regex.search('Ha')\n",
    "mo2 is None\n",
    "# True"
   ]
  },
  {
   "cell_type": "markdown",
   "id": "aa06502a",
   "metadata": {},
   "source": [
    "Instead of one number, you can specify a range with minimum and a maximum in between the curly brackets. For example, the regex (Ha){3,5} will match ‘HaHaHa’, ‘HaHaHaHa’, and ‘HaHaHaHaHa’."
   ]
  },
  {
   "cell_type": "code",
   "execution_count": null,
   "id": "4819ab70",
   "metadata": {},
   "outputs": [],
   "source": [
    "ha_regex = re.compile(r'(Ha){2,3}')\n",
    "mo1 = ha_regex.search('HaHaHaHa')\n",
    "mo1.group()\n",
    "# 'HaHaHa'"
   ]
  },
  {
   "cell_type": "markdown",
   "id": "045281d8",
   "metadata": {},
   "source": [
    "## Greedy and non-greedy matching\n",
    "\n",
    "Python’s regular expressions are greedy by default: in ambiguous situations they will match the longest string possible. The non-greedy version of the curly brackets, which matches the shortest string possible, has the closing curly bracket followed by a question mark."
   ]
  },
  {
   "cell_type": "code",
   "execution_count": null,
   "id": "0d807030-f029-4630-b8f5-f11b12d88680",
   "metadata": {},
   "outputs": [],
   "source": [
    "greedy_ha_regex = re.compile(r'(Ha){3,5}')"
   ]
  },
  {
   "cell_type": "code",
   "execution_count": null,
   "id": "f690dacb-5681-4cd5-bbef-7fae206117e8",
   "metadata": {},
   "outputs": [],
   "source": [
    "mo1 = greedy_ha_regex.search('HaHaHaHaHa')\n",
    "mo1.group()\n",
    "# 'HaHaHaHaHa'"
   ]
  },
  {
   "cell_type": "code",
   "execution_count": null,
   "id": "abad2468-f2ff-4a66-b0d7-9175e66ce816",
   "metadata": {},
   "outputs": [],
   "source": [
    "non_greedy_ha_regex = re.compile(r'(Ha){3,5}?')\n",
    "mo2 = non_greedy_ha_regex.search('HaHaHaHaHa')\n",
    "mo2.group()\n",
    "# 'HaHaHa'"
   ]
  },
  {
   "cell_type": "markdown",
   "id": "49aa11be",
   "metadata": {},
   "source": [
    "## The findall() method\n",
    "\n",
    "The `findall()` method will return the strings of every match in the searched string."
   ]
  },
  {
   "cell_type": "code",
   "execution_count": null,
   "id": "b1bb9d71",
   "metadata": {},
   "outputs": [],
   "source": [
    "phone_num_regex = re.compile(r'\\d\\d\\d-\\d\\d\\d-\\d\\d\\d\\d') # has no groups\n",
    "\n",
    "phone_num_regex.findall('Cell: 415-555-9999 Work: 212-555-0000')\n",
    "# ['415-555-9999', '212-555-0000']"
   ]
  },
  {
   "cell_type": "markdown",
   "id": "2dadd679",
   "metadata": {},
   "source": [
    "## Making your own character classes\n",
    "\n",
    "You can define your own character class using square brackets. For example, the character class *[aeiouAEIOU]* will match any vowel, both lowercase and uppercase."
   ]
  },
  {
   "cell_type": "code",
   "execution_count": null,
   "id": "fe13d8a8",
   "metadata": {},
   "outputs": [],
   "source": [
    "vowel_regex = re.compile(r'[aeiouAEIOU]')\n",
    "vowel_regex.findall('Robocop eats baby food. BABY FOOD.')\n",
    "# ['o', 'o', 'o', 'e', 'a', 'a', 'o', 'o', 'A', 'O', 'O']"
   ]
  },
  {
   "cell_type": "markdown",
   "id": "a95bd934",
   "metadata": {},
   "source": [
    "You can also include ranges of letters or numbers by using a hyphen. For example, the character class *[a-zA-Z0-9]* will match all lowercase letters, uppercase letters, and numbers.\n",
    "\n",
    "By placing a caret character (`^`) just after the character class’s opening bracket, you can make a negative character class that will match all the characters that are not in the character class:"
   ]
  },
  {
   "cell_type": "code",
   "execution_count": null,
   "id": "cef66df6",
   "metadata": {},
   "outputs": [],
   "source": [
    "consonant_regex = re.compile(r'[^aeiouAEIOU]')\n",
    "consonant_regex.findall('Robocop eats baby food. BABY FOOD.')\n",
    "# ['R', 'b', 'c', 'p', ' ', 't', 's', ' ', 'b', 'b', 'y', ' ', 'f', 'd', '.', '\n",
    "# ', 'B', 'B', 'Y', ' ', 'F', 'D', '.']"
   ]
  },
  {
   "cell_type": "markdown",
   "id": "6c561e16",
   "metadata": {},
   "source": [
    "## The Caret and Dollar sign characters\n",
    "\n",
    "- You can also use the caret symbol `^` at the start of a regex to indicate that a match must occur at the beginning of the searched text.\n",
    "- Likewise, you can put a dollar sign `$` at the end of the regex to indicate the string must end with this regex pattern.\n",
    "- And you can use the `^` and `$` together to indicate that the entire string must match the regex.\n",
    "\n",
    "The `r'^Hello`’ regular expression string matches strings that begin with ‘Hello’:"
   ]
  },
  {
   "cell_type": "code",
   "execution_count": null,
   "id": "0d6b55ef-59ce-47d7-8b5e-c371f788ee9f",
   "metadata": {},
   "outputs": [],
   "source": [
    "begins_with_hello = re.compile(r'^Hello')"
   ]
  },
  {
   "cell_type": "code",
   "execution_count": null,
   "id": "a2a1f300-1e6b-4c26-bc9c-fa00d1613e44",
   "metadata": {},
   "outputs": [],
   "source": [
    "begins_with_hello.search('Hello world!')\n",
    "# <_sre.SRE_Match object; span=(0, 5), match='Hello'>"
   ]
  },
  {
   "cell_type": "code",
   "execution_count": null,
   "id": "f89d89e0-9784-42cd-950b-7cb30a4b050d",
   "metadata": {},
   "outputs": [],
   "source": [
    "begins_with_hello.search('He said hello.') is None\n",
    "# True"
   ]
  },
  {
   "cell_type": "markdown",
   "id": "0340daf0",
   "metadata": {},
   "source": [
    "The `r'\\d\\$'` regular expression string matches strings that end with a numeric character from 0 to 9:"
   ]
  },
  {
   "cell_type": "code",
   "execution_count": null,
   "id": "66677fdb-ef39-40a0-b564-b2e04baa5429",
   "metadata": {},
   "outputs": [],
   "source": [
    "whole_string_is_num = re.compile(r'^\\d+$')"
   ]
  },
  {
   "cell_type": "code",
   "execution_count": null,
   "id": "ceb8189e-b60d-4d81-a776-71bf76d66590",
   "metadata": {},
   "outputs": [],
   "source": [
    "whole_string_is_num.search('1234567890')\n",
    "# <_sre.SRE_Match object; span=(0, 10), match='1234567890'>"
   ]
  },
  {
   "cell_type": "code",
   "execution_count": null,
   "id": "615768f2-381d-4e55-8a1b-643eaa37b424",
   "metadata": {},
   "outputs": [],
   "source": [
    "whole_string_is_num.search('12345xyz67890') is None\n",
    "# True"
   ]
  },
  {
   "cell_type": "code",
   "execution_count": null,
   "id": "3e2518be-d7b6-485c-a76c-37ea07e8fd2e",
   "metadata": {},
   "outputs": [],
   "source": [
    "whole_string_is_num.search('12 34567890') is None\n",
    "# True"
   ]
  },
  {
   "cell_type": "markdown",
   "id": "268abfb5",
   "metadata": {},
   "source": [
    "## The Wildcard character\n",
    "\n",
    "The `.` (or dot) character in a regular expression will match any character except for a newline:"
   ]
  },
  {
   "cell_type": "code",
   "execution_count": null,
   "id": "1f71216b",
   "metadata": {},
   "outputs": [],
   "source": [
    "at_regex = re.compile(r'.at')\n",
    "\n",
    "at_regex.findall('The cat in the hat sat on the flat mat.')\n",
    "['cat', 'hat', 'sat', 'lat', 'mat']"
   ]
  },
  {
   "cell_type": "markdown",
   "id": "2711f2f2",
   "metadata": {},
   "source": [
    "## Matching everything with Dot-Star"
   ]
  },
  {
   "cell_type": "code",
   "execution_count": null,
   "id": "1c965dfb-2f40-4a6e-ad19-0cc2c95ba583",
   "metadata": {},
   "outputs": [],
   "source": [
    "name_regex = re.compile(r'First Name: (.*) Last Name: (.*)')"
   ]
  },
  {
   "cell_type": "code",
   "execution_count": null,
   "id": "fc625cc7-44d3-44d3-a304-426597e8e54c",
   "metadata": {},
   "outputs": [],
   "source": [
    "mo = name_regex.search('First Name: Al Last Name: Sweigart')\n",
    "mo.group(1)\n",
    "# 'Al'"
   ]
  },
  {
   "cell_type": "code",
   "execution_count": null,
   "id": "7ead240a-be1a-42a0-9aa9-abe2a132b8f6",
   "metadata": {},
   "outputs": [],
   "source": [
    "mo.group(2)\n",
    "'Sweigart'"
   ]
  },
  {
   "cell_type": "markdown",
   "id": "76227413",
   "metadata": {},
   "source": [
    "The `.*` uses greedy mode: It will always try to match as much text as possible. To match any and all text in a non-greedy fashion, use the dot, star, and question mark (`.*?`). The question mark tells Python to match in a non-greedy way:"
   ]
  },
  {
   "cell_type": "code",
   "execution_count": null,
   "id": "1f731e5a-1d39-4503-bed3-9fa430762a95",
   "metadata": {},
   "outputs": [],
   "source": [
    "non_greedy_regex = re.compile(r'<.*?>')"
   ]
  },
  {
   "cell_type": "code",
   "execution_count": null,
   "id": "c043e0be-870a-477f-acf3-26e40ee054a5",
   "metadata": {},
   "outputs": [],
   "source": [
    "mo = non_greedy_regex.search('<To serve man> for dinner.>')\n",
    "mo.group()\n",
    "# '<To serve man>'"
   ]
  },
  {
   "cell_type": "code",
   "execution_count": null,
   "id": "8b410045-2c43-4fa0-b4e6-d8c93e27bc37",
   "metadata": {},
   "outputs": [],
   "source": [
    "greedy_regex = re.compile(r'<.*>')\n",
    "mo = greedy_regex.search('<To serve man> for dinner.>')\n",
    "mo.group()\n",
    "# '<To serve man> for dinner.>'"
   ]
  },
  {
   "cell_type": "markdown",
   "id": "b13892ab",
   "metadata": {},
   "source": [
    "## Matching newlines with the Dot character\n",
    "\n",
    "The dot-star will match everything except a newline. By passing `re.DOTALL` as the second argument to `re.compile()`, you can make the dot character match all characters, including the newline character:"
   ]
  },
  {
   "cell_type": "code",
   "execution_count": null,
   "id": "e6f6b5d8-8087-4a6e-87de-e26021c475c0",
   "metadata": {},
   "outputs": [],
   "source": [
    "no_newline_regex = re.compile('.*')"
   ]
  },
  {
   "cell_type": "code",
   "execution_count": null,
   "id": "bc94c944-e93a-47a1-a5bc-6e01f8689587",
   "metadata": {},
   "outputs": [],
   "source": [
    "no_newline_regex.search('Serve the public trust.\\nProtect the innocent.\\nUphold the law.').group()\n",
    "# 'Serve the public trust.'"
   ]
  },
  {
   "cell_type": "code",
   "execution_count": null,
   "id": "b9808f0d-c6df-4e6e-9a3f-54719c89bb0a",
   "metadata": {},
   "outputs": [],
   "source": [
    "newline_regex = re.compile('.*', re.DOTALL)\n",
    "newline_regex.search('Serve the public trust.\\nProtect the innocent.\\nUphold the law.').group()\n",
    "# 'Serve the public trust.\\nProtect the innocent.\\nUphold the law.'"
   ]
  },
  {
   "cell_type": "markdown",
   "id": "c5ec60ba",
   "metadata": {},
   "source": [
    "## Case-Insensitive matching\n",
    "\n",
    "To make your regex case-insensitive, you can pass `re.IGNORECASE` or `re.I` as a second argument to `re.compile()`:"
   ]
  },
  {
   "cell_type": "code",
   "execution_count": null,
   "id": "48d4a5d1-1917-4d9c-b772-a786d4ca1105",
   "metadata": {},
   "outputs": [],
   "source": [
    "robocop = re.compile(r'robocop', re.I)"
   ]
  },
  {
   "cell_type": "code",
   "execution_count": null,
   "id": "b2192552-cc3b-484c-9538-bed3fcda7297",
   "metadata": {},
   "outputs": [],
   "source": [
    "robocop.search('Robocop is part man, part machine, all cop.').group()\n",
    "# 'Robocop'"
   ]
  },
  {
   "cell_type": "code",
   "execution_count": null,
   "id": "67c2c789-55c1-40d8-8a41-e402040a73ec",
   "metadata": {},
   "outputs": [],
   "source": [
    "robocop.search('ROBOCOP protects the innocent.').group()\n",
    "# 'ROBOCOP'"
   ]
  },
  {
   "cell_type": "code",
   "execution_count": null,
   "id": "f0348aca-59f1-47be-83aa-2380d893a5e3",
   "metadata": {},
   "outputs": [],
   "source": [
    "robocop.search('Al, why does your programming book talk about robocop so much?').group()\n",
    "# 'robocop'"
   ]
  },
  {
   "cell_type": "markdown",
   "id": "60e85f79",
   "metadata": {},
   "source": [
    "## Substituting strings with the sub() method\n",
    "\n",
    "The `sub()` method for Regex objects is passed two arguments:\n",
    "\n",
    "1. The first argument is a string to replace any matches.\n",
    "2. The second is the string for the regular expression.\n",
    "\n",
    "The `sub()` method returns a string with the substitutions applied:"
   ]
  },
  {
   "cell_type": "code",
   "execution_count": null,
   "id": "3505a1ca",
   "metadata": {},
   "outputs": [],
   "source": [
    "names_regex = re.compile(r'Agent \\w+')\n",
    "\n",
    "names_regex.sub('CENSORED', 'Agent Alice gave the secret documents to Agent Bob.')\n",
    "# 'CENSORED gave the secret documents to CENSORED.'"
   ]
  },
  {
   "cell_type": "markdown",
   "id": "ddad6c15",
   "metadata": {},
   "source": [
    "## Managing complex Regexes\n",
    "\n",
    "To tell the `re.compile()` function to ignore whitespace and comments inside the regular expression string, “verbose mode” can be enabled by passing the variable `re.VERBOSE` as the second argument to `re.compile()`.\n",
    "\n",
    "Now instead of a hard-to-read regular expression like this:"
   ]
  },
  {
   "cell_type": "code",
   "execution_count": null,
   "id": "268eee25",
   "metadata": {},
   "outputs": [],
   "source": [
    "phone_regex = re.compile(r'((\\d{3}|\\(\\d{3}\\))?(\\s|-|\\.)?\\d{3}(\\s|-|\\.)\\d{4}(\\s*(ext|x|ext.)\\s*\\d{2,5})?)')"
   ]
  },
  {
   "cell_type": "markdown",
   "id": "8b26e273",
   "metadata": {},
   "source": [
    "you can spread the regular expression over multiple lines with comments like this:"
   ]
  },
  {
   "cell_type": "code",
   "execution_count": null,
   "id": "2988081e-3211-4f82-9351-482feaae0333",
   "metadata": {},
   "outputs": [],
   "source": [
    "phone_regex = re.compile(r'''(\n",
    "    (\\d{3}|\\(\\d{3}\\))?            # area code\n",
    "    (\\s|-|\\.)?                    # separator\n",
    "    \\d{3}                         # first 3 digits\n",
    "    (\\s|-|\\.)                     # separator\n",
    "    \\d{4}                         # last 4 digits\n",
    "    (\\s*(ext|x|ext.)\\s*\\d{2,5})?  # extension\n",
    "    )''', re.VERBOSE)"
   ]
  }
 ],
 "metadata": {
  "kernelspec": {
   "display_name": "Python 3 (ipykernel)",
   "language": "python",
   "name": "python3"
  },
  "language_info": {
   "codemirror_mode": {
    "name": "ipython",
    "version": 3
   },
   "file_extension": ".py",
   "mimetype": "text/x-python",
   "name": "python",
   "nbconvert_exporter": "python",
   "pygments_lexer": "ipython3",
   "version": "3.12.0"
  }
 },
 "nbformat": 4,
 "nbformat_minor": 5
}
