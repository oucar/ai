{
 "cells": [
  {
   "cell_type": "markdown",
   "id": "6be3b8de-de49-414c-a248-7d02e4d2a265",
   "metadata": {},
   "source": [
    "# README\n",
    "\n",
    "Most of the content in this \"tutorial\" was adapted from wilfredinni's python-cheatsheet ([GitHub repo](https://github.com/wilfredinni/python-cheatsheet)), which has been transformed from `.html` format into an interactive `.ipynb` format for seamless execution in [Jupyter Notebook](https://jupyter.org/) or [JupyterLab Desktop](https://github.com/jupyterlab/jupyterlab-desktop).\n",
    "\n",
    "## Table of Content\n",
    "\n",
    "* [README.ipynb](README.ipynb)\n",
    "* [cheatsheet.01.basics.ipynb](cheatsheet.01.basics.ipynb)\n",
    "* [cheatsheet.02.Built-in.Functions.ipynb](cheatsheet.02.Built-in.Functions.ipynb)\n",
    "* [cheatsheet.03.Control.Flow.ipynb](cheatsheet.03.Control.Flow.ipynb)\n",
    "* [cheatsheet.04.Functions.ipynb](cheatsheet.04.Functions.ipynb)\n",
    "* [cheatsheet.05.Lists.and.Tuples.ipynb](cheatsheet.05.Lists.and.Tuples.ipynb)\n",
    "* [cheatsheet.06.Dictionaries.ipynb](cheatsheet.06.Dictionaries.ipynb)\n",
    "* [cheatsheet.07.Sets.ipynb](cheatsheet.07.Sets.ipynb)\n",
    "* [cheatsheet.08.Comprehensions.ipynb](cheatsheet.08.Comprehensions.ipynb)\n",
    "* [cheatsheet.09.Manipulating.Strings.ipynb](cheatsheet.09.Manipulating.Strings.ipynb)\n",
    "* [cheatsheet.10.String.Formatting.ipynb](cheatsheet.10.String.Formatting.ipynb)\n",
    "* [cheatsheet.11.Regular.Expressions.ipynb](cheatsheet.11.Regular.Expressions.ipynb)\n",
    "* [cheatsheet.12.File.and.Directory.Paths.ipynb](cheatsheet.12.File.and.Directory.Paths.ipynb)\n",
    "* [cheatsheet.13.Reading.and.Writing.Files.ipynb](cheatsheet.13.Reading.and.Writing.Files.ipynb)\n",
    "* [cheatsheet.14.JSON.and.YAML.ipynb](cheatsheet.14.JSON.and.YAML.ipynb)\n",
    "* [cheatsheet.15.Exception.Handling.ipynb](cheatsheet.15.Exception.Handling.ipynb)\n",
    "* [cheatsheet.16.Debugging.ipynb](cheatsheet.16.Debugging.ipynb)\n",
    "* [cheatsheet.17.Args.and.Kwargs.ipynb](cheatsheet.17.Args.and.Kwargs.ipynb)\n",
    "* [cheatsheet.18.Context.Manager.ipynb](cheatsheet.18.Context.Manager.ipynb)\n",
    "* [cheatsheet.19.OOP.Basics.ipynb](cheatsheet.19.OOP.Basics.ipynb)\n",
    "* [cheatsheet.20.Dataclasses.ipynb](cheatsheet.20.Dataclasses.ipynb)\n",
    "* [cheatsheet.21.setup.ipynb](cheatsheet.21.setup.ipynb)\n",
    "* [cheatsheet.22.Main.top-level.script.ipynb](cheatsheet.22.Main.top-level.script.ipynb)\n",
    "* [cheatsheet.23.Virtual.Environment.ipynb](cheatsheet.23.Virtual.Environment.ipynb)\n",
    "* [standard.library.01.Copy.ipynb](standard.library.01.Copy.ipynb)\n",
    "* [standard.library.02.Datetime.ipynb](standard.library.02.Datetime.ipynb)\n",
    "* [standard.library.03.Itertools.ipynb](standard.library.03.Itertools.ipynb)\n",
    "* [standard.library.04.Json.ipynb](standard.library.04.Json.ipynb)\n",
    "* [standard.library.05.Os.ipynb](standard.library.05.Os.ipynb)\n",
    "* [standard.library.06.Pathlib.ipynb](standard.library.06.Pathlib.ipynb)\n",
    "* [standard.library.07.Random.ipynb](standard.library.07.Random.ipynb)\n",
    "* [standard.library.08.Shelve.ipynb](standard.library.08.Shelve.ipynb)\n",
    "* [standard.library.09.Zipfile.ipynb](standard.library.09.Zipfile.ipynb)\n"
   ]
  },
  {
   "cell_type": "markdown",
   "id": "7c5672aa-d68f-4abf-9664-71618ea4ac4a",
   "metadata": {},
   "source": [
    "## What is programming?\n",
    "\n",
    "At its core, programming is all about handling data. Think of programmers as data wranglers, using coding languages to shape and channel data, which are just representations of real-world things and concepts.\n",
    "\n",
    "To make life easier, every programming language comes with several basic data types, such as numbers, strings, or binary values. Building on these, you've got more complex types like lists (or arrays), dictionaries, maps, and objects.\n",
    "\n",
    "Imagine data stored in variables as labeled boxes. These labels help programmers keep track of what type of data is inside. As a program runs, it’s essentially moving and transforming these boxes of data through various statements and functions.\n",
    "\n",
    "Data wrangling requires a structured approach, and that's where \"flow control\" comes into play. It's the programming equivalent of a traffic signal, directing how tasks flow in the code. Sometimes actions run one after another (that's sequence), sometimes they repeat (loops), and sometimes they only happen under certain conditions (conditionals).\n",
    "\n",
    "In any programming language, a statement is just an instruction to do something with data. And when tasks get complex, they can be bundled into \"functions\" for efficiency and reuse throughout the code.\n",
    "\n",
    "As a beginner, grasp these concepts, and you're off to a solid start. And yes, being able to explain your code in plain English is a superpower in its own right!"
   ]
  },
  {
   "cell_type": "markdown",
   "id": "78efccf9-a8be-48c8-88c9-9ba4f227bdc4",
   "metadata": {},
   "source": [
    "## What is Python?\n",
    "\n",
    "Python is a programming language that is known for its simplicity, ease of use, and beginner-friendly nature. It is also widely popular in the field of artificial intelligence (AI)."
   ]
  },
  {
   "cell_type": "markdown",
   "id": "d72a5017-ee85-4a7b-b828-e814d3ef9838",
   "metadata": {},
   "source": [
    "## Setting up the Development Environment\n",
    "\n",
    "To set up a development environment on your computer, you can follow these steps:\n",
    "\n",
    "1. Install Homebrew by running the following command in your terminal:\n",
    "\n",
    "```bash\n",
    "/bin/bash -c \"$(curl -fsSL https://raw.githubusercontent.com/Homebrew/install/HEAD/install.sh)\"\n",
    "```\n",
    "\n",
    "2. Install JupyterLab Desktop using Homebrew by running the following command in your terminal:\n",
    "\n",
    "```bash\n",
    "brew install --cask jupyterlab\n",
    "```\n",
    "\n",
    "3. Manually set up the JupyterLab command-line interface (CLI) by running the following commands in your terminal:\n",
    "\n",
    "```bash\n",
    "sudo chmod 755 /Applications/JupyterLab.app/Contents/Resources/app/jlab\n",
    "sudo ln -s /Applications/JupyterLab.app/Contents/Resources/app/jlab /usr/local/bin/jlab\n",
    "```\n",
    "\n",
    "Once you have completed these steps, you can launch JupyterLab Desktop either by typing \"Jupyter\" in Spotlight and clicking on the JupyterLab Desktop icon, or by using the CLI command \"jlab\" in the terminal.\n",
    "\n",
    "Now you are ready to start using JupyterLab for your Python development."
   ]
  },
  {
   "cell_type": "markdown",
   "id": "9341e4cd-9a3a-4445-b6b4-11b036015eeb",
   "metadata": {},
   "source": [
    "## Get this tutorial to local\n",
    "\n",
    "1. Install `git` by running the following command in your terminal:\n",
    "\n",
    "```bash\n",
    "brew install git\n",
    "```\n",
    "\n",
    "2. Clone this repo:\n",
    "\n",
    "``` bash\n",
    "mkdir ~/github\n",
    "cd ~/github\n",
    "git clone ....\n",
    "```\n",
    "\n",
    "3. Launch JupyterLab-Desktop to view notebooks:\n",
    "\n",
    "```bash\n",
    "cd ~/github/...\n",
    "jlab .\n",
    "```"
   ]
  }
 ],
 "metadata": {
  "kernelspec": {
   "display_name": "Python 3 (ipykernel)",
   "language": "python",
   "name": "python3"
  },
  "language_info": {
   "codemirror_mode": {
    "name": "ipython",
    "version": 3
   },
   "file_extension": ".py",
   "mimetype": "text/x-python",
   "name": "python",
   "nbconvert_exporter": "python",
   "pygments_lexer": "ipython3",
   "version": "3.12.0"
  }
 },
 "nbformat": 4,
 "nbformat_minor": 5
}
